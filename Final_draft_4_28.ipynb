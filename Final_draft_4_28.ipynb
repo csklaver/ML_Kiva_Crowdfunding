{
  "nbformat": 4,
  "nbformat_minor": 0,
  "metadata": {
    "colab": {
      "name": "Final_draft_4_28.ipynb",
      "provenance": [],
      "collapsed_sections": [],
      "include_colab_link": true
    },
    "kernelspec": {
      "display_name": "Python 3",
      "language": "python",
      "name": "python3"
    },
    "language_info": {
      "codemirror_mode": {
        "name": "ipython",
        "version": 3
      },
      "file_extension": ".py",
      "mimetype": "text/x-python",
      "name": "python",
      "nbconvert_exporter": "python",
      "pygments_lexer": "ipython3",
      "version": "3.7.4"
    }
  },
  "cells": [
    {
      "cell_type": "markdown",
      "metadata": {
        "id": "view-in-github",
        "colab_type": "text"
      },
      "source": [
        "<a href=\"https://colab.research.google.com/github/csklaver/ML_Kiva_Crowdfunding/blob/main/Final_draft_4_28.ipynb\" target=\"_parent\"><img src=\"https://colab.research.google.com/assets/colab-badge.svg\" alt=\"Open In Colab\"/></a>"
      ]
    },
    {
      "cell_type": "markdown",
      "metadata": {
        "id": "j3KxPG8bMePi"
      },
      "source": [
        "<b>\n",
        "\n",
        "<p>\n",
        "<center>\n",
        "<font size=\"5\">\n",
        "Machine Learning I (DATS 6202), Spring 2020\n",
        "</font>\n",
        "</center>\n",
        "</p>\n",
        "\n",
        "<p>\n",
        "<center>\n",
        "<font size=\"4\">\n",
        "Kiva Crowdfunding: A Machine Learning Analysis​\n",
        "</font>\n",
        "</center>\n",
        "</p>\n",
        "\n",
        "<p>\n",
        "<center>\n",
        "<font size=\"3\">\n",
        "Data Science, Columbian College of Arts & Sciences, George Washington University\n",
        "</font>\n",
        "</center>\n",
        "</p>\n",
        "\n",
        "<p>\n",
        "<center>\n",
        "<font size=\"3\">\n",
        "Authors: Andrea Piolini, Caroline Sklaver, Anwesha Tomar, Sandra Valdés Salas​\n",
        "</font>\n",
        "</center>\n",
        "</p>\n",
        "\n",
        "</b>"
      ]
    },
    {
      "cell_type": "markdown",
      "metadata": {
        "id": "owa52F4FAOWI"
      },
      "source": [
        "# 1. Introduction"
      ]
    },
    {
      "cell_type": "markdown",
      "metadata": {
        "id": "Mu2kd61fOQgJ"
      },
      "source": [
        "\"Kiva.org is an online crowdfunding platform to extend financial services to poor and financially excluded people around the world\". Kiva has provided data on their world-wide financial loans over the past two years on kaggle.com. Our aim is to apply machine learning methods to gain insight into how Kiva determines the amount (USD) and repayment interval type (monthly, bullet, or irregular) of each loan. Throughout this project, we hope to highlight the most important features in determining how Kiva administers loans. Given the number of data points in the original dataset, we have decided to focus on Latin American countries out of personal interest and to narrow our focus. Kiva provides features such as number of lenders, borrower's gender(s), loan use activity, and more. Our goals in this project are to build models to predict the loan amount (regression) and the repayment interval type (classification).  This information can inform both lenders and borrowers in the Kiva crowdfunding process. To achieve these goals we will preprocess the data (merging, cleaning, handling identifiers and missing values, etc.), perform exploratory data analyses, split the data into training, validation, and testing sets, chose a variety of models for both regression and classification problems, and fine-tune the hyperparameters of those models. In all, we hope to gain experience by applying our knowledge from our Machine Learning I course to real-world data.\n"
      ]
    },
    {
      "cell_type": "markdown",
      "metadata": {
        "id": "YMZYIDgBMePv"
      },
      "source": [
        "# 2. Loading and preparing the data"
      ]
    },
    {
      "cell_type": "markdown",
      "metadata": {
        "id": "yZjY7vDqMePj"
      },
      "source": [
        "## 2.1 Notebook Configuration"
      ]
    },
    {
      "cell_type": "code",
      "metadata": {
        "id": "TIf9sIdCyGtm",
        "outputId": "9234c736-d25c-4aec-c732-428206bba964",
        "colab": {
          "base_uri": "https://localhost:8080/",
          "height": 122
        }
      },
      "source": [
        "# Mount Google Drive\n",
        "\n",
        "from google.colab import drive\n",
        "drive.mount('/content/drive')"
      ],
      "execution_count": null,
      "outputs": [
        {
          "output_type": "stream",
          "text": [
            "Go to this URL in a browser: https://accounts.google.com/o/oauth2/auth?client_id=947318989803-6bn6qk8qdgf4n4g3pfee6491hc0brc4i.apps.googleusercontent.com&redirect_uri=urn%3aietf%3awg%3aoauth%3a2.0%3aoob&response_type=code&scope=email%20https%3a%2f%2fwww.googleapis.com%2fauth%2fdocs.test%20https%3a%2f%2fwww.googleapis.com%2fauth%2fdrive%20https%3a%2f%2fwww.googleapis.com%2fauth%2fdrive.photos.readonly%20https%3a%2f%2fwww.googleapis.com%2fauth%2fpeopleapi.readonly\n",
            "\n",
            "Enter your authorization code:\n",
            "··········\n",
            "Mounted at /content/drive\n"
          ],
          "name": "stdout"
        }
      ]
    },
    {
      "cell_type": "code",
      "metadata": {
        "id": "9PLzaHzHMePk",
        "outputId": "c9754b04-c9e6-4d65-df43-547683c7ed4f",
        "colab": {
          "base_uri": "https://localhost:8080/",
          "height": 51
        }
      },
      "source": [
        "# Set working directory\n",
        "%cd /content/drive"
      ],
      "execution_count": null,
      "outputs": [
        {
          "output_type": "stream",
          "text": [
            "[Errno 2] No such file or directory: '/content/drive'\n",
            "/content\n"
          ],
          "name": "stdout"
        }
      ]
    },
    {
      "cell_type": "code",
      "metadata": {
        "id": "tz9We9J9MePq"
      },
      "source": [
        "import warnings\n",
        "\n",
        "# Ignore warnings\n",
        "warnings.filterwarnings('ignore')"
      ],
      "execution_count": null,
      "outputs": []
    },
    {
      "cell_type": "markdown",
      "metadata": {
        "id": "QjBUbGWzMePx"
      },
      "source": [
        "## 2.2 Import all datasets"
      ]
    },
    {
      "cell_type": "code",
      "metadata": {
        "id": "XaBC-miZMePx",
        "outputId": "1ccc381c-fde3-48f2-bd7e-47019e94589a",
        "colab": {
          "base_uri": "https://localhost:8080/",
          "height": 463
        }
      },
      "source": [
        "import pandas as pd\n",
        "\n",
        "# load loans dataset\n",
        "df_raw_loans = pd.read_csv(\"kiva_loans.csv\", header=0) #main dataset\n",
        "\n",
        "# load MPI dataset\n",
        "df_mpi_new = pd.read_csv(\"MPI.csv\", header=0)"
      ],
      "execution_count": null,
      "outputs": [
        {
          "output_type": "error",
          "ename": "FileNotFoundError",
          "evalue": "ignored",
          "traceback": [
            "\u001b[0;31m---------------------------------------------------------------------------\u001b[0m",
            "\u001b[0;31mFileNotFoundError\u001b[0m                         Traceback (most recent call last)",
            "\u001b[0;32m<ipython-input-26-27e049e4d1ef>\u001b[0m in \u001b[0;36m<module>\u001b[0;34m()\u001b[0m\n\u001b[1;32m      2\u001b[0m \u001b[0;34m\u001b[0m\u001b[0m\n\u001b[1;32m      3\u001b[0m \u001b[0;31m# load loans dataset\u001b[0m\u001b[0;34m\u001b[0m\u001b[0;34m\u001b[0m\u001b[0;34m\u001b[0m\u001b[0m\n\u001b[0;32m----> 4\u001b[0;31m \u001b[0mdf_raw_loans\u001b[0m \u001b[0;34m=\u001b[0m \u001b[0mpd\u001b[0m\u001b[0;34m.\u001b[0m\u001b[0mread_csv\u001b[0m\u001b[0;34m(\u001b[0m\u001b[0mabspath\u001b[0m\u001b[0;34m+\u001b[0m\u001b[0;34m\"kiva_loans.csv\"\u001b[0m\u001b[0;34m,\u001b[0m \u001b[0mheader\u001b[0m\u001b[0;34m=\u001b[0m\u001b[0;36m0\u001b[0m\u001b[0;34m)\u001b[0m \u001b[0;31m#main dataset\u001b[0m\u001b[0;34m\u001b[0m\u001b[0;34m\u001b[0m\u001b[0m\n\u001b[0m\u001b[1;32m      5\u001b[0m \u001b[0;34m\u001b[0m\u001b[0m\n\u001b[1;32m      6\u001b[0m \u001b[0;31m# load MPI dataset\u001b[0m\u001b[0;34m\u001b[0m\u001b[0;34m\u001b[0m\u001b[0;34m\u001b[0m\u001b[0m\n",
            "\u001b[0;32m/usr/local/lib/python3.6/dist-packages/pandas/io/parsers.py\u001b[0m in \u001b[0;36mparser_f\u001b[0;34m(filepath_or_buffer, sep, delimiter, header, names, index_col, usecols, squeeze, prefix, mangle_dupe_cols, dtype, engine, converters, true_values, false_values, skipinitialspace, skiprows, skipfooter, nrows, na_values, keep_default_na, na_filter, verbose, skip_blank_lines, parse_dates, infer_datetime_format, keep_date_col, date_parser, dayfirst, cache_dates, iterator, chunksize, compression, thousands, decimal, lineterminator, quotechar, quoting, doublequote, escapechar, comment, encoding, dialect, error_bad_lines, warn_bad_lines, delim_whitespace, low_memory, memory_map, float_precision)\u001b[0m\n\u001b[1;32m    674\u001b[0m         )\n\u001b[1;32m    675\u001b[0m \u001b[0;34m\u001b[0m\u001b[0m\n\u001b[0;32m--> 676\u001b[0;31m         \u001b[0;32mreturn\u001b[0m \u001b[0m_read\u001b[0m\u001b[0;34m(\u001b[0m\u001b[0mfilepath_or_buffer\u001b[0m\u001b[0;34m,\u001b[0m \u001b[0mkwds\u001b[0m\u001b[0;34m)\u001b[0m\u001b[0;34m\u001b[0m\u001b[0;34m\u001b[0m\u001b[0m\n\u001b[0m\u001b[1;32m    677\u001b[0m \u001b[0;34m\u001b[0m\u001b[0m\n\u001b[1;32m    678\u001b[0m     \u001b[0mparser_f\u001b[0m\u001b[0;34m.\u001b[0m\u001b[0m__name__\u001b[0m \u001b[0;34m=\u001b[0m \u001b[0mname\u001b[0m\u001b[0;34m\u001b[0m\u001b[0;34m\u001b[0m\u001b[0m\n",
            "\u001b[0;32m/usr/local/lib/python3.6/dist-packages/pandas/io/parsers.py\u001b[0m in \u001b[0;36m_read\u001b[0;34m(filepath_or_buffer, kwds)\u001b[0m\n\u001b[1;32m    446\u001b[0m \u001b[0;34m\u001b[0m\u001b[0m\n\u001b[1;32m    447\u001b[0m     \u001b[0;31m# Create the parser.\u001b[0m\u001b[0;34m\u001b[0m\u001b[0;34m\u001b[0m\u001b[0;34m\u001b[0m\u001b[0m\n\u001b[0;32m--> 448\u001b[0;31m     \u001b[0mparser\u001b[0m \u001b[0;34m=\u001b[0m \u001b[0mTextFileReader\u001b[0m\u001b[0;34m(\u001b[0m\u001b[0mfp_or_buf\u001b[0m\u001b[0;34m,\u001b[0m \u001b[0;34m**\u001b[0m\u001b[0mkwds\u001b[0m\u001b[0;34m)\u001b[0m\u001b[0;34m\u001b[0m\u001b[0;34m\u001b[0m\u001b[0m\n\u001b[0m\u001b[1;32m    449\u001b[0m \u001b[0;34m\u001b[0m\u001b[0m\n\u001b[1;32m    450\u001b[0m     \u001b[0;32mif\u001b[0m \u001b[0mchunksize\u001b[0m \u001b[0;32mor\u001b[0m \u001b[0miterator\u001b[0m\u001b[0;34m:\u001b[0m\u001b[0;34m\u001b[0m\u001b[0;34m\u001b[0m\u001b[0m\n",
            "\u001b[0;32m/usr/local/lib/python3.6/dist-packages/pandas/io/parsers.py\u001b[0m in \u001b[0;36m__init__\u001b[0;34m(self, f, engine, **kwds)\u001b[0m\n\u001b[1;32m    878\u001b[0m             \u001b[0mself\u001b[0m\u001b[0;34m.\u001b[0m\u001b[0moptions\u001b[0m\u001b[0;34m[\u001b[0m\u001b[0;34m\"has_index_names\"\u001b[0m\u001b[0;34m]\u001b[0m \u001b[0;34m=\u001b[0m \u001b[0mkwds\u001b[0m\u001b[0;34m[\u001b[0m\u001b[0;34m\"has_index_names\"\u001b[0m\u001b[0;34m]\u001b[0m\u001b[0;34m\u001b[0m\u001b[0;34m\u001b[0m\u001b[0m\n\u001b[1;32m    879\u001b[0m \u001b[0;34m\u001b[0m\u001b[0m\n\u001b[0;32m--> 880\u001b[0;31m         \u001b[0mself\u001b[0m\u001b[0;34m.\u001b[0m\u001b[0m_make_engine\u001b[0m\u001b[0;34m(\u001b[0m\u001b[0mself\u001b[0m\u001b[0;34m.\u001b[0m\u001b[0mengine\u001b[0m\u001b[0;34m)\u001b[0m\u001b[0;34m\u001b[0m\u001b[0;34m\u001b[0m\u001b[0m\n\u001b[0m\u001b[1;32m    881\u001b[0m \u001b[0;34m\u001b[0m\u001b[0m\n\u001b[1;32m    882\u001b[0m     \u001b[0;32mdef\u001b[0m \u001b[0mclose\u001b[0m\u001b[0;34m(\u001b[0m\u001b[0mself\u001b[0m\u001b[0;34m)\u001b[0m\u001b[0;34m:\u001b[0m\u001b[0;34m\u001b[0m\u001b[0;34m\u001b[0m\u001b[0m\n",
            "\u001b[0;32m/usr/local/lib/python3.6/dist-packages/pandas/io/parsers.py\u001b[0m in \u001b[0;36m_make_engine\u001b[0;34m(self, engine)\u001b[0m\n\u001b[1;32m   1112\u001b[0m     \u001b[0;32mdef\u001b[0m \u001b[0m_make_engine\u001b[0m\u001b[0;34m(\u001b[0m\u001b[0mself\u001b[0m\u001b[0;34m,\u001b[0m \u001b[0mengine\u001b[0m\u001b[0;34m=\u001b[0m\u001b[0;34m\"c\"\u001b[0m\u001b[0;34m)\u001b[0m\u001b[0;34m:\u001b[0m\u001b[0;34m\u001b[0m\u001b[0;34m\u001b[0m\u001b[0m\n\u001b[1;32m   1113\u001b[0m         \u001b[0;32mif\u001b[0m \u001b[0mengine\u001b[0m \u001b[0;34m==\u001b[0m \u001b[0;34m\"c\"\u001b[0m\u001b[0;34m:\u001b[0m\u001b[0;34m\u001b[0m\u001b[0;34m\u001b[0m\u001b[0m\n\u001b[0;32m-> 1114\u001b[0;31m             \u001b[0mself\u001b[0m\u001b[0;34m.\u001b[0m\u001b[0m_engine\u001b[0m \u001b[0;34m=\u001b[0m \u001b[0mCParserWrapper\u001b[0m\u001b[0;34m(\u001b[0m\u001b[0mself\u001b[0m\u001b[0;34m.\u001b[0m\u001b[0mf\u001b[0m\u001b[0;34m,\u001b[0m \u001b[0;34m**\u001b[0m\u001b[0mself\u001b[0m\u001b[0;34m.\u001b[0m\u001b[0moptions\u001b[0m\u001b[0;34m)\u001b[0m\u001b[0;34m\u001b[0m\u001b[0;34m\u001b[0m\u001b[0m\n\u001b[0m\u001b[1;32m   1115\u001b[0m         \u001b[0;32melse\u001b[0m\u001b[0;34m:\u001b[0m\u001b[0;34m\u001b[0m\u001b[0;34m\u001b[0m\u001b[0m\n\u001b[1;32m   1116\u001b[0m             \u001b[0;32mif\u001b[0m \u001b[0mengine\u001b[0m \u001b[0;34m==\u001b[0m \u001b[0;34m\"python\"\u001b[0m\u001b[0;34m:\u001b[0m\u001b[0;34m\u001b[0m\u001b[0;34m\u001b[0m\u001b[0m\n",
            "\u001b[0;32m/usr/local/lib/python3.6/dist-packages/pandas/io/parsers.py\u001b[0m in \u001b[0;36m__init__\u001b[0;34m(self, src, **kwds)\u001b[0m\n\u001b[1;32m   1889\u001b[0m         \u001b[0mkwds\u001b[0m\u001b[0;34m[\u001b[0m\u001b[0;34m\"usecols\"\u001b[0m\u001b[0;34m]\u001b[0m \u001b[0;34m=\u001b[0m \u001b[0mself\u001b[0m\u001b[0;34m.\u001b[0m\u001b[0musecols\u001b[0m\u001b[0;34m\u001b[0m\u001b[0;34m\u001b[0m\u001b[0m\n\u001b[1;32m   1890\u001b[0m \u001b[0;34m\u001b[0m\u001b[0m\n\u001b[0;32m-> 1891\u001b[0;31m         \u001b[0mself\u001b[0m\u001b[0;34m.\u001b[0m\u001b[0m_reader\u001b[0m \u001b[0;34m=\u001b[0m \u001b[0mparsers\u001b[0m\u001b[0;34m.\u001b[0m\u001b[0mTextReader\u001b[0m\u001b[0;34m(\u001b[0m\u001b[0msrc\u001b[0m\u001b[0;34m,\u001b[0m \u001b[0;34m**\u001b[0m\u001b[0mkwds\u001b[0m\u001b[0;34m)\u001b[0m\u001b[0;34m\u001b[0m\u001b[0;34m\u001b[0m\u001b[0m\n\u001b[0m\u001b[1;32m   1892\u001b[0m         \u001b[0mself\u001b[0m\u001b[0;34m.\u001b[0m\u001b[0munnamed_cols\u001b[0m \u001b[0;34m=\u001b[0m \u001b[0mself\u001b[0m\u001b[0;34m.\u001b[0m\u001b[0m_reader\u001b[0m\u001b[0;34m.\u001b[0m\u001b[0munnamed_cols\u001b[0m\u001b[0;34m\u001b[0m\u001b[0;34m\u001b[0m\u001b[0m\n\u001b[1;32m   1893\u001b[0m \u001b[0;34m\u001b[0m\u001b[0m\n",
            "\u001b[0;32mpandas/_libs/parsers.pyx\u001b[0m in \u001b[0;36mpandas._libs.parsers.TextReader.__cinit__\u001b[0;34m()\u001b[0m\n",
            "\u001b[0;32mpandas/_libs/parsers.pyx\u001b[0m in \u001b[0;36mpandas._libs.parsers.TextReader._setup_parser_source\u001b[0;34m()\u001b[0m\n",
            "\u001b[0;31mFileNotFoundError\u001b[0m: [Errno 2] File /content/drive/My Drive/ML1_FinalProject/Final Draft/kiva_loans.csv does not exist: '/content/drive/My Drive/ML1_FinalProject/Final Draft/kiva_loans.csv'"
          ]
        }
      ]
    },
    {
      "cell_type": "markdown",
      "metadata": {
        "id": "GskojsDRMeP_"
      },
      "source": [
        "## 2.3 Merge loans dataset and MPI dataset"
      ]
    },
    {
      "cell_type": "code",
      "metadata": {
        "id": "5zz81SpvMeQR",
        "outputId": "dbf149d1-a734-43aa-c912-a8600144d1d8",
        "colab": {
          "base_uri": "https://localhost:8080/",
          "height": 266
        }
      },
      "source": [
        "# Print first lines of df_mpi_new\n",
        "df_mpi_new.head()"
      ],
      "execution_count": null,
      "outputs": [
        {
          "output_type": "execute_result",
          "data": {
            "text/html": [
              "<div>\n",
              "<style scoped>\n",
              "    .dataframe tbody tr th:only-of-type {\n",
              "        vertical-align: middle;\n",
              "    }\n",
              "\n",
              "    .dataframe tbody tr th {\n",
              "        vertical-align: top;\n",
              "    }\n",
              "\n",
              "    .dataframe thead th {\n",
              "        text-align: right;\n",
              "    }\n",
              "</style>\n",
              "<table border=\"1\" class=\"dataframe\">\n",
              "  <thead>\n",
              "    <tr style=\"text-align: right;\">\n",
              "      <th></th>\n",
              "      <th>HDI Rank</th>\n",
              "      <th>Country</th>\n",
              "      <th>2007</th>\n",
              "      <th>Unnamed: 3</th>\n",
              "      <th>2008</th>\n",
              "      <th>Unnamed: 5</th>\n",
              "      <th>2009</th>\n",
              "      <th>Unnamed: 7</th>\n",
              "      <th>2010</th>\n",
              "      <th>Unnamed: 9</th>\n",
              "      <th>2011</th>\n",
              "      <th>Unnamed: 11</th>\n",
              "      <th>2012</th>\n",
              "      <th>Unnamed: 13</th>\n",
              "      <th>2013</th>\n",
              "      <th>Unnamed: 15</th>\n",
              "      <th>2014</th>\n",
              "      <th>Unnamed: 17</th>\n",
              "      <th>2015</th>\n",
              "      <th>Unnamed: 19</th>\n",
              "      <th>2016</th>\n",
              "      <th>Unnamed: 21</th>\n",
              "      <th>2017</th>\n",
              "      <th>Unnamed: 23</th>\n",
              "      <th>2018</th>\n",
              "      <th>Unnamed: 25</th>\n",
              "      <th>2007-2018</th>\n",
              "      <th>Unnamed: 27</th>\n",
              "    </tr>\n",
              "  </thead>\n",
              "  <tbody>\n",
              "    <tr>\n",
              "      <th>0</th>\n",
              "      <td>Multidimensional poverty index (MPI)\\nnull\\nDi...</td>\n",
              "      <td>NaN</td>\n",
              "      <td>NaN</td>\n",
              "      <td>NaN</td>\n",
              "      <td>NaN</td>\n",
              "      <td>NaN</td>\n",
              "      <td>NaN</td>\n",
              "      <td>NaN</td>\n",
              "      <td>NaN</td>\n",
              "      <td>NaN</td>\n",
              "      <td>NaN</td>\n",
              "      <td>NaN</td>\n",
              "      <td>NaN</td>\n",
              "      <td>NaN</td>\n",
              "      <td>NaN</td>\n",
              "      <td>NaN</td>\n",
              "      <td>NaN</td>\n",
              "      <td>NaN</td>\n",
              "      <td>NaN</td>\n",
              "      <td>NaN</td>\n",
              "      <td>NaN</td>\n",
              "      <td>NaN</td>\n",
              "      <td>NaN</td>\n",
              "      <td>NaN</td>\n",
              "      <td>NaN</td>\n",
              "      <td>NaN</td>\n",
              "      <td>NaN</td>\n",
              "      <td>NaN</td>\n",
              "    </tr>\n",
              "    <tr>\n",
              "      <th>1</th>\n",
              "      <td>170</td>\n",
              "      <td>Afghanistan</td>\n",
              "      <td>..</td>\n",
              "      <td>NaN</td>\n",
              "      <td>..</td>\n",
              "      <td>NaN</td>\n",
              "      <td>..</td>\n",
              "      <td>NaN</td>\n",
              "      <td>..</td>\n",
              "      <td>NaN</td>\n",
              "      <td>..</td>\n",
              "      <td>NaN</td>\n",
              "      <td>..</td>\n",
              "      <td>NaN</td>\n",
              "      <td>..</td>\n",
              "      <td>NaN</td>\n",
              "      <td>..</td>\n",
              "      <td>NaN</td>\n",
              "      <td>..</td>\n",
              "      <td>NaN</td>\n",
              "      <td>0.272</td>\n",
              "      <td>a,b</td>\n",
              "      <td>..</td>\n",
              "      <td>NaN</td>\n",
              "      <td>..</td>\n",
              "      <td>NaN</td>\n",
              "      <td>0.272</td>\n",
              "      <td>a,b</td>\n",
              "    </tr>\n",
              "    <tr>\n",
              "      <th>2</th>\n",
              "      <td>69</td>\n",
              "      <td>Albania</td>\n",
              "      <td>..</td>\n",
              "      <td>NaN</td>\n",
              "      <td>..</td>\n",
              "      <td>NaN</td>\n",
              "      <td>..</td>\n",
              "      <td>NaN</td>\n",
              "      <td>..</td>\n",
              "      <td>NaN</td>\n",
              "      <td>..</td>\n",
              "      <td>NaN</td>\n",
              "      <td>..</td>\n",
              "      <td>NaN</td>\n",
              "      <td>..</td>\n",
              "      <td>NaN</td>\n",
              "      <td>..</td>\n",
              "      <td>NaN</td>\n",
              "      <td>..</td>\n",
              "      <td>NaN</td>\n",
              "      <td>..</td>\n",
              "      <td>NaN</td>\n",
              "      <td>..</td>\n",
              "      <td>NaN</td>\n",
              "      <td>0.003</td>\n",
              "      <td>a</td>\n",
              "      <td>0.003</td>\n",
              "      <td>a</td>\n",
              "    </tr>\n",
              "    <tr>\n",
              "      <th>3</th>\n",
              "      <td>82</td>\n",
              "      <td>Algeria</td>\n",
              "      <td>..</td>\n",
              "      <td>NaN</td>\n",
              "      <td>..</td>\n",
              "      <td>NaN</td>\n",
              "      <td>..</td>\n",
              "      <td>NaN</td>\n",
              "      <td>..</td>\n",
              "      <td>NaN</td>\n",
              "      <td>..</td>\n",
              "      <td>NaN</td>\n",
              "      <td>..</td>\n",
              "      <td>NaN</td>\n",
              "      <td>0.008</td>\n",
              "      <td>a</td>\n",
              "      <td>..</td>\n",
              "      <td>NaN</td>\n",
              "      <td>..</td>\n",
              "      <td>NaN</td>\n",
              "      <td>..</td>\n",
              "      <td>NaN</td>\n",
              "      <td>..</td>\n",
              "      <td>NaN</td>\n",
              "      <td>..</td>\n",
              "      <td>NaN</td>\n",
              "      <td>0.008</td>\n",
              "      <td>a</td>\n",
              "    </tr>\n",
              "    <tr>\n",
              "      <th>4</th>\n",
              "      <td>149</td>\n",
              "      <td>Angola</td>\n",
              "      <td>..</td>\n",
              "      <td>NaN</td>\n",
              "      <td>..</td>\n",
              "      <td>NaN</td>\n",
              "      <td>..</td>\n",
              "      <td>NaN</td>\n",
              "      <td>..</td>\n",
              "      <td>NaN</td>\n",
              "      <td>..</td>\n",
              "      <td>NaN</td>\n",
              "      <td>..</td>\n",
              "      <td>NaN</td>\n",
              "      <td>..</td>\n",
              "      <td>NaN</td>\n",
              "      <td>..</td>\n",
              "      <td>NaN</td>\n",
              "      <td>..</td>\n",
              "      <td>NaN</td>\n",
              "      <td>0.282</td>\n",
              "      <td>a</td>\n",
              "      <td>..</td>\n",
              "      <td>NaN</td>\n",
              "      <td>..</td>\n",
              "      <td>NaN</td>\n",
              "      <td>0.282</td>\n",
              "      <td>a</td>\n",
              "    </tr>\n",
              "  </tbody>\n",
              "</table>\n",
              "</div>"
            ],
            "text/plain": [
              "                                            HDI Rank  ... Unnamed: 27\n",
              "0  Multidimensional poverty index (MPI)\\nnull\\nDi...  ...         NaN\n",
              "1                                                170  ...         a,b\n",
              "2                                                 69  ...           a\n",
              "3                                                 82  ...           a\n",
              "4                                                149  ...           a\n",
              "\n",
              "[5 rows x 28 columns]"
            ]
          },
          "metadata": {
            "tags": []
          },
          "execution_count": 6
        }
      ]
    },
    {
      "cell_type": "code",
      "metadata": {
        "id": "OccU4xLxMeQU",
        "outputId": "5047c5fe-ff29-40c0-bc33-b7c39aa271d0",
        "colab": {
          "base_uri": "https://localhost:8080/",
          "height": 195
        }
      },
      "source": [
        "# create new dataframe with just country and MPI\n",
        "df_mpi_new_subset = pd.DataFrame()\n",
        "df_mpi_new_subset['country'] = df_mpi_new['Country']\n",
        "df_mpi_new_subset['MPI'] = df_mpi_new['2007-2018']\n",
        "\n",
        "#Print head of df_mpi_new_subset\n",
        "df_mpi_new_subset.head()"
      ],
      "execution_count": null,
      "outputs": [
        {
          "output_type": "execute_result",
          "data": {
            "text/html": [
              "<div>\n",
              "<style scoped>\n",
              "    .dataframe tbody tr th:only-of-type {\n",
              "        vertical-align: middle;\n",
              "    }\n",
              "\n",
              "    .dataframe tbody tr th {\n",
              "        vertical-align: top;\n",
              "    }\n",
              "\n",
              "    .dataframe thead th {\n",
              "        text-align: right;\n",
              "    }\n",
              "</style>\n",
              "<table border=\"1\" class=\"dataframe\">\n",
              "  <thead>\n",
              "    <tr style=\"text-align: right;\">\n",
              "      <th></th>\n",
              "      <th>country</th>\n",
              "      <th>MPI</th>\n",
              "    </tr>\n",
              "  </thead>\n",
              "  <tbody>\n",
              "    <tr>\n",
              "      <th>0</th>\n",
              "      <td>NaN</td>\n",
              "      <td>NaN</td>\n",
              "    </tr>\n",
              "    <tr>\n",
              "      <th>1</th>\n",
              "      <td>Afghanistan</td>\n",
              "      <td>0.272</td>\n",
              "    </tr>\n",
              "    <tr>\n",
              "      <th>2</th>\n",
              "      <td>Albania</td>\n",
              "      <td>0.003</td>\n",
              "    </tr>\n",
              "    <tr>\n",
              "      <th>3</th>\n",
              "      <td>Algeria</td>\n",
              "      <td>0.008</td>\n",
              "    </tr>\n",
              "    <tr>\n",
              "      <th>4</th>\n",
              "      <td>Angola</td>\n",
              "      <td>0.282</td>\n",
              "    </tr>\n",
              "  </tbody>\n",
              "</table>\n",
              "</div>"
            ],
            "text/plain": [
              "        country    MPI\n",
              "0           NaN    NaN\n",
              "1   Afghanistan  0.272\n",
              "2       Albania  0.003\n",
              "3       Algeria  0.008\n",
              "4        Angola  0.282"
            ]
          },
          "metadata": {
            "tags": []
          },
          "execution_count": 7
        }
      ]
    },
    {
      "cell_type": "code",
      "metadata": {
        "id": "QbP82bMAMeQb"
      },
      "source": [
        "#Drop NaNs from MPI subset\n",
        "df_mpi_new_subset.dropna(inplace=True)"
      ],
      "execution_count": null,
      "outputs": []
    },
    {
      "cell_type": "code",
      "metadata": {
        "id": "RwxPuR3kMeQe"
      },
      "source": [
        "# get rid of whitespace in MPI subset\n",
        "df_mpi_new_subset['country'] = df_mpi_new_subset['country'].str.lstrip()"
      ],
      "execution_count": null,
      "outputs": []
    },
    {
      "cell_type": "code",
      "metadata": {
        "id": "oKL8SmrkMeQh"
      },
      "source": [
        "# Merge df_raw_loans and df_mpi_new_subset\n",
        "df_raw_final = pd.merge(df_raw_loans,df_mpi_new_subset, on='country',how='left')"
      ],
      "execution_count": null,
      "outputs": []
    },
    {
      "cell_type": "code",
      "metadata": {
        "id": "OF9xV7tzOiKs",
        "outputId": "ea9197d0-fcf5-4ab2-accf-d882c58d04bc",
        "colab": {
          "base_uri": "https://localhost:8080/",
          "height": 77
        }
      },
      "source": [
        "# Print the dimension of df_raw_final\n",
        "pd.DataFrame([[df_raw_final.shape[0], df_raw_final.shape[1]]], columns=['# rows', '# columns'])"
      ],
      "execution_count": null,
      "outputs": [
        {
          "output_type": "execute_result",
          "data": {
            "text/html": [
              "<div>\n",
              "<style scoped>\n",
              "    .dataframe tbody tr th:only-of-type {\n",
              "        vertical-align: middle;\n",
              "    }\n",
              "\n",
              "    .dataframe tbody tr th {\n",
              "        vertical-align: top;\n",
              "    }\n",
              "\n",
              "    .dataframe thead th {\n",
              "        text-align: right;\n",
              "    }\n",
              "</style>\n",
              "<table border=\"1\" class=\"dataframe\">\n",
              "  <thead>\n",
              "    <tr style=\"text-align: right;\">\n",
              "      <th></th>\n",
              "      <th># rows</th>\n",
              "      <th># columns</th>\n",
              "    </tr>\n",
              "  </thead>\n",
              "  <tbody>\n",
              "    <tr>\n",
              "      <th>0</th>\n",
              "      <td>671205</td>\n",
              "      <td>21</td>\n",
              "    </tr>\n",
              "  </tbody>\n",
              "</table>\n",
              "</div>"
            ],
            "text/plain": [
              "   # rows  # columns\n",
              "0  671205         21"
            ]
          },
          "metadata": {
            "tags": []
          },
          "execution_count": 11
        }
      ]
    },
    {
      "cell_type": "code",
      "metadata": {
        "id": "MNlRNtos8YVJ"
      },
      "source": [
        "#Convert MPI to numeric\n",
        "df_raw_final['MPI'] = df_raw_final['MPI'].apply(pd.to_numeric, errors='coerce')"
      ],
      "execution_count": null,
      "outputs": []
    },
    {
      "cell_type": "markdown",
      "metadata": {
        "id": "TpAtHY8N8YWw"
      },
      "source": [
        "## 2.4 Group activities"
      ]
    },
    {
      "cell_type": "code",
      "metadata": {
        "id": "LHMLWOC8MeRJ"
      },
      "source": [
        "# Define function to group items\n",
        "def group_items(item, group):\n",
        "    for key, value in group.items():\n",
        "        if item in value:\n",
        "            return key"
      ],
      "execution_count": null,
      "outputs": []
    },
    {
      "cell_type": "code",
      "metadata": {
        "id": "zJKj2U6l8YWw"
      },
      "source": [
        "# Create a dictionary of activities\n",
        "activities_dict = {'healthcare' : [\"Adult Care\", \"Child Care\", \"Dental\", \"Health\", \"Medical Clinic\", \n",
        "                                   \"Natural Medicines\", \"Personal Care Products\",\n",
        "                                   \"Personal Medical Expenses\", \"Pharmacy\", \"Veterinary Sales\"],\n",
        "                   'agriculture_and_livestock' : [\"Agriculture\", \"Animal Sales\", \"Aquaculture\", \n",
        "                                                  \"Beekeeping\", \"Cattle\", \"Farm Supplies\",\n",
        "                                                  \"Farming\", \"Fishing\", \"Livestock\", \"Milk Sales\", \"Pigs\", \"Poultry\"], \n",
        "                   'maintenance' : [\"Air Conditioning\", \"Auto Repair\", \"Bicycle Repair\", \"Electronics Repair\", \n",
        "                                     \"Motorcycle Repair\", \"Phone Repair\", \"Vehicle Repairs\"],\n",
        "                    'arts_and_crafts' : [\"Arts\", \"Crafts\", \"Embroidery\", \"Patchwork\", \"Sewing\", \"Textiles\", \"Weaving\"],\n",
        "                    'food_and_beverages' : [\"Bakery\", \"Balut-Making\", \"Beverages\", \"Cereals\", \"Cheese Making\", \"Cobbler\", \n",
        "                                            \"Dairy\", \"Food\", \"Food Production/Sales\", \"Food Market\", \"Fruits & Vegetables\"],\n",
        "                    'construction_materials' : [\"Bricks\", \"Cement\", \"Carpentry\", \"Construction\", \"Construction Supplies\", \n",
        "                                                \"Electrician\"],\n",
        "                    'business' : [\"Bicycle Sales\", \"Blacksmith\", \"Bookbiding\", \"Bookstore\", \"Butcher Shop\", \"Cafe\", \n",
        "                                  \"Catering\", \"Charcoal Sales\", \"Clothing Sales\", \"Cosmetic Sales\", \"Decoration Sales\", \n",
        "                                  \"Electronics Sales\", \"Fish Selling\", \"Florist\", \"Food Market\", \"Food Stall\", \n",
        "                                  \"Furniture Making\", \"General Store\", \"Grocery Store\", \"Home Products Sales\",\"Hotel\", \n",
        "                                  \"Internet Cafe\", \"Land Rental\", \"Landscaping/Gardening\", \"Laundry\", \"Liquor Store / Off-License\", \n",
        "                                  \"Machine Shop\", \"Machinery Rental\", \"Manufacturing\", \"Metal Shop\", \"Paper Sales\", \n",
        "                                  \"Personal Products Sales\", \"Phone Use Sales\", \"Plastics Sales\", \"Quarrying\", \"Restaurant\", \"Retail\", \"Shoe Sales\", \"Souvenir Sales\", \n",
        "                                  \"Sporting Good Sales\", \"Tailoring\", \"Taxi\", \"Rickshaw\", \"Timber Sales\", \"Traveling Sales\",\n",
        "                                  \"Upholstery\", \"Wholesale\", \"Barber Shop\", \"Beauty Salon\", \"Call Center\"], \n",
        "                   'entertainment' : [\"Celebrations\", \"Entertainment\", \"Film\", \"Games\", \"Movie Tapes & DVDs\", \n",
        "                                      \"Music Discs & Tapes\", \"Musical Instruments\", \"Musical Performance\", \"Party Supplies\",\n",
        "                                      \"Photography\", \"Pub\", \"Wedding Expenses\"],\n",
        "                   'services' : [\"Cleaning Services\", \"Secretarial Services\", \"Services\", \"Tourism\", \"Transportation\", \n",
        "                                 \"Utilities\", \"Waste Management\", \"Water Distribution\", \"Well digging\"],\n",
        "                   'supplies' : [\"Cloth & Dressmaking Supplies\", \"Clothing\", \"Goods Distribution\", \"Office Supplies\", \n",
        "                                 \"Used Clothing\", \"Used Shoes\"],\n",
        "                   'technology_and_IT' : [\"Communications\", \"Computer\", \"Computers\", \"Hardware\", \"Mobile Phones\", \n",
        "                                          \"Mobile Transactions\", \"Phone Accessories\", \"Technology\", \"Electrical Goods\"],\n",
        "                   'miscellaneous' : [\"Consumer Goods\", \"Event Planning\", \"Flowers\", \"Funerals\", \"Home Appliances\", \n",
        "                                       \"Jewelry\", \"Knitting\", \"Motorcycle Transport\", \"Perfumes\", \"Personal Expenses\", \n",
        "                                       \"Personal Housing Expenses\", \"Printing\", \"Property\", \"Recycled Materials\", \n",
        "                                      \"Recycling\", \"Religious Articles\", \"Spare Parts\", \"Vehicle\"],\n",
        "                   'education' : [\"Education provider\", \"Higher education costs\", \"Primary/secondary school costs\"],\n",
        "                    'energy' : [\"Energy\", \"Fuel/Firewood\", \"Home Energy\", \"Renewable Energy Products\"]}"
      ],
      "execution_count": null,
      "outputs": []
    },
    {
      "cell_type": "code",
      "metadata": {
        "id": "4zSe0NfM8YW0"
      },
      "source": [
        "# Call group_items on df_raw_final\n",
        "df_raw_final['activities'] = df_raw_final['activity'].apply(lambda x: group_items(x, activities_dict))"
      ],
      "execution_count": null,
      "outputs": []
    },
    {
      "cell_type": "markdown",
      "metadata": {
        "id": "kfmyTeJh8YXW"
      },
      "source": [
        "\n",
        "## 2.5 Group countries "
      ]
    },
    {
      "cell_type": "code",
      "metadata": {
        "id": "VTIqRRxu8YXf"
      },
      "source": [
        "# Create a dictionary of regions\n",
        "areas = {'South_East_Asia' : ['Philippines', 'Indonesia', 'Timor-Leste'],\n",
        "         'Eastern_Asia' : ['China', 'Cambodia', 'Vietnam',\"Lao People's Democratic Republic\", 'Thailand'],\n",
        "         'Eastern_Africa' : ['Kenya', 'Uganda', 'Mali', 'Rwanda', 'Tanzania','Madagascar', 'Mozambique','Egypt', 'Somalia'],\n",
        "         'Western_Africa' : ['Togo', 'Sierra Leone', 'Ghana', 'Liberia', 'Senegal', 'Burkina Faso', 'Cameroon',\n",
        "                             'Mauritania', \"Cote D'Ivoire\", 'Benin', 'Nigeria'],\n",
        "         'Southern_Africa' : ['Zimbabwe', 'Malawi', 'Zambia', 'Lesotho', 'South Africa', 'Namibia'],\n",
        "         'Central_Africa' : ['The Democratic Republic of the Congo', 'Burundi', 'Zambia', 'South Sudan', 'Congo'],\n",
        "         'Central_America' : ['El Salvador', 'Nicaragua', 'Honduras', 'Haiti', 'Costa Rica', 'Dominican Republic',\n",
        "                             'Panama', 'Belize', 'Puerto Rico', 'Saint Vincent and the Grenadines'], \n",
        "         'South_Asia' : ['Pakistan', 'India', 'Myanmar (Burma)', 'Nepal', 'Bhutan'],\n",
        "         'South_America' : ['Peru', 'Colombia', 'Ecuador', 'Paraguay', 'Brazil', 'Suriname', 'Bolivia', 'Chile'],\n",
        "         'Central_Asia' : ['Tajikistan', 'Kyrgyzstan', 'Mongolia'],\n",
        "         'Middle_East' : ['Lebanon', 'Palestine', 'Jordan', 'Yemen', 'Turkey', 'Iraq', 'Israel', 'Afghanistan'],\n",
        "         'Pacific_Islands' : ['Samoa', 'Solomon Islands', 'Vanuatu', 'Guam'],\n",
        "         'North_America' : ['United States', 'Mexico', 'Virgin Islands'],\n",
        "         'Eastern Europe' : ['Armenia', 'Georgia', 'Albania', 'Azerbaijan', 'Kosovo', 'Ukraine', 'Moldova']}"
      ],
      "execution_count": null,
      "outputs": []
    },
    {
      "cell_type": "code",
      "metadata": {
        "id": "apRhRwyr8YXj"
      },
      "source": [
        "# Call group_items on df_raw_final\n",
        "df_raw_final['grouped_countries'] = df_raw_final['country'].apply(lambda x: group_items(x, areas))"
      ],
      "execution_count": null,
      "outputs": []
    },
    {
      "cell_type": "code",
      "metadata": {
        "id": "vjeZPq_68YXq",
        "outputId": "2d9c479b-fd2b-4cc8-d24c-9433550f599d",
        "colab": {
          "base_uri": "https://localhost:8080/",
          "height": 286
        }
      },
      "source": [
        "areas = df_raw_final.groupby('grouped_countries').size()\n",
        "areas"
      ],
      "execution_count": null,
      "outputs": [
        {
          "output_type": "execute_result",
          "data": {
            "text/plain": [
              "grouped_countries\n",
              "Central_Africa       4241\n",
              "Central_America     64290\n",
              "Central_Asia        26318\n",
              "Eastern Europe      17649\n",
              "Eastern_Africa     124037\n",
              "Eastern_Asia        47479\n",
              "Middle_East         26327\n",
              "North_America       11836\n",
              "Pacific_Islands      7955\n",
              "South_America       78975\n",
              "South_Asia          40683\n",
              "South_East_Asia    169345\n",
              "Southern_Africa      6946\n",
              "Western_Africa      37814\n",
              "dtype: int64"
            ]
          },
          "metadata": {
            "tags": []
          },
          "execution_count": 18
        }
      ]
    },
    {
      "cell_type": "markdown",
      "metadata": {
        "id": "2ec9OUno8YX0"
      },
      "source": [
        "## 2.6 Split Borrower Gender"
      ]
    },
    {
      "cell_type": "code",
      "metadata": {
        "id": "U_smQGp78YYD"
      },
      "source": [
        "# Define function to split borrower_genders\n",
        "def split_borrowers_gender(data):\n",
        "    missing=0\n",
        "    list_m=[]\n",
        "    list_f=[]\n",
        "    for gender in data:\n",
        "        count_m=0\n",
        "        count_f=0\n",
        "        if type(gender) == float:\n",
        "            missing = missing+1\n",
        "        else:\n",
        "            gender = gender.replace(\",\", \" \")\n",
        "            mainlist = gender.split(\" \")\n",
        "            for lg in mainlist:\n",
        "                if lg==\"female\":\n",
        "                    count_f=count_f+1\n",
        "                elif lg==\"male\":\n",
        "                    count_m=count_m+1\n",
        "        list_m.append(count_m)\n",
        "        list_f.append(count_f)\n",
        "    return list_m,list_f,missing"
      ],
      "execution_count": null,
      "outputs": []
    },
    {
      "cell_type": "code",
      "metadata": {
        "id": "6YtGCPN48YYH"
      },
      "source": [
        "# Extract borrowers data\n",
        "borrowers_gender_data = df_raw_final['borrower_genders'][:]\n",
        "\n",
        "# Call split_borrowers_gender  \n",
        "m1,f1,miss = split_borrowers_gender(borrowers_gender_data)\n",
        "\n",
        "# Create new columns on df_raw_final\n",
        "df_raw_final['male_borrowers']=m1\n",
        "df_raw_final['female_borrowers']=f1"
      ],
      "execution_count": null,
      "outputs": []
    },
    {
      "cell_type": "markdown",
      "metadata": {
        "id": "b-sK91z_MeRe"
      },
      "source": [
        "## 2.7 Drop unnecessary columns"
      ]
    },
    {
      "cell_type": "code",
      "metadata": {
        "id": "L-WhvR-s8YYg"
      },
      "source": [
        "# Create function to drop unnecessary columns\n",
        "def drop_values(df, list_variables):\n",
        "    for variable in list_variables:\n",
        "        df.drop([variable], axis=1, inplace=True)\n",
        "    return df"
      ],
      "execution_count": null,
      "outputs": []
    },
    {
      "cell_type": "code",
      "metadata": {
        "id": "RtkHuTuk8YYj"
      },
      "source": [
        "# Define variables to drop\n",
        "list_to_drop = ['partner_id', 'tags','use','posted_time','disbursed_time','funded_time',\n",
        "                'date','country_code','funded_amount','activity','currency',\n",
        "                'borrower_genders','sector']"
      ],
      "execution_count": null,
      "outputs": []
    },
    {
      "cell_type": "code",
      "metadata": {
        "id": "jSVHuihJ8YYo"
      },
      "source": [
        "# Call drop_values on df_raw_final\n",
        "df_raw_final = drop_values(df_raw_final, list_to_drop)"
      ],
      "execution_count": null,
      "outputs": []
    },
    {
      "cell_type": "markdown",
      "metadata": {
        "id": "rTCTFAVq1rxN"
      },
      "source": [
        "## 2.8 Choose Latin American countries"
      ]
    },
    {
      "cell_type": "code",
      "metadata": {
        "id": "4tJ_RcwK8YZX"
      },
      "source": [
        "# Choose only coutries of Latin American region --> includes subregions: Central America and South America\n",
        "df_latam = df_raw_final.loc[(df_raw_final['grouped_countries']=='South_America') | \n",
        "                 (df_raw_final['grouped_countries']=='Central_America')]"
      ],
      "execution_count": null,
      "outputs": []
    },
    {
      "cell_type": "code",
      "metadata": {
        "id": "G19Z7hdTAieQ",
        "scrolled": true,
        "outputId": "3a3fcfbf-911c-4f2b-a202-c96547b2aa5e",
        "colab": {
          "base_uri": "https://localhost:8080/",
          "height": 336
        }
      },
      "source": [
        "df_latam['country'].value_counts()"
      ],
      "execution_count": null,
      "outputs": [
        {
          "output_type": "execute_result",
          "data": {
            "text/plain": [
              "El Salvador                         39875\n",
              "Peru                                22233\n",
              "Colombia                            21995\n",
              "Ecuador                             13521\n",
              "Paraguay                            11903\n",
              "Nicaragua                           11781\n",
              "Bolivia                              8806\n",
              "Honduras                             6557\n",
              "Haiti                                3618\n",
              "Costa Rica                           1561\n",
              "Dominican Republic                    496\n",
              "Brazil                                284\n",
              "Suriname                              223\n",
              "Panama                                193\n",
              "Belize                                125\n",
              "Puerto Rico                            68\n",
              "Saint Vincent and the Grenadines       16\n",
              "Chile                                  10\n",
              "Name: country, dtype: int64"
            ]
          },
          "metadata": {
            "tags": []
          },
          "execution_count": 25
        }
      ]
    },
    {
      "cell_type": "code",
      "metadata": {
        "id": "nIRePItM8YZc"
      },
      "source": [
        "#Drop the column \"grouped_countries\"\n",
        "df_latam.drop(['grouped_countries'], axis=1, inplace=True)"
      ],
      "execution_count": null,
      "outputs": []
    },
    {
      "cell_type": "markdown",
      "metadata": {
        "id": "BeKfitnAD-k-"
      },
      "source": [
        "## 2.9 Check data frame"
      ]
    },
    {
      "cell_type": "code",
      "metadata": {
        "id": "F-8ojxH2GrI4"
      },
      "source": [
        "# Define function to check columns of data frame\n",
        "def check_columns(df):\n",
        "  \"\"\"\n",
        "  Parameters\n",
        "  ----------\n",
        "  df : dataframe\n",
        "    \n",
        "  Returns\n",
        "  ----------\n",
        "  The dataframe of variables with total unique values and dtype of variable\n",
        "  \"\"\"\n",
        "\n",
        "  # Get the dataframe of variables with their total unique values and dtype\n",
        "  df_values = pd.DataFrame([[var, df[var].nunique(),df[var].dtype] for var in df.columns],\n",
        "             columns=['var','values','type'])\n",
        "\n",
        "  # Sort df_values in accending order of the total number of values\n",
        "  df_values = df_values.sort_values(by='values', ascending=False).reset_index(drop=True)\n",
        "    \n",
        "  return df_values"
      ],
      "execution_count": null,
      "outputs": []
    },
    {
      "cell_type": "code",
      "metadata": {
        "id": "PNT_y3vrKU6N",
        "outputId": "de6e0ad6-30ce-4a0c-a46e-defe414a8db5",
        "colab": {
          "base_uri": "https://localhost:8080/",
          "height": 373
        }
      },
      "source": [
        "# Call check_columns on df_raw_final\n",
        "check_columns(df_latam)"
      ],
      "execution_count": null,
      "outputs": [
        {
          "output_type": "execute_result",
          "data": {
            "text/html": [
              "<div>\n",
              "<style scoped>\n",
              "    .dataframe tbody tr th:only-of-type {\n",
              "        vertical-align: middle;\n",
              "    }\n",
              "\n",
              "    .dataframe tbody tr th {\n",
              "        vertical-align: top;\n",
              "    }\n",
              "\n",
              "    .dataframe thead th {\n",
              "        text-align: right;\n",
              "    }\n",
              "</style>\n",
              "<table border=\"1\" class=\"dataframe\">\n",
              "  <thead>\n",
              "    <tr style=\"text-align: right;\">\n",
              "      <th></th>\n",
              "      <th>var</th>\n",
              "      <th>values</th>\n",
              "      <th>type</th>\n",
              "    </tr>\n",
              "  </thead>\n",
              "  <tbody>\n",
              "    <tr>\n",
              "      <th>0</th>\n",
              "      <td>id</td>\n",
              "      <td>143265</td>\n",
              "      <td>int64</td>\n",
              "    </tr>\n",
              "    <tr>\n",
              "      <th>1</th>\n",
              "      <td>region</td>\n",
              "      <td>1616</td>\n",
              "      <td>object</td>\n",
              "    </tr>\n",
              "    <tr>\n",
              "      <th>2</th>\n",
              "      <td>loan_amount</td>\n",
              "      <td>375</td>\n",
              "      <td>float64</td>\n",
              "    </tr>\n",
              "    <tr>\n",
              "      <th>3</th>\n",
              "      <td>lender_count</td>\n",
              "      <td>331</td>\n",
              "      <td>int64</td>\n",
              "    </tr>\n",
              "    <tr>\n",
              "      <th>4</th>\n",
              "      <td>term_in_months</td>\n",
              "      <td>140</td>\n",
              "      <td>float64</td>\n",
              "    </tr>\n",
              "    <tr>\n",
              "      <th>5</th>\n",
              "      <td>female_borrowers</td>\n",
              "      <td>33</td>\n",
              "      <td>int64</td>\n",
              "    </tr>\n",
              "    <tr>\n",
              "      <th>6</th>\n",
              "      <td>country</td>\n",
              "      <td>18</td>\n",
              "      <td>object</td>\n",
              "    </tr>\n",
              "    <tr>\n",
              "      <th>7</th>\n",
              "      <td>activities</td>\n",
              "      <td>14</td>\n",
              "      <td>object</td>\n",
              "    </tr>\n",
              "    <tr>\n",
              "      <th>8</th>\n",
              "      <td>male_borrowers</td>\n",
              "      <td>14</td>\n",
              "      <td>int64</td>\n",
              "    </tr>\n",
              "    <tr>\n",
              "      <th>9</th>\n",
              "      <td>MPI</td>\n",
              "      <td>12</td>\n",
              "      <td>float64</td>\n",
              "    </tr>\n",
              "    <tr>\n",
              "      <th>10</th>\n",
              "      <td>repayment_interval</td>\n",
              "      <td>3</td>\n",
              "      <td>object</td>\n",
              "    </tr>\n",
              "  </tbody>\n",
              "</table>\n",
              "</div>"
            ],
            "text/plain": [
              "                   var  values     type\n",
              "0                   id  143265    int64\n",
              "1               region    1616   object\n",
              "2          loan_amount     375  float64\n",
              "3         lender_count     331    int64\n",
              "4       term_in_months     140  float64\n",
              "5     female_borrowers      33    int64\n",
              "6              country      18   object\n",
              "7           activities      14   object\n",
              "8       male_borrowers      14    int64\n",
              "9                  MPI      12  float64\n",
              "10  repayment_interval       3   object"
            ]
          },
          "metadata": {
            "tags": []
          },
          "execution_count": 28
        }
      ]
    },
    {
      "cell_type": "code",
      "metadata": {
        "id": "kTGC1-GgLazO",
        "outputId": "255618da-1674-43e8-916b-41bd764118f6",
        "colab": {
          "base_uri": "https://localhost:8080/",
          "height": 77
        }
      },
      "source": [
        "# Print the dimension of df_raw_final\n",
        "pd.DataFrame([[df_latam.shape[0], df_latam.shape[1]]], columns=['# rows', '# columns'])"
      ],
      "execution_count": null,
      "outputs": [
        {
          "output_type": "execute_result",
          "data": {
            "text/html": [
              "<div>\n",
              "<style scoped>\n",
              "    .dataframe tbody tr th:only-of-type {\n",
              "        vertical-align: middle;\n",
              "    }\n",
              "\n",
              "    .dataframe tbody tr th {\n",
              "        vertical-align: top;\n",
              "    }\n",
              "\n",
              "    .dataframe thead th {\n",
              "        text-align: right;\n",
              "    }\n",
              "</style>\n",
              "<table border=\"1\" class=\"dataframe\">\n",
              "  <thead>\n",
              "    <tr style=\"text-align: right;\">\n",
              "      <th></th>\n",
              "      <th># rows</th>\n",
              "      <th># columns</th>\n",
              "    </tr>\n",
              "  </thead>\n",
              "  <tbody>\n",
              "    <tr>\n",
              "      <th>0</th>\n",
              "      <td>143265</td>\n",
              "      <td>11</td>\n",
              "    </tr>\n",
              "  </tbody>\n",
              "</table>\n",
              "</div>"
            ],
            "text/plain": [
              "   # rows  # columns\n",
              "0  143265         11"
            ]
          },
          "metadata": {
            "tags": []
          },
          "execution_count": 29
        }
      ]
    },
    {
      "cell_type": "code",
      "metadata": {
        "id": "7oz3GlzUMeRq",
        "outputId": "a80d73b5-0579-4ad9-cb0c-fefa63498a81",
        "colab": {
          "base_uri": "https://localhost:8080/",
          "height": 195
        }
      },
      "source": [
        "df_latam.head()"
      ],
      "execution_count": null,
      "outputs": [
        {
          "output_type": "execute_result",
          "data": {
            "text/html": [
              "<div>\n",
              "<style scoped>\n",
              "    .dataframe tbody tr th:only-of-type {\n",
              "        vertical-align: middle;\n",
              "    }\n",
              "\n",
              "    .dataframe tbody tr th {\n",
              "        vertical-align: top;\n",
              "    }\n",
              "\n",
              "    .dataframe thead th {\n",
              "        text-align: right;\n",
              "    }\n",
              "</style>\n",
              "<table border=\"1\" class=\"dataframe\">\n",
              "  <thead>\n",
              "    <tr style=\"text-align: right;\">\n",
              "      <th></th>\n",
              "      <th>id</th>\n",
              "      <th>loan_amount</th>\n",
              "      <th>country</th>\n",
              "      <th>region</th>\n",
              "      <th>term_in_months</th>\n",
              "      <th>lender_count</th>\n",
              "      <th>repayment_interval</th>\n",
              "      <th>MPI</th>\n",
              "      <th>activities</th>\n",
              "      <th>male_borrowers</th>\n",
              "      <th>female_borrowers</th>\n",
              "    </tr>\n",
              "  </thead>\n",
              "  <tbody>\n",
              "    <tr>\n",
              "      <th>48</th>\n",
              "      <td>653359</td>\n",
              "      <td>600.0</td>\n",
              "      <td>Nicaragua</td>\n",
              "      <td>Leon</td>\n",
              "      <td>14.0</td>\n",
              "      <td>16</td>\n",
              "      <td>monthly</td>\n",
              "      <td>0.074</td>\n",
              "      <td>business</td>\n",
              "      <td>0</td>\n",
              "      <td>1</td>\n",
              "    </tr>\n",
              "    <tr>\n",
              "      <th>49</th>\n",
              "      <td>653418</td>\n",
              "      <td>450.0</td>\n",
              "      <td>El Salvador</td>\n",
              "      <td>NaN</td>\n",
              "      <td>14.0</td>\n",
              "      <td>18</td>\n",
              "      <td>monthly</td>\n",
              "      <td>0.032</td>\n",
              "      <td>business</td>\n",
              "      <td>1</td>\n",
              "      <td>0</td>\n",
              "    </tr>\n",
              "    <tr>\n",
              "      <th>53</th>\n",
              "      <td>653432</td>\n",
              "      <td>550.0</td>\n",
              "      <td>Peru</td>\n",
              "      <td>Ica</td>\n",
              "      <td>14.0</td>\n",
              "      <td>20</td>\n",
              "      <td>monthly</td>\n",
              "      <td>0.053</td>\n",
              "      <td>miscellaneous</td>\n",
              "      <td>1</td>\n",
              "      <td>0</td>\n",
              "    </tr>\n",
              "    <tr>\n",
              "      <th>69</th>\n",
              "      <td>653410</td>\n",
              "      <td>1075.0</td>\n",
              "      <td>Peru</td>\n",
              "      <td>Ica</td>\n",
              "      <td>17.0</td>\n",
              "      <td>41</td>\n",
              "      <td>monthly</td>\n",
              "      <td>0.053</td>\n",
              "      <td>services</td>\n",
              "      <td>1</td>\n",
              "      <td>0</td>\n",
              "    </tr>\n",
              "    <tr>\n",
              "      <th>80</th>\n",
              "      <td>653430</td>\n",
              "      <td>1000.0</td>\n",
              "      <td>Honduras</td>\n",
              "      <td>Nueva Frontera, Santa Barbara.</td>\n",
              "      <td>20.0</td>\n",
              "      <td>34</td>\n",
              "      <td>monthly</td>\n",
              "      <td>0.090</td>\n",
              "      <td>business</td>\n",
              "      <td>0</td>\n",
              "      <td>1</td>\n",
              "    </tr>\n",
              "  </tbody>\n",
              "</table>\n",
              "</div>"
            ],
            "text/plain": [
              "        id  loan_amount  ... male_borrowers female_borrowers\n",
              "48  653359        600.0  ...              0                1\n",
              "49  653418        450.0  ...              1                0\n",
              "53  653432        550.0  ...              1                0\n",
              "69  653410       1075.0  ...              1                0\n",
              "80  653430       1000.0  ...              0                1\n",
              "\n",
              "[5 rows x 11 columns]"
            ]
          },
          "metadata": {
            "tags": []
          },
          "execution_count": 30
        }
      ]
    },
    {
      "cell_type": "markdown",
      "metadata": {
        "id": "b5s3e1m6OQiB"
      },
      "source": [
        "## 2.10 Exploratory Data Analysis"
      ]
    },
    {
      "cell_type": "code",
      "metadata": {
        "id": "qZdgIfPhOQiC",
        "outputId": "bbc79da3-65b4-4b21-ea0a-eefb47bbd216",
        "colab": {
          "base_uri": "https://localhost:8080/",
          "height": 298
        }
      },
      "source": [
        "# countries\n",
        "import seaborn as sns\n",
        "import matplotlib.pyplot as plt\n",
        "\n",
        "top_countries = df_latam[\"country\"].value_counts()[:10]\n",
        "top_countries.sort_values(ascending=False, inplace=True)\n",
        "\n",
        "current_palette = sns.color_palette()\n",
        "\n",
        "sns.barplot(top_countries.values, top_countries.index, alpha=0.8)\n",
        "plt.title(\"Distribution of Countries\")\n"
      ],
      "execution_count": null,
      "outputs": [
        {
          "output_type": "execute_result",
          "data": {
            "text/plain": [
              "Text(0.5, 1.0, 'Distribution of Countries')"
            ]
          },
          "metadata": {
            "tags": []
          },
          "execution_count": 31
        },
        {
          "output_type": "display_data",
          "data": {
            "image/png": "[encoded data removed]",
            "text/plain": [
              "<Figure size 432x288 with 1 Axes>"
            ]
          },
          "metadata": {
            "tags": [],
            "needs_background": "light"
          }
        }
      ]
    },
    {
      "cell_type": "code",
      "metadata": {
        "id": "owr1r1jMOQiK",
        "outputId": "c52443b7-9de7-4e4d-9c9e-7791ded82869",
        "colab": {
          "base_uri": "https://localhost:8080/",
          "height": 312
        }
      },
      "source": [
        "# LOAN AMOUNT\n",
        "colors = 'cornflowerblue'\n",
        "sns.distplot(df_latam['loan_amount'], bins=20, color=colors)\n",
        "plt.title('Distribution of Loan Amounts')\n",
        "plt.xlabel('Loan Amount ($)')\n",
        "plt.ylabel('Frequency')"
      ],
      "execution_count": null,
      "outputs": [
        {
          "output_type": "execute_result",
          "data": {
            "text/plain": [
              "Text(0, 0.5, 'Frequency')"
            ]
          },
          "metadata": {
            "tags": []
          },
          "execution_count": 32
        },
        {
          "output_type": "display_data",
          "data": {
            "image/png": "[encoded data removed]",
            "text/plain": [
              "<Figure size 432x288 with 1 Axes>"
            ]
          },
          "metadata": {
            "tags": [],
            "needs_background": "light"
          }
        }
      ]
    },
    {
      "cell_type": "code",
      "metadata": {
        "id": "S2t68ipxOQiO",
        "outputId": "ec50d087-3666-4599-838d-a1d0c80d6a80",
        "colab": {
          "base_uri": "https://localhost:8080/",
          "height": 331
        }
      },
      "source": [
        "# REPAYMENT INTERVAL\n",
        "\n",
        "colors_3 = ['cornflowerblue','darkorange', 'mediumseagreen']\n",
        "rep_int = df_latam['repayment_interval'].value_counts()\n",
        "rep_int.plot.bar(title='Repayment Interval Type', color=colors_3)"
      ],
      "execution_count": null,
      "outputs": [
        {
          "output_type": "execute_result",
          "data": {
            "text/plain": [
              "<matplotlib.axes._subplots.AxesSubplot at 0x7fb10ef8feb8>"
            ]
          },
          "metadata": {
            "tags": []
          },
          "execution_count": 33
        },
        {
          "output_type": "display_data",
          "data": {
            "image/png": "[encoded data removed]",
            "text/plain": [
              "<Figure size 432x288 with 1 Axes>"
            ]
          },
          "metadata": {
            "tags": [],
            "needs_background": "light"
          }
        }
      ]
    },
    {
      "cell_type": "code",
      "metadata": {
        "id": "oBtub9sVOQiT",
        "outputId": "a2114036-c977-4b94-c89b-85992fdc98bd",
        "colab": {
          "base_uri": "https://localhost:8080/",
          "height": 298
        }
      },
      "source": [
        "# ACTIVITES\n",
        "\n",
        "activities_bar = df_latam[\"activities\"].value_counts()\n",
        "activities_bar.sort_values(ascending=False, inplace=True)\n",
        "\n",
        "sns.barplot(activities_bar.values, activities_bar.index, alpha=0.8)\n",
        "plt.title(\"Distribution of Activities\")"
      ],
      "execution_count": null,
      "outputs": [
        {
          "output_type": "execute_result",
          "data": {
            "text/plain": [
              "Text(0.5, 1.0, 'Distribution of Activities')"
            ]
          },
          "metadata": {
            "tags": []
          },
          "execution_count": 34
        },
        {
          "output_type": "display_data",
          "data": {
            "image/png": "[encoded data removed]",
            "text/plain": [
              "<Figure size 432x288 with 1 Axes>"
            ]
          },
          "metadata": {
            "tags": [],
            "needs_background": "light"
          }
        }
      ]
    },
    {
      "cell_type": "code",
      "metadata": {
        "id": "JxzM8GHIOQib",
        "outputId": "d34073f9-0809-4f74-af6c-1355c426fe4d",
        "colab": {
          "base_uri": "https://localhost:8080/",
          "height": 312
        }
      },
      "source": [
        "# TERM IN MONTHS\n",
        "\n",
        "colors = 'cornflowerblue'\n",
        "funded_amount_hist = plt.hist(df_latam['term_in_months'], bins=15, range=[1,50], color=colors)\n",
        "\n",
        "plt.ylabel('Frequency')\n",
        "plt.xlabel('Loan term (months)')\n",
        "plt.title(\"Distribution of Loan Term (Months)\")"
      ],
      "execution_count": null,
      "outputs": [
        {
          "output_type": "execute_result",
          "data": {
            "text/plain": [
              "Text(0.5, 1.0, 'Distribution of Loan Term (Months)')"
            ]
          },
          "metadata": {
            "tags": []
          },
          "execution_count": 35
        },
        {
          "output_type": "display_data",
          "data": {
            "image/png": "[encoded data removed]",
            "text/plain": [
              "<Figure size 432x288 with 1 Axes>"
            ]
          },
          "metadata": {
            "tags": [],
            "needs_background": "light"
          }
        }
      ]
    },
    {
      "cell_type": "code",
      "metadata": {
        "id": "fh4QQKw1OQif",
        "outputId": "4bf77c7e-ffc1-4163-aa27-12ba2e4bff8e",
        "colab": {
          "base_uri": "https://localhost:8080/",
          "height": 312
        }
      },
      "source": [
        "#  LENDER COUNT (# of lenders contributing to the loan)\n",
        "\n",
        "funded_amount_hist = plt.hist(df_latam['lender_count'], bins=20, range=[1,40], color=colors)\n",
        "plt.ylabel('Frequency')\n",
        "plt.xlabel('Lender Count')\n",
        "plt.title(\"Distribution of Lender Count\")"
      ],
      "execution_count": null,
      "outputs": [
        {
          "output_type": "execute_result",
          "data": {
            "text/plain": [
              "Text(0.5, 1.0, 'Distribution of Lender Count')"
            ]
          },
          "metadata": {
            "tags": []
          },
          "execution_count": 36
        },
        {
          "output_type": "display_data",
          "data": {
            "image/png": "[encoded data removed]",
            "text/plain": [
              "<Figure size 432x288 with 1 Axes>"
            ]
          },
          "metadata": {
            "tags": [],
            "needs_background": "light"
          }
        }
      ]
    },
    {
      "cell_type": "code",
      "metadata": {
        "id": "aeUTMC07OQih",
        "outputId": "3bbd5fe9-bc71-4368-9a95-1f36ffe4f83a",
        "colab": {
          "base_uri": "https://localhost:8080/",
          "height": 312
        }
      },
      "source": [
        "# MPI\n",
        "\n",
        "funded_amount_hist = plt.hist(df_latam['MPI'], bins=6, color=colors)\n",
        "plt.ylabel('Frequency')\n",
        "plt.xlabel('MPI')\n",
        "plt.title(\"Distribution of MPI\")"
      ],
      "execution_count": null,
      "outputs": [
        {
          "output_type": "execute_result",
          "data": {
            "text/plain": [
              "Text(0.5, 1.0, 'Distribution of MPI')"
            ]
          },
          "metadata": {
            "tags": []
          },
          "execution_count": 37
        },
        {
          "output_type": "display_data",
          "data": {
            "image/png": "[encoded data removed]",
            "text/plain": [
              "<Figure size 432x288 with 1 Axes>"
            ]
          },
          "metadata": {
            "tags": [],
            "needs_background": "light"
          }
        }
      ]
    },
    {
      "cell_type": "code",
      "metadata": {
        "id": "1OnzjrJZOQim",
        "outputId": "d8092c7e-5041-40ce-9ff1-98fce04c5ede",
        "colab": {
          "base_uri": "https://localhost:8080/",
          "height": 281
        }
      },
      "source": [
        "# BORROWER GENDER\n",
        "\n",
        "male_borrowers = sum(df_latam['male_borrowers'])\n",
        "female_borrowers=sum(df_latam['female_borrowers'])\n",
        "\n",
        "labels='Male','Female'\n",
        "sizes=[male_borrowers,female_borrowers]\n",
        "colors_2=['cornflowerblue','lightcoral']\n",
        "plt.pie(sizes, explode=(0.02,0), labels=labels,colors=colors_2, startangle=90, autopct='%1.1f%%')\n",
        "plt.title('Borrower Genders')\n"
      ],
      "execution_count": null,
      "outputs": [
        {
          "output_type": "execute_result",
          "data": {
            "text/plain": [
              "Text(0.5, 1.0, 'Borrower Genders')"
            ]
          },
          "metadata": {
            "tags": []
          },
          "execution_count": 38
        },
        {
          "output_type": "display_data",
          "data": {
            "image/png": "[encoded data removed]",
            "text/plain": [
              "<Figure size 432x288 with 1 Axes>"
            ]
          },
          "metadata": {
            "tags": []
          }
        }
      ]
    },
    {
      "cell_type": "markdown",
      "metadata": {
        "id": "E9zIy_mrgSB1"
      },
      "source": [
        "## 2.11 Create copy of Latam dataframe"
      ]
    },
    {
      "cell_type": "code",
      "metadata": {
        "id": "s-VDh08CgNjO"
      },
      "source": [
        "df_preprocessed = df_latam.copy(deep=True)"
      ],
      "execution_count": null,
      "outputs": []
    },
    {
      "cell_type": "markdown",
      "metadata": {
        "id": "oQ6xZx2kWQxy"
      },
      "source": [
        "# 3. Data Preprocessing"
      ]
    },
    {
      "cell_type": "markdown",
      "metadata": {
        "id": "g8k9K_8Z8YZ2"
      },
      "source": [
        "## 3.1 Handling identifiers"
      ]
    },
    {
      "cell_type": "markdown",
      "metadata": {
        "id": "bYqNMJh7MeSX"
      },
      "source": [
        "### 3.1.1 Identifying the identifiers"
      ]
    },
    {
      "cell_type": "code",
      "metadata": {
        "id": "72cb8gFfMeSY"
      },
      "source": [
        "def id_checker(df):\n",
        "    \"\"\"\n",
        "    The identifier checker\n",
        "\n",
        "    Parameters\n",
        "    ----------\n",
        "    df : dataframe\n",
        "    \n",
        "    Returns\n",
        "    ----------\n",
        "    The dataframe of identifiers\n",
        "    \"\"\"\n",
        "    \n",
        "    # Get the identifiers\n",
        "    df_id = df[[var for var in df.columns \n",
        "                if (df[var].dtype != 'float'\n",
        "                    and df[var].nunique(dropna=True) == df[var].notnull().sum())]]\n",
        "    \n",
        "    return df_id"
      ],
      "execution_count": null,
      "outputs": []
    },
    {
      "cell_type": "code",
      "metadata": {
        "id": "PxKxAWwyMeSZ",
        "outputId": "6919fb4b-9d03-4a81-e3af-d80e5de48c5e",
        "colab": {
          "base_uri": "https://localhost:8080/",
          "height": 195
        }
      },
      "source": [
        "df_id = id_checker(df_preprocessed)\n",
        "\n",
        "# Print the first 5 rows of df_id\n",
        "df_id.head()"
      ],
      "execution_count": null,
      "outputs": [
        {
          "output_type": "execute_result",
          "data": {
            "text/html": [
              "<div>\n",
              "<style scoped>\n",
              "    .dataframe tbody tr th:only-of-type {\n",
              "        vertical-align: middle;\n",
              "    }\n",
              "\n",
              "    .dataframe tbody tr th {\n",
              "        vertical-align: top;\n",
              "    }\n",
              "\n",
              "    .dataframe thead th {\n",
              "        text-align: right;\n",
              "    }\n",
              "</style>\n",
              "<table border=\"1\" class=\"dataframe\">\n",
              "  <thead>\n",
              "    <tr style=\"text-align: right;\">\n",
              "      <th></th>\n",
              "      <th>id</th>\n",
              "    </tr>\n",
              "  </thead>\n",
              "  <tbody>\n",
              "    <tr>\n",
              "      <th>48</th>\n",
              "      <td>653359</td>\n",
              "    </tr>\n",
              "    <tr>\n",
              "      <th>49</th>\n",
              "      <td>653418</td>\n",
              "    </tr>\n",
              "    <tr>\n",
              "      <th>53</th>\n",
              "      <td>653432</td>\n",
              "    </tr>\n",
              "    <tr>\n",
              "      <th>69</th>\n",
              "      <td>653410</td>\n",
              "    </tr>\n",
              "    <tr>\n",
              "      <th>80</th>\n",
              "      <td>653430</td>\n",
              "    </tr>\n",
              "  </tbody>\n",
              "</table>\n",
              "</div>"
            ],
            "text/plain": [
              "        id\n",
              "48  653359\n",
              "49  653418\n",
              "53  653432\n",
              "69  653410\n",
              "80  653430"
            ]
          },
          "metadata": {
            "tags": []
          },
          "execution_count": 41
        }
      ]
    },
    {
      "cell_type": "markdown",
      "metadata": {
        "id": "-yPi-sGuMeSb"
      },
      "source": [
        "### 3.1.2. Removing the identifiers"
      ]
    },
    {
      "cell_type": "code",
      "metadata": {
        "id": "kRal1Wh6MeSc"
      },
      "source": [
        "import numpy as np\n",
        "\n",
        "#Remove the identifiers from dataset\n",
        "df_preprocessed = df_preprocessed.drop(columns=np.intersect1d(df_id.columns, df_preprocessed.columns))"
      ],
      "execution_count": null,
      "outputs": []
    },
    {
      "cell_type": "code",
      "metadata": {
        "id": "SpiHZfJ88YaB",
        "outputId": "889a82b0-f5f1-4f0a-dedc-d66c16e5391e",
        "colab": {
          "base_uri": "https://localhost:8080/",
          "height": 195
        }
      },
      "source": [
        "df_preprocessed.head()"
      ],
      "execution_count": null,
      "outputs": [
        {
          "output_type": "execute_result",
          "data": {
            "text/html": [
              "<div>\n",
              "<style scoped>\n",
              "    .dataframe tbody tr th:only-of-type {\n",
              "        vertical-align: middle;\n",
              "    }\n",
              "\n",
              "    .dataframe tbody tr th {\n",
              "        vertical-align: top;\n",
              "    }\n",
              "\n",
              "    .dataframe thead th {\n",
              "        text-align: right;\n",
              "    }\n",
              "</style>\n",
              "<table border=\"1\" class=\"dataframe\">\n",
              "  <thead>\n",
              "    <tr style=\"text-align: right;\">\n",
              "      <th></th>\n",
              "      <th>loan_amount</th>\n",
              "      <th>country</th>\n",
              "      <th>region</th>\n",
              "      <th>term_in_months</th>\n",
              "      <th>lender_count</th>\n",
              "      <th>repayment_interval</th>\n",
              "      <th>MPI</th>\n",
              "      <th>activities</th>\n",
              "      <th>male_borrowers</th>\n",
              "      <th>female_borrowers</th>\n",
              "    </tr>\n",
              "  </thead>\n",
              "  <tbody>\n",
              "    <tr>\n",
              "      <th>48</th>\n",
              "      <td>600.0</td>\n",
              "      <td>Nicaragua</td>\n",
              "      <td>Leon</td>\n",
              "      <td>14.0</td>\n",
              "      <td>16</td>\n",
              "      <td>monthly</td>\n",
              "      <td>0.074</td>\n",
              "      <td>business</td>\n",
              "      <td>0</td>\n",
              "      <td>1</td>\n",
              "    </tr>\n",
              "    <tr>\n",
              "      <th>49</th>\n",
              "      <td>450.0</td>\n",
              "      <td>El Salvador</td>\n",
              "      <td>NaN</td>\n",
              "      <td>14.0</td>\n",
              "      <td>18</td>\n",
              "      <td>monthly</td>\n",
              "      <td>0.032</td>\n",
              "      <td>business</td>\n",
              "      <td>1</td>\n",
              "      <td>0</td>\n",
              "    </tr>\n",
              "    <tr>\n",
              "      <th>53</th>\n",
              "      <td>550.0</td>\n",
              "      <td>Peru</td>\n",
              "      <td>Ica</td>\n",
              "      <td>14.0</td>\n",
              "      <td>20</td>\n",
              "      <td>monthly</td>\n",
              "      <td>0.053</td>\n",
              "      <td>miscellaneous</td>\n",
              "      <td>1</td>\n",
              "      <td>0</td>\n",
              "    </tr>\n",
              "    <tr>\n",
              "      <th>69</th>\n",
              "      <td>1075.0</td>\n",
              "      <td>Peru</td>\n",
              "      <td>Ica</td>\n",
              "      <td>17.0</td>\n",
              "      <td>41</td>\n",
              "      <td>monthly</td>\n",
              "      <td>0.053</td>\n",
              "      <td>services</td>\n",
              "      <td>1</td>\n",
              "      <td>0</td>\n",
              "    </tr>\n",
              "    <tr>\n",
              "      <th>80</th>\n",
              "      <td>1000.0</td>\n",
              "      <td>Honduras</td>\n",
              "      <td>Nueva Frontera, Santa Barbara.</td>\n",
              "      <td>20.0</td>\n",
              "      <td>34</td>\n",
              "      <td>monthly</td>\n",
              "      <td>0.090</td>\n",
              "      <td>business</td>\n",
              "      <td>0</td>\n",
              "      <td>1</td>\n",
              "    </tr>\n",
              "  </tbody>\n",
              "</table>\n",
              "</div>"
            ],
            "text/plain": [
              "    loan_amount      country  ... male_borrowers  female_borrowers\n",
              "48        600.0    Nicaragua  ...              0                 1\n",
              "49        450.0  El Salvador  ...              1                 0\n",
              "53        550.0         Peru  ...              1                 0\n",
              "69       1075.0         Peru  ...              1                 0\n",
              "80       1000.0     Honduras  ...              0                 1\n",
              "\n",
              "[5 rows x 10 columns]"
            ]
          },
          "metadata": {
            "tags": []
          },
          "execution_count": 43
        }
      ]
    },
    {
      "cell_type": "markdown",
      "metadata": {
        "id": "ReAeIg-C8YaJ"
      },
      "source": [
        "## 3.2 Handling missing data"
      ]
    },
    {
      "cell_type": "markdown",
      "metadata": {
        "id": "KFX26siR8YaK"
      },
      "source": [
        "### 3.2.1 Identifying missing values"
      ]
    },
    {
      "cell_type": "code",
      "metadata": {
        "id": "889x1ZUIMeSn"
      },
      "source": [
        "def nan_checker(df):\n",
        "    \"\"\"\n",
        "    The NaN checker\n",
        "\n",
        "    Parameters\n",
        "    ----------\n",
        "    df : dataframe\n",
        "    \n",
        "    Returns\n",
        "    ----------\n",
        "    The dataframe of variables with NaN, their proportion of NaN and dtype\n",
        "    \"\"\"\n",
        "    \n",
        "    # Get the dataframe of variables with NaN, their proportion of NaN and dtype\n",
        "    df_nan = pd.DataFrame([[var, df[var].isna().sum() / df.shape[0], df[var].dtype]\n",
        "                           for var in df.columns if df[var].isna().sum() > 0],\n",
        "                          columns=['var', 'proportion', 'dtype'])\n",
        "    \n",
        "    # Sort df_nan in accending order of the proportion of NaN\n",
        "    df_nan = df_nan.sort_values(by='proportion', ascending=False).reset_index(drop=True)\n",
        "    \n",
        "    return df_nan"
      ],
      "execution_count": null,
      "outputs": []
    },
    {
      "cell_type": "code",
      "metadata": {
        "id": "YRK-U13_MeSv",
        "outputId": "f680ae38-2115-4089-b020-6e6d803fe92e",
        "colab": {
          "base_uri": "https://localhost:8080/",
          "height": 136
        }
      },
      "source": [
        "# Call nan_checker on df\n",
        "df_nan = nan_checker(df_preprocessed)\n",
        "\n",
        "# Print df_nan\n",
        "df_nan"
      ],
      "execution_count": null,
      "outputs": [
        {
          "output_type": "execute_result",
          "data": {
            "text/html": [
              "<div>\n",
              "<style scoped>\n",
              "    .dataframe tbody tr th:only-of-type {\n",
              "        vertical-align: middle;\n",
              "    }\n",
              "\n",
              "    .dataframe tbody tr th {\n",
              "        vertical-align: top;\n",
              "    }\n",
              "\n",
              "    .dataframe thead th {\n",
              "        text-align: right;\n",
              "    }\n",
              "</style>\n",
              "<table border=\"1\" class=\"dataframe\">\n",
              "  <thead>\n",
              "    <tr style=\"text-align: right;\">\n",
              "      <th></th>\n",
              "      <th>var</th>\n",
              "      <th>proportion</th>\n",
              "      <th>dtype</th>\n",
              "    </tr>\n",
              "  </thead>\n",
              "  <tbody>\n",
              "    <tr>\n",
              "      <th>0</th>\n",
              "      <td>region</td>\n",
              "      <td>0.155551</td>\n",
              "      <td>object</td>\n",
              "    </tr>\n",
              "    <tr>\n",
              "      <th>1</th>\n",
              "      <td>MPI</td>\n",
              "      <td>0.074366</td>\n",
              "      <td>float64</td>\n",
              "    </tr>\n",
              "    <tr>\n",
              "      <th>2</th>\n",
              "      <td>activities</td>\n",
              "      <td>0.014512</td>\n",
              "      <td>object</td>\n",
              "    </tr>\n",
              "  </tbody>\n",
              "</table>\n",
              "</div>"
            ],
            "text/plain": [
              "          var  proportion    dtype\n",
              "0      region    0.155551   object\n",
              "1         MPI    0.074366  float64\n",
              "2  activities    0.014512   object"
            ]
          },
          "metadata": {
            "tags": []
          },
          "execution_count": 45
        }
      ]
    },
    {
      "cell_type": "code",
      "metadata": {
        "id": "jhdl0Mp98YaN",
        "outputId": "677ded7b-b72f-4e88-e257-284cc660873b",
        "colab": {
          "base_uri": "https://localhost:8080/",
          "height": 106
        }
      },
      "source": [
        "# Print the unique dtype of the variables with NaN\n",
        "pd.DataFrame(df_nan['dtype'].unique(), columns=['dtype'])"
      ],
      "execution_count": null,
      "outputs": [
        {
          "output_type": "execute_result",
          "data": {
            "text/html": [
              "<div>\n",
              "<style scoped>\n",
              "    .dataframe tbody tr th:only-of-type {\n",
              "        vertical-align: middle;\n",
              "    }\n",
              "\n",
              "    .dataframe tbody tr th {\n",
              "        vertical-align: top;\n",
              "    }\n",
              "\n",
              "    .dataframe thead th {\n",
              "        text-align: right;\n",
              "    }\n",
              "</style>\n",
              "<table border=\"1\" class=\"dataframe\">\n",
              "  <thead>\n",
              "    <tr style=\"text-align: right;\">\n",
              "      <th></th>\n",
              "      <th>dtype</th>\n",
              "    </tr>\n",
              "  </thead>\n",
              "  <tbody>\n",
              "    <tr>\n",
              "      <th>0</th>\n",
              "      <td>object</td>\n",
              "    </tr>\n",
              "    <tr>\n",
              "      <th>1</th>\n",
              "      <td>float64</td>\n",
              "    </tr>\n",
              "  </tbody>\n",
              "</table>\n",
              "</div>"
            ],
            "text/plain": [
              "     dtype\n",
              "0   object\n",
              "1  float64"
            ]
          },
          "metadata": {
            "tags": []
          },
          "execution_count": 46
        }
      ]
    },
    {
      "cell_type": "code",
      "metadata": {
        "id": "TXJpv-rH8YaT",
        "outputId": "7f035244-4279-47fb-f45c-bc4f653bad1f",
        "colab": {
          "base_uri": "https://localhost:8080/",
          "height": 77
        }
      },
      "source": [
        "# Get the variables with missing values, their proportion of missing values and dtype\n",
        "df_miss = df_nan[df_nan['dtype'] == 'float64'].reset_index(drop=True)\n",
        "\n",
        "# Print df_miss\n",
        "df_miss"
      ],
      "execution_count": null,
      "outputs": [
        {
          "output_type": "execute_result",
          "data": {
            "text/html": [
              "<div>\n",
              "<style scoped>\n",
              "    .dataframe tbody tr th:only-of-type {\n",
              "        vertical-align: middle;\n",
              "    }\n",
              "\n",
              "    .dataframe tbody tr th {\n",
              "        vertical-align: top;\n",
              "    }\n",
              "\n",
              "    .dataframe thead th {\n",
              "        text-align: right;\n",
              "    }\n",
              "</style>\n",
              "<table border=\"1\" class=\"dataframe\">\n",
              "  <thead>\n",
              "    <tr style=\"text-align: right;\">\n",
              "      <th></th>\n",
              "      <th>var</th>\n",
              "      <th>proportion</th>\n",
              "      <th>dtype</th>\n",
              "    </tr>\n",
              "  </thead>\n",
              "  <tbody>\n",
              "    <tr>\n",
              "      <th>0</th>\n",
              "      <td>MPI</td>\n",
              "      <td>0.074366</td>\n",
              "      <td>float64</td>\n",
              "    </tr>\n",
              "  </tbody>\n",
              "</table>\n",
              "</div>"
            ],
            "text/plain": [
              "   var  proportion    dtype\n",
              "0  MPI    0.074366  float64"
            ]
          },
          "metadata": {
            "tags": []
          },
          "execution_count": 47
        }
      ]
    },
    {
      "cell_type": "markdown",
      "metadata": {
        "id": "RWusXURe8YaX"
      },
      "source": [
        "### 3.2.3 Removing missing values"
      ]
    },
    {
      "cell_type": "code",
      "metadata": {
        "id": "KOp_ZJu98YaZ"
      },
      "source": [
        "# Remove rows with missing values from df_train\n",
        "df_preprocessed = df_preprocessed.dropna(subset=np.intersect1d(df_miss['var'], df_preprocessed.columns), inplace=False)"
      ],
      "execution_count": null,
      "outputs": []
    },
    {
      "cell_type": "code",
      "metadata": {
        "id": "H7VpeULO8Yaa",
        "outputId": "0d2b805f-1e29-406d-f0ae-8bbaf93d22e9",
        "colab": {
          "base_uri": "https://localhost:8080/",
          "height": 34
        }
      },
      "source": [
        "df_preprocessed.shape"
      ],
      "execution_count": null,
      "outputs": [
        {
          "output_type": "execute_result",
          "data": {
            "text/plain": [
              "(132611, 10)"
            ]
          },
          "metadata": {
            "tags": []
          },
          "execution_count": 49
        }
      ]
    },
    {
      "cell_type": "markdown",
      "metadata": {
        "id": "gM4l188iMeSy"
      },
      "source": [
        "## 3.3 Identifying the categorical variables"
      ]
    },
    {
      "cell_type": "markdown",
      "metadata": {
        "id": "PGwzQ0o2pPfF"
      },
      "source": [
        "### 3.3.1 Identifying categorical variables"
      ]
    },
    {
      "cell_type": "code",
      "metadata": {
        "id": "9tSts9e-MeSy"
      },
      "source": [
        "def cat_var_checker(df):\n",
        "    \"\"\"\n",
        "    The categorical variable checker\n",
        "\n",
        "    Parameters\n",
        "    ----------\n",
        "    df: the dataframe\n",
        "    \n",
        "    Returns\n",
        "    ----------\n",
        "    The dataframe of categorical variables and their number of unique value\n",
        "    \"\"\"\n",
        "    \n",
        "    # Get the dataframe of categorical variables and their number of unique value\n",
        "    df_cat = pd.DataFrame([[var, df[var].nunique(dropna=False)]\n",
        "                           for var in df.columns if df[var].dtype == 'object'],\n",
        "                          columns=['var', 'nunique'])\n",
        "    \n",
        "    # Sort df_cat in accending order of the number of unique value\n",
        "    df_cat = df_cat.sort_values(by='nunique', ascending=False).reset_index(drop=True)\n",
        "    \n",
        "    return df_cat"
      ],
      "execution_count": null,
      "outputs": []
    },
    {
      "cell_type": "code",
      "metadata": {
        "id": "RhK1G1K8MeS2",
        "outputId": "49129672-a583-4d29-8c90-12973c98ad9e",
        "colab": {
          "base_uri": "https://localhost:8080/",
          "height": 166
        }
      },
      "source": [
        "# Call cat_var_checker on df\n",
        "df_cat = cat_var_checker(df_preprocessed)\n",
        "\n",
        "# Print the dataframe\n",
        "df_cat"
      ],
      "execution_count": null,
      "outputs": [
        {
          "output_type": "execute_result",
          "data": {
            "text/html": [
              "<div>\n",
              "<style scoped>\n",
              "    .dataframe tbody tr th:only-of-type {\n",
              "        vertical-align: middle;\n",
              "    }\n",
              "\n",
              "    .dataframe tbody tr th {\n",
              "        vertical-align: top;\n",
              "    }\n",
              "\n",
              "    .dataframe thead th {\n",
              "        text-align: right;\n",
              "    }\n",
              "</style>\n",
              "<table border=\"1\" class=\"dataframe\">\n",
              "  <thead>\n",
              "    <tr style=\"text-align: right;\">\n",
              "      <th></th>\n",
              "      <th>var</th>\n",
              "      <th>nunique</th>\n",
              "    </tr>\n",
              "  </thead>\n",
              "  <tbody>\n",
              "    <tr>\n",
              "      <th>0</th>\n",
              "      <td>region</td>\n",
              "      <td>1267</td>\n",
              "    </tr>\n",
              "    <tr>\n",
              "      <th>1</th>\n",
              "      <td>activities</td>\n",
              "      <td>15</td>\n",
              "    </tr>\n",
              "    <tr>\n",
              "      <th>2</th>\n",
              "      <td>country</td>\n",
              "      <td>12</td>\n",
              "    </tr>\n",
              "    <tr>\n",
              "      <th>3</th>\n",
              "      <td>repayment_interval</td>\n",
              "      <td>3</td>\n",
              "    </tr>\n",
              "  </tbody>\n",
              "</table>\n",
              "</div>"
            ],
            "text/plain": [
              "                  var  nunique\n",
              "0              region     1267\n",
              "1          activities       15\n",
              "2             country       12\n",
              "3  repayment_interval        3"
            ]
          },
          "metadata": {
            "tags": []
          },
          "execution_count": 51
        }
      ]
    },
    {
      "cell_type": "markdown",
      "metadata": {
        "id": "_Q20xYAeMeS3"
      },
      "source": [
        "### 3.3.2 Removing categorical variables with many values"
      ]
    },
    {
      "cell_type": "code",
      "metadata": {
        "id": "yj8B7hucMeS3"
      },
      "source": [
        "# Remove features from df\n",
        "df_preprocessed = df_preprocessed.drop(columns=['region'])"
      ],
      "execution_count": null,
      "outputs": []
    },
    {
      "cell_type": "code",
      "metadata": {
        "id": "SrhyOQp5pVlX",
        "outputId": "99f1764a-00e5-40db-f7f3-e266b7ee0f14",
        "colab": {
          "base_uri": "https://localhost:8080/",
          "height": 136
        }
      },
      "source": [
        "cat_var_checker(df_preprocessed)"
      ],
      "execution_count": null,
      "outputs": [
        {
          "output_type": "execute_result",
          "data": {
            "text/html": [
              "<div>\n",
              "<style scoped>\n",
              "    .dataframe tbody tr th:only-of-type {\n",
              "        vertical-align: middle;\n",
              "    }\n",
              "\n",
              "    .dataframe tbody tr th {\n",
              "        vertical-align: top;\n",
              "    }\n",
              "\n",
              "    .dataframe thead th {\n",
              "        text-align: right;\n",
              "    }\n",
              "</style>\n",
              "<table border=\"1\" class=\"dataframe\">\n",
              "  <thead>\n",
              "    <tr style=\"text-align: right;\">\n",
              "      <th></th>\n",
              "      <th>var</th>\n",
              "      <th>nunique</th>\n",
              "    </tr>\n",
              "  </thead>\n",
              "  <tbody>\n",
              "    <tr>\n",
              "      <th>0</th>\n",
              "      <td>activities</td>\n",
              "      <td>15</td>\n",
              "    </tr>\n",
              "    <tr>\n",
              "      <th>1</th>\n",
              "      <td>country</td>\n",
              "      <td>12</td>\n",
              "    </tr>\n",
              "    <tr>\n",
              "      <th>2</th>\n",
              "      <td>repayment_interval</td>\n",
              "      <td>3</td>\n",
              "    </tr>\n",
              "  </tbody>\n",
              "</table>\n",
              "</div>"
            ],
            "text/plain": [
              "                  var  nunique\n",
              "0          activities       15\n",
              "1             country       12\n",
              "2  repayment_interval        3"
            ]
          },
          "metadata": {
            "tags": []
          },
          "execution_count": 53
        }
      ]
    },
    {
      "cell_type": "markdown",
      "metadata": {
        "id": "aY4YYjCndmKT"
      },
      "source": [
        "# 4. Regression Analysis"
      ]
    },
    {
      "cell_type": "code",
      "metadata": {
        "id": "Av2cyzobdFLu"
      },
      "source": [
        "# Create a copy of df_preprocessed \n",
        "df = df_preprocessed.copy(deep=True)"
      ],
      "execution_count": null,
      "outputs": []
    },
    {
      "cell_type": "code",
      "metadata": {
        "id": "D2WhNhTOtzIu",
        "outputId": "80ff163f-5098-4de8-c94f-edef01a02b7f",
        "colab": {
          "base_uri": "https://localhost:8080/",
          "height": 85
        }
      },
      "source": [
        "df.columns"
      ],
      "execution_count": null,
      "outputs": [
        {
          "output_type": "execute_result",
          "data": {
            "text/plain": [
              "Index(['loan_amount', 'country', 'term_in_months', 'lender_count',\n",
              "       'repayment_interval', 'MPI', 'activities', 'male_borrowers',\n",
              "       'female_borrowers'],\n",
              "      dtype='object')"
            ]
          },
          "metadata": {
            "tags": []
          },
          "execution_count": 52
        }
      ]
    },
    {
      "cell_type": "markdown",
      "metadata": {
        "id": "xdugMwvTMeR1"
      },
      "source": [
        "## 4.1 Define target"
      ]
    },
    {
      "cell_type": "code",
      "metadata": {
        "id": "QzFbZ2a1MeR1"
      },
      "source": [
        "target = 'loan_amount'"
      ],
      "execution_count": null,
      "outputs": []
    },
    {
      "cell_type": "markdown",
      "metadata": {
        "id": "a1JpxZQzMeS5"
      },
      "source": [
        "## 4.2 Encoding the categorical features"
      ]
    },
    {
      "cell_type": "code",
      "metadata": {
        "id": "Jr9re1XOMeS6",
        "outputId": "8a31b7a0-39bc-4edd-dcdf-92fef41b8deb",
        "colab": {
          "base_uri": "https://localhost:8080/",
          "height": 241
        }
      },
      "source": [
        "# One-hot-encode the categorical features in the combined data\n",
        "df = pd.get_dummies(df, columns=np.setdiff1d(np.intersect1d(df.columns, df_cat['var']), [target]))\n",
        "\n",
        "# Print the first 5 rows of df\n",
        "df.head()"
      ],
      "execution_count": null,
      "outputs": [
        {
          "output_type": "execute_result",
          "data": {
            "text/html": [
              "<div>\n",
              "<style scoped>\n",
              "    .dataframe tbody tr th:only-of-type {\n",
              "        vertical-align: middle;\n",
              "    }\n",
              "\n",
              "    .dataframe tbody tr th {\n",
              "        vertical-align: top;\n",
              "    }\n",
              "\n",
              "    .dataframe thead th {\n",
              "        text-align: right;\n",
              "    }\n",
              "</style>\n",
              "<table border=\"1\" class=\"dataframe\">\n",
              "  <thead>\n",
              "    <tr style=\"text-align: right;\">\n",
              "      <th></th>\n",
              "      <th>loan_amount</th>\n",
              "      <th>term_in_months</th>\n",
              "      <th>lender_count</th>\n",
              "      <th>MPI</th>\n",
              "      <th>male_borrowers</th>\n",
              "      <th>female_borrowers</th>\n",
              "      <th>activities_agriculture_and_livestock</th>\n",
              "      <th>activities_arts_and_crafts</th>\n",
              "      <th>activities_business</th>\n",
              "      <th>activities_construction_materials</th>\n",
              "      <th>...</th>\n",
              "      <th>country_El Salvador</th>\n",
              "      <th>country_Haiti</th>\n",
              "      <th>country_Honduras</th>\n",
              "      <th>country_Nicaragua</th>\n",
              "      <th>country_Paraguay</th>\n",
              "      <th>country_Peru</th>\n",
              "      <th>country_Suriname</th>\n",
              "      <th>repayment_interval_bullet</th>\n",
              "      <th>repayment_interval_irregular</th>\n",
              "      <th>repayment_interval_monthly</th>\n",
              "    </tr>\n",
              "  </thead>\n",
              "  <tbody>\n",
              "    <tr>\n",
              "      <td>48</td>\n",
              "      <td>600.0</td>\n",
              "      <td>14.0</td>\n",
              "      <td>16</td>\n",
              "      <td>0.074</td>\n",
              "      <td>0</td>\n",
              "      <td>1</td>\n",
              "      <td>0</td>\n",
              "      <td>0</td>\n",
              "      <td>1</td>\n",
              "      <td>0</td>\n",
              "      <td>...</td>\n",
              "      <td>0</td>\n",
              "      <td>0</td>\n",
              "      <td>0</td>\n",
              "      <td>1</td>\n",
              "      <td>0</td>\n",
              "      <td>0</td>\n",
              "      <td>0</td>\n",
              "      <td>0</td>\n",
              "      <td>0</td>\n",
              "      <td>1</td>\n",
              "    </tr>\n",
              "    <tr>\n",
              "      <td>49</td>\n",
              "      <td>450.0</td>\n",
              "      <td>14.0</td>\n",
              "      <td>18</td>\n",
              "      <td>0.032</td>\n",
              "      <td>1</td>\n",
              "      <td>0</td>\n",
              "      <td>0</td>\n",
              "      <td>0</td>\n",
              "      <td>1</td>\n",
              "      <td>0</td>\n",
              "      <td>...</td>\n",
              "      <td>1</td>\n",
              "      <td>0</td>\n",
              "      <td>0</td>\n",
              "      <td>0</td>\n",
              "      <td>0</td>\n",
              "      <td>0</td>\n",
              "      <td>0</td>\n",
              "      <td>0</td>\n",
              "      <td>0</td>\n",
              "      <td>1</td>\n",
              "    </tr>\n",
              "    <tr>\n",
              "      <td>53</td>\n",
              "      <td>550.0</td>\n",
              "      <td>14.0</td>\n",
              "      <td>20</td>\n",
              "      <td>0.053</td>\n",
              "      <td>1</td>\n",
              "      <td>0</td>\n",
              "      <td>0</td>\n",
              "      <td>0</td>\n",
              "      <td>0</td>\n",
              "      <td>0</td>\n",
              "      <td>...</td>\n",
              "      <td>0</td>\n",
              "      <td>0</td>\n",
              "      <td>0</td>\n",
              "      <td>0</td>\n",
              "      <td>0</td>\n",
              "      <td>1</td>\n",
              "      <td>0</td>\n",
              "      <td>0</td>\n",
              "      <td>0</td>\n",
              "      <td>1</td>\n",
              "    </tr>\n",
              "    <tr>\n",
              "      <td>69</td>\n",
              "      <td>1075.0</td>\n",
              "      <td>17.0</td>\n",
              "      <td>41</td>\n",
              "      <td>0.053</td>\n",
              "      <td>1</td>\n",
              "      <td>0</td>\n",
              "      <td>0</td>\n",
              "      <td>0</td>\n",
              "      <td>0</td>\n",
              "      <td>0</td>\n",
              "      <td>...</td>\n",
              "      <td>0</td>\n",
              "      <td>0</td>\n",
              "      <td>0</td>\n",
              "      <td>0</td>\n",
              "      <td>0</td>\n",
              "      <td>1</td>\n",
              "      <td>0</td>\n",
              "      <td>0</td>\n",
              "      <td>0</td>\n",
              "      <td>1</td>\n",
              "    </tr>\n",
              "    <tr>\n",
              "      <td>80</td>\n",
              "      <td>1000.0</td>\n",
              "      <td>20.0</td>\n",
              "      <td>34</td>\n",
              "      <td>0.090</td>\n",
              "      <td>0</td>\n",
              "      <td>1</td>\n",
              "      <td>0</td>\n",
              "      <td>0</td>\n",
              "      <td>1</td>\n",
              "      <td>0</td>\n",
              "      <td>...</td>\n",
              "      <td>0</td>\n",
              "      <td>0</td>\n",
              "      <td>1</td>\n",
              "      <td>0</td>\n",
              "      <td>0</td>\n",
              "      <td>0</td>\n",
              "      <td>0</td>\n",
              "      <td>0</td>\n",
              "      <td>0</td>\n",
              "      <td>1</td>\n",
              "    </tr>\n",
              "  </tbody>\n",
              "</table>\n",
              "<p>5 rows × 35 columns</p>\n",
              "</div>"
            ],
            "text/plain": [
              "    loan_amount  term_in_months  lender_count    MPI  male_borrowers  \\\n",
              "48        600.0            14.0            16  0.074               0   \n",
              "49        450.0            14.0            18  0.032               1   \n",
              "53        550.0            14.0            20  0.053               1   \n",
              "69       1075.0            17.0            41  0.053               1   \n",
              "80       1000.0            20.0            34  0.090               0   \n",
              "\n",
              "    female_borrowers  activities_agriculture_and_livestock  \\\n",
              "48                 1                                     0   \n",
              "49                 0                                     0   \n",
              "53                 0                                     0   \n",
              "69                 0                                     0   \n",
              "80                 1                                     0   \n",
              "\n",
              "    activities_arts_and_crafts  activities_business  \\\n",
              "48                           0                    1   \n",
              "49                           0                    1   \n",
              "53                           0                    0   \n",
              "69                           0                    0   \n",
              "80                           0                    1   \n",
              "\n",
              "    activities_construction_materials  ...  country_El Salvador  \\\n",
              "48                                  0  ...                    0   \n",
              "49                                  0  ...                    1   \n",
              "53                                  0  ...                    0   \n",
              "69                                  0  ...                    0   \n",
              "80                                  0  ...                    0   \n",
              "\n",
              "    country_Haiti  country_Honduras  country_Nicaragua  country_Paraguay  \\\n",
              "48              0                 0                  1                 0   \n",
              "49              0                 0                  0                 0   \n",
              "53              0                 0                  0                 0   \n",
              "69              0                 0                  0                 0   \n",
              "80              0                 1                  0                 0   \n",
              "\n",
              "    country_Peru  country_Suriname  repayment_interval_bullet  \\\n",
              "48             0                 0                          0   \n",
              "49             0                 0                          0   \n",
              "53             1                 0                          0   \n",
              "69             1                 0                          0   \n",
              "80             0                 0                          0   \n",
              "\n",
              "    repayment_interval_irregular  repayment_interval_monthly  \n",
              "48                             0                           1  \n",
              "49                             0                           1  \n",
              "53                             0                           1  \n",
              "69                             0                           1  \n",
              "80                             0                           1  \n",
              "\n",
              "[5 rows x 35 columns]"
            ]
          },
          "metadata": {
            "tags": []
          },
          "execution_count": 54
        }
      ]
    },
    {
      "cell_type": "markdown",
      "metadata": {
        "id": "ViEHxCisMeR5"
      },
      "source": [
        "## 4.3 Creating the train, test and validation datasets"
      ]
    },
    {
      "cell_type": "markdown",
      "metadata": {
        "id": "2OSMPjWIMeR5"
      },
      "source": [
        "### 4.3.1 Creating a test set"
      ]
    },
    {
      "cell_type": "code",
      "metadata": {
        "id": "CzTQNfxjMeR6"
      },
      "source": [
        "from sklearn.model_selection import train_test_split\n",
        "\n",
        "df_train, df_test = train_test_split(df, test_size=0.2, random_state=4)"
      ],
      "execution_count": null,
      "outputs": []
    },
    {
      "cell_type": "code",
      "metadata": {
        "id": "zgnddkd6MeR-"
      },
      "source": [
        "#remove target in test set\n",
        "df_test.drop([target], axis=1, inplace=True)"
      ],
      "execution_count": null,
      "outputs": []
    },
    {
      "cell_type": "markdown",
      "metadata": {
        "id": "wp6btuilMeSE"
      },
      "source": [
        "### 4.3.2 Dividing the training data into training and validation"
      ]
    },
    {
      "cell_type": "code",
      "metadata": {
        "id": "4W5c-7sJMeSF"
      },
      "source": [
        "from sklearn.model_selection import train_test_split\n",
        "\n",
        "# Divide: 80% as training set and 20% as validation\n",
        "df_train, df_valid = train_test_split(df_train, train_size=.8, random_state=42)\n",
        "\n",
        "# Reset the index in training and validation sets\n",
        "df_train = df_train.reset_index(drop=True)\n",
        "df_valid = df_valid.reset_index(drop=True)"
      ],
      "execution_count": null,
      "outputs": []
    },
    {
      "cell_type": "code",
      "metadata": {
        "id": "XXm9NFV9MeSJ",
        "outputId": "b75a4a33-4e0c-4840-e428-1b8def99349c",
        "colab": {
          "base_uri": "https://localhost:8080/",
          "height": 80
        }
      },
      "source": [
        "# Print the dimension of training set\n",
        "pd.DataFrame([[df_train.shape[0], df_train.shape[1]]], columns=['rows','columns'])"
      ],
      "execution_count": null,
      "outputs": [
        {
          "output_type": "execute_result",
          "data": {
            "text/html": [
              "<div>\n",
              "<style scoped>\n",
              "    .dataframe tbody tr th:only-of-type {\n",
              "        vertical-align: middle;\n",
              "    }\n",
              "\n",
              "    .dataframe tbody tr th {\n",
              "        vertical-align: top;\n",
              "    }\n",
              "\n",
              "    .dataframe thead th {\n",
              "        text-align: right;\n",
              "    }\n",
              "</style>\n",
              "<table border=\"1\" class=\"dataframe\">\n",
              "  <thead>\n",
              "    <tr style=\"text-align: right;\">\n",
              "      <th></th>\n",
              "      <th>rows</th>\n",
              "      <th>columns</th>\n",
              "    </tr>\n",
              "  </thead>\n",
              "  <tbody>\n",
              "    <tr>\n",
              "      <td>0</td>\n",
              "      <td>84870</td>\n",
              "      <td>35</td>\n",
              "    </tr>\n",
              "  </tbody>\n",
              "</table>\n",
              "</div>"
            ],
            "text/plain": [
              "    rows  columns\n",
              "0  84870       35"
            ]
          },
          "metadata": {
            "tags": []
          },
          "execution_count": 58
        }
      ]
    },
    {
      "cell_type": "code",
      "metadata": {
        "id": "YXYUmVbWMeSM",
        "outputId": "e8191c82-1275-4e8e-d570-75969b9419de",
        "colab": {
          "base_uri": "https://localhost:8080/",
          "height": 80
        }
      },
      "source": [
        "#Print the dimension of validation set\n",
        "pd.DataFrame([[df_valid.shape[0], df_valid.shape[1]]], columns=['rows','columns'])"
      ],
      "execution_count": null,
      "outputs": [
        {
          "output_type": "execute_result",
          "data": {
            "text/html": [
              "<div>\n",
              "<style scoped>\n",
              "    .dataframe tbody tr th:only-of-type {\n",
              "        vertical-align: middle;\n",
              "    }\n",
              "\n",
              "    .dataframe tbody tr th {\n",
              "        vertical-align: top;\n",
              "    }\n",
              "\n",
              "    .dataframe thead th {\n",
              "        text-align: right;\n",
              "    }\n",
              "</style>\n",
              "<table border=\"1\" class=\"dataframe\">\n",
              "  <thead>\n",
              "    <tr style=\"text-align: right;\">\n",
              "      <th></th>\n",
              "      <th>rows</th>\n",
              "      <th>columns</th>\n",
              "    </tr>\n",
              "  </thead>\n",
              "  <tbody>\n",
              "    <tr>\n",
              "      <td>0</td>\n",
              "      <td>21218</td>\n",
              "      <td>35</td>\n",
              "    </tr>\n",
              "  </tbody>\n",
              "</table>\n",
              "</div>"
            ],
            "text/plain": [
              "    rows  columns\n",
              "0  21218       35"
            ]
          },
          "metadata": {
            "tags": []
          },
          "execution_count": 59
        }
      ]
    },
    {
      "cell_type": "code",
      "metadata": {
        "id": "IKNKzio_MeSP",
        "outputId": "d8aefc40-828c-4726-dadd-b7547a61bfb6",
        "colab": {
          "base_uri": "https://localhost:8080/",
          "height": 80
        }
      },
      "source": [
        "# Print the dimension of test set\n",
        "pd.DataFrame([[df_test.shape[0], df_test.shape[1]]], columns=['rows','columns'])"
      ],
      "execution_count": null,
      "outputs": [
        {
          "output_type": "execute_result",
          "data": {
            "text/html": [
              "<div>\n",
              "<style scoped>\n",
              "    .dataframe tbody tr th:only-of-type {\n",
              "        vertical-align: middle;\n",
              "    }\n",
              "\n",
              "    .dataframe tbody tr th {\n",
              "        vertical-align: top;\n",
              "    }\n",
              "\n",
              "    .dataframe thead th {\n",
              "        text-align: right;\n",
              "    }\n",
              "</style>\n",
              "<table border=\"1\" class=\"dataframe\">\n",
              "  <thead>\n",
              "    <tr style=\"text-align: right;\">\n",
              "      <th></th>\n",
              "      <th>rows</th>\n",
              "      <th>columns</th>\n",
              "    </tr>\n",
              "  </thead>\n",
              "  <tbody>\n",
              "    <tr>\n",
              "      <td>0</td>\n",
              "      <td>26523</td>\n",
              "      <td>34</td>\n",
              "    </tr>\n",
              "  </tbody>\n",
              "</table>\n",
              "</div>"
            ],
            "text/plain": [
              "    rows  columns\n",
              "0  26523       34"
            ]
          },
          "metadata": {
            "tags": []
          },
          "execution_count": 60
        }
      ]
    },
    {
      "cell_type": "markdown",
      "metadata": {
        "id": "Q2VFQD44MeTE"
      },
      "source": [
        "## 4.4 Getting the name of the features"
      ]
    },
    {
      "cell_type": "code",
      "metadata": {
        "id": "QHMdLL8yMeTE"
      },
      "source": [
        "features = np.setdiff1d(df.columns, [target])"
      ],
      "execution_count": null,
      "outputs": []
    },
    {
      "cell_type": "code",
      "metadata": {
        "id": "1paECRWFqGrO",
        "outputId": "1fa34cff-ca11-48f8-a5f9-7c656a61feb2",
        "colab": {
          "base_uri": "https://localhost:8080/",
          "height": 272
        }
      },
      "source": [
        "features"
      ],
      "execution_count": null,
      "outputs": [
        {
          "output_type": "execute_result",
          "data": {
            "text/plain": [
              "array(['MPI', 'activities_agriculture_and_livestock',\n",
              "       'activities_arts_and_crafts', 'activities_business',\n",
              "       'activities_construction_materials', 'activities_education',\n",
              "       'activities_energy', 'activities_entertainment',\n",
              "       'activities_food_and_beverages', 'activities_healthcare',\n",
              "       'activities_maintenance', 'activities_miscellaneous',\n",
              "       'activities_services', 'activities_supplies',\n",
              "       'activities_technology_and_IT', 'country_Belize', 'country_Brazil',\n",
              "       'country_Colombia', 'country_Dominican Republic',\n",
              "       'country_Ecuador', 'country_El Salvador', 'country_Haiti',\n",
              "       'country_Honduras', 'country_Nicaragua', 'country_Paraguay',\n",
              "       'country_Peru', 'country_Suriname', 'female_borrowers',\n",
              "       'lender_count', 'male_borrowers', 'repayment_interval_bullet',\n",
              "       'repayment_interval_irregular', 'repayment_interval_monthly',\n",
              "       'term_in_months'], dtype=object)"
            ]
          },
          "metadata": {
            "tags": []
          },
          "execution_count": 62
        }
      ]
    },
    {
      "cell_type": "markdown",
      "metadata": {
        "id": "I4HsSa0VMeTF"
      },
      "source": [
        "## 4.5 Getting the feature matrix and target vector"
      ]
    },
    {
      "cell_type": "code",
      "metadata": {
        "id": "QlNRhgvaMeTG"
      },
      "source": [
        "# Get the feature matrix\n",
        "X_train = df_train[features].to_numpy()\n",
        "X_valid = df_valid[features].to_numpy()\n",
        "X_test = df_test[features].to_numpy()\n",
        "\n",
        "# Get the target vector\n",
        "y_train = df_train[target].astype(int).to_numpy()\n",
        "y_valid = df_valid[target].astype(int).to_numpy()"
      ],
      "execution_count": null,
      "outputs": []
    },
    {
      "cell_type": "markdown",
      "metadata": {
        "id": "0k2jHfAFMeTH"
      },
      "source": [
        "## 4.6 Scaling the data"
      ]
    },
    {
      "cell_type": "code",
      "metadata": {
        "id": "lEzwmrjmMeTH"
      },
      "source": [
        "from sklearn.preprocessing import StandardScaler\n",
        "\n",
        "# The StandardScaler\n",
        "ss = StandardScaler()\n",
        "\n",
        "# Standardize the training data\n",
        "X_train = ss.fit_transform(X_train)\n",
        "\n",
        "# Standardize the validation data\n",
        "X_valid = ss.transform(X_valid)\n",
        "\n",
        "# Standardize the testing data\n",
        "X_test = ss.transform(X_test)"
      ],
      "execution_count": null,
      "outputs": []
    },
    {
      "cell_type": "markdown",
      "metadata": {
        "id": "eDNd7EQr8YbX"
      },
      "source": [
        "## 4.7 Correlation plot"
      ]
    },
    {
      "cell_type": "code",
      "metadata": {
        "id": "PdiCcC-yMeTJ",
        "outputId": "f8ab7725-f43e-4b52-e197-f271144feff2",
        "colab": {
          "base_uri": "https://localhost:8080/",
          "height": 976
        }
      },
      "source": [
        "#creating a correlation plot to see what are the most relevant features\n",
        "import seaborn as sns\n",
        "import matplotlib.pyplot as plt\n",
        "\n",
        "fig, ax = plt.subplots(figsize=(20,20))\n",
        "sns.heatmap(df.corr()[[target]].sort_values(target),\n",
        "vmax=1, vmin=-1, cmap='YlGnBu', annot=True, ax=ax);\n",
        "ax.invert_yaxis()\n",
        "plt.show()"
      ],
      "execution_count": null,
      "outputs": [
        {
          "output_type": "display_data",
          "data": {
            "image/png": "[encoded data removed]",
            "text/plain": [
              "<Figure size 1440x1440 with 2 Axes>"
            ]
          },
          "metadata": {
            "tags": [],
            "needs_background": "light"
          }
        }
      ]
    },
    {
      "cell_type": "markdown",
      "metadata": {
        "id": "yi-omJLQqbKS"
      },
      "source": [
        "## 4.8 Hyperparameter tuning"
      ]
    },
    {
      "cell_type": "markdown",
      "metadata": {
        "id": "ZdjJxrdP0dDV"
      },
      "source": [
        "### 4.8.1 Creating the dictionary of the models"
      ]
    },
    {
      "cell_type": "code",
      "metadata": {
        "id": "GabehIq5oCHT"
      },
      "source": [
        "from sklearn.linear_model import LogisticRegression\n",
        "from sklearn.tree import DecisionTreeRegressor\n",
        "from sklearn.ensemble import RandomForestRegressor\n",
        "from sklearn.neural_network import MLPRegressor\n",
        "\n",
        "models = {'dtr': DecisionTreeRegressor(random_state=42),\n",
        "          'rfr': RandomForestRegressor(max_depth = 20, random_state=42),\n",
        "          'mlpr': MLPRegressor(max_iter = 500, early_stopping=True, random_state=42)}"
      ],
      "execution_count": null,
      "outputs": []
    },
    {
      "cell_type": "markdown",
      "metadata": {
        "id": "mGnxT3KmqhAO"
      },
      "source": [
        "### 4.8.2 Creating the dictionary of pipelines"
      ]
    },
    {
      "cell_type": "code",
      "metadata": {
        "id": "PwgOuvQ7oCLO"
      },
      "source": [
        "from sklearn.pipeline import Pipeline\n",
        "\n",
        "pipes = {}\n",
        "\n",
        "for acronym, model in models.items():\n",
        "    pipes[acronym] = Pipeline([('model', model)])"
      ],
      "execution_count": null,
      "outputs": []
    },
    {
      "cell_type": "markdown",
      "metadata": {
        "id": "L_DZgJmaqrAV"
      },
      "source": [
        "### 4.8.3 Getting the predefined split cross-validator"
      ]
    },
    {
      "cell_type": "code",
      "metadata": {
        "id": "gApuftlwlo86"
      },
      "source": [
        "from sklearn.model_selection import PredefinedSplit\n",
        "\n",
        "# Combine the feature matrix in the training and validation data\n",
        "X_train_valid = np.vstack((X_train, X_valid))\n",
        "\n",
        "# Combine the target vector in the training and validation data\n",
        "y_train_valid = np.append(y_train, y_valid)\n",
        "\n",
        "# Get the indices of training and validation data\n",
        "train_valid_idxs = np.append(np.full(X_train.shape[0], -1), np.full(X_valid.shape[0], 0))\n",
        "\n",
        "# The PredefinedSplit\n",
        "ps = PredefinedSplit(train_valid_idxs)"
      ],
      "execution_count": null,
      "outputs": []
    },
    {
      "cell_type": "markdown",
      "metadata": {
        "id": "uCvxnrE8qwBA"
      },
      "source": [
        "### 4.8.4 Creating the dictionary of the parameter grids"
      ]
    },
    {
      "cell_type": "code",
      "metadata": {
        "id": "ab27Fp6flpAg"
      },
      "source": [
        "param_grids = {}"
      ],
      "execution_count": null,
      "outputs": []
    },
    {
      "cell_type": "markdown",
      "metadata": {
        "id": "8urH3ZlxrEbY"
      },
      "source": [
        "#### 4.8.4.1 The parameters for Decision Tree"
      ]
    },
    {
      "cell_type": "code",
      "metadata": {
        "id": "TZntQWAmqy7F"
      },
      "source": [
        "# The grids for min_samples_split\n",
        "min_samples_split_grids = [2, 30, 100]\n",
        "\n",
        "# The grids for min_samples_leaf\n",
        "min_samples_leaf_grids = [1, 30, 100]\n",
        "\n",
        "# The grids for max_depth\n",
        "max_depth_grids = range(1, 35, 3)\n",
        "\n",
        "# Update param_grids\n",
        "param_grids['dtr'] = [{'model__min_samples_split': min_samples_split_grids,\n",
        "                       'model__min_samples_leaf': min_samples_leaf_grids,\n",
        "                       'model__max_depth': max_depth_grids}]"
      ],
      "execution_count": null,
      "outputs": []
    },
    {
      "cell_type": "markdown",
      "metadata": {
        "id": "wV14a0cOrHqf"
      },
      "source": [
        "#### 4.8.4.2 The parameter grid for Random Forest"
      ]
    },
    {
      "cell_type": "code",
      "metadata": {
        "id": "pAS4M0MeqzHF"
      },
      "source": [
        "# The grids for min_samples_split\n",
        "min_samples_split_grids = [2, 20, 100]\n",
        "\n",
        "# The grids for min_samples_leaf\n",
        "min_samples_leaf_grids = [1, 20, 100]\n",
        "\n",
        "# Update param_grids\n",
        "param_grids['rfr'] = [{'model__min_samples_split': min_samples_split_grids,\n",
        "                       'model__min_samples_leaf': min_samples_leaf_grids}]"
      ],
      "execution_count": null,
      "outputs": []
    },
    {
      "cell_type": "markdown",
      "metadata": {
        "id": "hpWyOT-mrYUV"
      },
      "source": [
        "#### 4.8.4.3 The parameter grid for multi-layer perceptron regressor"
      ]
    },
    {
      "cell_type": "code",
      "metadata": {
        "id": "FjHYldSZqzYh"
      },
      "source": [
        "# The grids for alpha\n",
        "alpha_grids = [10 ** i for i in range(-6, -1)]\n",
        "\n",
        "# The grids for learning_rate_init\n",
        "learning_rate_init_grids = [10 ** i for i in range(-5, 0)]\n",
        "\n",
        "# Update param_grids\n",
        "param_grids['mlpr'] = [{'model__alpha': alpha_grids,\n",
        "                        'model__learning_rate_init': learning_rate_init_grids}]"
      ],
      "execution_count": null,
      "outputs": []
    },
    {
      "cell_type": "markdown",
      "metadata": {
        "id": "j1Eml2k-rlQA"
      },
      "source": [
        "### 4.8.5 Creating the directory for the cv regression results"
      ]
    },
    {
      "cell_type": "code",
      "metadata": {
        "id": "6JJU1l6gqzb-"
      },
      "source": [
        "import os\n",
        "\n",
        "# Make directory\n",
        "directory = os.path.dirname('cv_regression_results/')\n",
        "if not os.path.exists(directory):\n",
        "    os.makedirs(directory)"
      ],
      "execution_count": null,
      "outputs": []
    },
    {
      "cell_type": "markdown",
      "metadata": {
        "id": "1TfAPuElrt_F"
      },
      "source": [
        "### 4.8.6 Hyperparameter Tuning with MSE as accuracy metric"
      ]
    },
    {
      "cell_type": "code",
      "metadata": {
        "id": "e1ZIKlc4qzE1",
        "outputId": "2a9b4dfd-d585-4609-9ccd-607eafff21ed"
      },
      "source": [
        "from sklearn.model_selection import GridSearchCV\n",
        "\n",
        "# The list of [best_score_, best_params_, best_estimator_] obtained by GridSearchCV\n",
        "best_score_param_estimator_gs = []\n",
        "\n",
        "for acronym in pipes.keys():\n",
        "    # GridSearchCV\n",
        "    gs = GridSearchCV(estimator=pipes[acronym],\n",
        "                      param_grid=param_grids[acronym],\n",
        "                      scoring='neg_mean_squared_error',\n",
        "                      n_jobs=-1,\n",
        "                      cv=ps,\n",
        "                      return_train_score=True)\n",
        "        \n",
        "    # Fit the pipeline\n",
        "    gs = gs.fit(X_train_valid, y_train_valid)\n",
        "    \n",
        "    # Update best_score_param_estimator_gs\n",
        "    best_score_param_estimator_gs.append([gs.best_score_, gs.best_params_, gs.best_estimator_])\n",
        "    \n",
        "    # Sort cv_results in ascending order of 'rank_test_score' and 'std_test_score'\n",
        "    cv_results = pd.DataFrame.from_dict(gs.cv_results_).sort_values(by=['rank_test_score', 'std_test_score'])\n",
        "    \n",
        "    # Get the important columns in cv_results\n",
        "    important_columns = ['rank_test_score',\n",
        "                         'mean_test_score', \n",
        "                         'std_test_score', \n",
        "                         'mean_train_score', \n",
        "                         'std_train_score',\n",
        "                         'mean_fit_time', \n",
        "                         'std_fit_time',                        \n",
        "                         'mean_score_time', \n",
        "                         'std_score_time']\n",
        "    \n",
        "    # Move the important columns ahead\n",
        "    cv_results = cv_results[important_columns + sorted(list(set(cv_results.columns) - set(important_columns)))]\n",
        "\n",
        "    # Write cv_results file\n",
        "    cv_results.to_csv(path_or_buf='cv_regression_results/' + acronym + '.csv', index=False)"
      ],
      "execution_count": null,
      "outputs": [
        {
          "output_type": "error",
          "ename": "KeyboardInterrupt",
          "evalue": "",
          "traceback": [
            "\u001b[0;31m---------------------------------------------------------------------------\u001b[0m",
            "\u001b[0;31mKeyboardInterrupt\u001b[0m                         Traceback (most recent call last)",
            "\u001b[0;32m<ipython-input-74-4d508bf36e57>\u001b[0m in \u001b[0;36m<module>\u001b[0;34m\u001b[0m\n\u001b[1;32m     14\u001b[0m \u001b[0;34m\u001b[0m\u001b[0m\n\u001b[1;32m     15\u001b[0m     \u001b[0;31m# Fit the pipeline\u001b[0m\u001b[0;34m\u001b[0m\u001b[0;34m\u001b[0m\u001b[0;34m\u001b[0m\u001b[0m\n\u001b[0;32m---> 16\u001b[0;31m     \u001b[0mgs\u001b[0m \u001b[0;34m=\u001b[0m \u001b[0mgs\u001b[0m\u001b[0;34m.\u001b[0m\u001b[0mfit\u001b[0m\u001b[0;34m(\u001b[0m\u001b[0mX_train_valid\u001b[0m\u001b[0;34m,\u001b[0m \u001b[0my_train_valid\u001b[0m\u001b[0;34m)\u001b[0m\u001b[0;34m\u001b[0m\u001b[0;34m\u001b[0m\u001b[0m\n\u001b[0m\u001b[1;32m     17\u001b[0m \u001b[0;34m\u001b[0m\u001b[0m\n\u001b[1;32m     18\u001b[0m     \u001b[0;31m# Update best_score_param_estimator_gs\u001b[0m\u001b[0;34m\u001b[0m\u001b[0;34m\u001b[0m\u001b[0;34m\u001b[0m\u001b[0m\n",
            "\u001b[0;32m~/opt/anaconda3/lib/python3.7/site-packages/sklearn/model_selection/_search.py\u001b[0m in \u001b[0;36mfit\u001b[0;34m(self, X, y, groups, **fit_params)\u001b[0m\n\u001b[1;32m    686\u001b[0m                 \u001b[0;32mreturn\u001b[0m \u001b[0mresults\u001b[0m\u001b[0;34m\u001b[0m\u001b[0;34m\u001b[0m\u001b[0m\n\u001b[1;32m    687\u001b[0m \u001b[0;34m\u001b[0m\u001b[0m\n\u001b[0;32m--> 688\u001b[0;31m             \u001b[0mself\u001b[0m\u001b[0;34m.\u001b[0m\u001b[0m_run_search\u001b[0m\u001b[0;34m(\u001b[0m\u001b[0mevaluate_candidates\u001b[0m\u001b[0;34m)\u001b[0m\u001b[0;34m\u001b[0m\u001b[0;34m\u001b[0m\u001b[0m\n\u001b[0m\u001b[1;32m    689\u001b[0m \u001b[0;34m\u001b[0m\u001b[0m\n\u001b[1;32m    690\u001b[0m         \u001b[0;31m# For multi-metric evaluation, store the best_index_, best_params_ and\u001b[0m\u001b[0;34m\u001b[0m\u001b[0;34m\u001b[0m\u001b[0;34m\u001b[0m\u001b[0m\n",
            "\u001b[0;32m~/opt/anaconda3/lib/python3.7/site-packages/sklearn/model_selection/_search.py\u001b[0m in \u001b[0;36m_run_search\u001b[0;34m(self, evaluate_candidates)\u001b[0m\n\u001b[1;32m   1147\u001b[0m     \u001b[0;32mdef\u001b[0m \u001b[0m_run_search\u001b[0m\u001b[0;34m(\u001b[0m\u001b[0mself\u001b[0m\u001b[0;34m,\u001b[0m \u001b[0mevaluate_candidates\u001b[0m\u001b[0;34m)\u001b[0m\u001b[0;34m:\u001b[0m\u001b[0;34m\u001b[0m\u001b[0;34m\u001b[0m\u001b[0m\n\u001b[1;32m   1148\u001b[0m         \u001b[0;34m\"\"\"Search all candidates in param_grid\"\"\"\u001b[0m\u001b[0;34m\u001b[0m\u001b[0;34m\u001b[0m\u001b[0m\n\u001b[0;32m-> 1149\u001b[0;31m         \u001b[0mevaluate_candidates\u001b[0m\u001b[0;34m(\u001b[0m\u001b[0mParameterGrid\u001b[0m\u001b[0;34m(\u001b[0m\u001b[0mself\u001b[0m\u001b[0;34m.\u001b[0m\u001b[0mparam_grid\u001b[0m\u001b[0;34m)\u001b[0m\u001b[0;34m)\u001b[0m\u001b[0;34m\u001b[0m\u001b[0;34m\u001b[0m\u001b[0m\n\u001b[0m\u001b[1;32m   1150\u001b[0m \u001b[0;34m\u001b[0m\u001b[0m\n\u001b[1;32m   1151\u001b[0m \u001b[0;34m\u001b[0m\u001b[0m\n",
            "\u001b[0;32m~/opt/anaconda3/lib/python3.7/site-packages/sklearn/model_selection/_search.py\u001b[0m in \u001b[0;36mevaluate_candidates\u001b[0;34m(candidate_params)\u001b[0m\n\u001b[1;32m    665\u001b[0m                                \u001b[0;32mfor\u001b[0m \u001b[0mparameters\u001b[0m\u001b[0;34m,\u001b[0m \u001b[0;34m(\u001b[0m\u001b[0mtrain\u001b[0m\u001b[0;34m,\u001b[0m \u001b[0mtest\u001b[0m\u001b[0;34m)\u001b[0m\u001b[0;34m\u001b[0m\u001b[0;34m\u001b[0m\u001b[0m\n\u001b[1;32m    666\u001b[0m                                in product(candidate_params,\n\u001b[0;32m--> 667\u001b[0;31m                                           cv.split(X, y, groups)))\n\u001b[0m\u001b[1;32m    668\u001b[0m \u001b[0;34m\u001b[0m\u001b[0m\n\u001b[1;32m    669\u001b[0m                 \u001b[0;32mif\u001b[0m \u001b[0mlen\u001b[0m\u001b[0;34m(\u001b[0m\u001b[0mout\u001b[0m\u001b[0;34m)\u001b[0m \u001b[0;34m<\u001b[0m \u001b[0;36m1\u001b[0m\u001b[0;34m:\u001b[0m\u001b[0;34m\u001b[0m\u001b[0;34m\u001b[0m\u001b[0m\n",
            "\u001b[0;32m~/opt/anaconda3/lib/python3.7/site-packages/joblib/parallel.py\u001b[0m in \u001b[0;36m__call__\u001b[0;34m(self, iterable)\u001b[0m\n\u001b[1;32m    932\u001b[0m \u001b[0;34m\u001b[0m\u001b[0m\n\u001b[1;32m    933\u001b[0m             \u001b[0;32mwith\u001b[0m \u001b[0mself\u001b[0m\u001b[0;34m.\u001b[0m\u001b[0m_backend\u001b[0m\u001b[0;34m.\u001b[0m\u001b[0mretrieval_context\u001b[0m\u001b[0;34m(\u001b[0m\u001b[0;34m)\u001b[0m\u001b[0;34m:\u001b[0m\u001b[0;34m\u001b[0m\u001b[0;34m\u001b[0m\u001b[0m\n\u001b[0;32m--> 934\u001b[0;31m                 \u001b[0mself\u001b[0m\u001b[0;34m.\u001b[0m\u001b[0mretrieve\u001b[0m\u001b[0;34m(\u001b[0m\u001b[0;34m)\u001b[0m\u001b[0;34m\u001b[0m\u001b[0;34m\u001b[0m\u001b[0m\n\u001b[0m\u001b[1;32m    935\u001b[0m             \u001b[0;31m# Make sure that we get a last message telling us we are done\u001b[0m\u001b[0;34m\u001b[0m\u001b[0;34m\u001b[0m\u001b[0;34m\u001b[0m\u001b[0m\n\u001b[1;32m    936\u001b[0m             \u001b[0melapsed_time\u001b[0m \u001b[0;34m=\u001b[0m \u001b[0mtime\u001b[0m\u001b[0;34m.\u001b[0m\u001b[0mtime\u001b[0m\u001b[0;34m(\u001b[0m\u001b[0;34m)\u001b[0m \u001b[0;34m-\u001b[0m \u001b[0mself\u001b[0m\u001b[0;34m.\u001b[0m\u001b[0m_start_time\u001b[0m\u001b[0;34m\u001b[0m\u001b[0;34m\u001b[0m\u001b[0m\n",
            "\u001b[0;32m~/opt/anaconda3/lib/python3.7/site-packages/joblib/parallel.py\u001b[0m in \u001b[0;36mretrieve\u001b[0;34m(self)\u001b[0m\n\u001b[1;32m    831\u001b[0m             \u001b[0;32mtry\u001b[0m\u001b[0;34m:\u001b[0m\u001b[0;34m\u001b[0m\u001b[0;34m\u001b[0m\u001b[0m\n\u001b[1;32m    832\u001b[0m                 \u001b[0;32mif\u001b[0m \u001b[0mgetattr\u001b[0m\u001b[0;34m(\u001b[0m\u001b[0mself\u001b[0m\u001b[0;34m.\u001b[0m\u001b[0m_backend\u001b[0m\u001b[0;34m,\u001b[0m \u001b[0;34m'supports_timeout'\u001b[0m\u001b[0;34m,\u001b[0m \u001b[0;32mFalse\u001b[0m\u001b[0;34m)\u001b[0m\u001b[0;34m:\u001b[0m\u001b[0;34m\u001b[0m\u001b[0;34m\u001b[0m\u001b[0m\n\u001b[0;32m--> 833\u001b[0;31m                     \u001b[0mself\u001b[0m\u001b[0;34m.\u001b[0m\u001b[0m_output\u001b[0m\u001b[0;34m.\u001b[0m\u001b[0mextend\u001b[0m\u001b[0;34m(\u001b[0m\u001b[0mjob\u001b[0m\u001b[0;34m.\u001b[0m\u001b[0mget\u001b[0m\u001b[0;34m(\u001b[0m\u001b[0mtimeout\u001b[0m\u001b[0;34m=\u001b[0m\u001b[0mself\u001b[0m\u001b[0;34m.\u001b[0m\u001b[0mtimeout\u001b[0m\u001b[0;34m)\u001b[0m\u001b[0;34m)\u001b[0m\u001b[0;34m\u001b[0m\u001b[0;34m\u001b[0m\u001b[0m\n\u001b[0m\u001b[1;32m    834\u001b[0m                 \u001b[0;32melse\u001b[0m\u001b[0;34m:\u001b[0m\u001b[0;34m\u001b[0m\u001b[0;34m\u001b[0m\u001b[0m\n\u001b[1;32m    835\u001b[0m                     \u001b[0mself\u001b[0m\u001b[0;34m.\u001b[0m\u001b[0m_output\u001b[0m\u001b[0;34m.\u001b[0m\u001b[0mextend\u001b[0m\u001b[0;34m(\u001b[0m\u001b[0mjob\u001b[0m\u001b[0;34m.\u001b[0m\u001b[0mget\u001b[0m\u001b[0;34m(\u001b[0m\u001b[0;34m)\u001b[0m\u001b[0;34m)\u001b[0m\u001b[0;34m\u001b[0m\u001b[0;34m\u001b[0m\u001b[0m\n",
            "\u001b[0;32m~/opt/anaconda3/lib/python3.7/site-packages/joblib/_parallel_backends.py\u001b[0m in \u001b[0;36mwrap_future_result\u001b[0;34m(future, timeout)\u001b[0m\n\u001b[1;32m    519\u001b[0m         AsyncResults.get from multiprocessing.\"\"\"\n\u001b[1;32m    520\u001b[0m         \u001b[0;32mtry\u001b[0m\u001b[0;34m:\u001b[0m\u001b[0;34m\u001b[0m\u001b[0;34m\u001b[0m\u001b[0m\n\u001b[0;32m--> 521\u001b[0;31m             \u001b[0;32mreturn\u001b[0m \u001b[0mfuture\u001b[0m\u001b[0;34m.\u001b[0m\u001b[0mresult\u001b[0m\u001b[0;34m(\u001b[0m\u001b[0mtimeout\u001b[0m\u001b[0;34m=\u001b[0m\u001b[0mtimeout\u001b[0m\u001b[0;34m)\u001b[0m\u001b[0;34m\u001b[0m\u001b[0;34m\u001b[0m\u001b[0m\n\u001b[0m\u001b[1;32m    522\u001b[0m         \u001b[0;32mexcept\u001b[0m \u001b[0mLokyTimeoutError\u001b[0m\u001b[0;34m:\u001b[0m\u001b[0;34m\u001b[0m\u001b[0;34m\u001b[0m\u001b[0m\n\u001b[1;32m    523\u001b[0m             \u001b[0;32mraise\u001b[0m \u001b[0mTimeoutError\u001b[0m\u001b[0;34m(\u001b[0m\u001b[0;34m)\u001b[0m\u001b[0;34m\u001b[0m\u001b[0;34m\u001b[0m\u001b[0m\n",
            "\u001b[0;32m~/opt/anaconda3/lib/python3.7/concurrent/futures/_base.py\u001b[0m in \u001b[0;36mresult\u001b[0;34m(self, timeout)\u001b[0m\n\u001b[1;32m    428\u001b[0m                 \u001b[0;32mreturn\u001b[0m \u001b[0mself\u001b[0m\u001b[0;34m.\u001b[0m\u001b[0m__get_result\u001b[0m\u001b[0;34m(\u001b[0m\u001b[0;34m)\u001b[0m\u001b[0;34m\u001b[0m\u001b[0;34m\u001b[0m\u001b[0m\n\u001b[1;32m    429\u001b[0m \u001b[0;34m\u001b[0m\u001b[0m\n\u001b[0;32m--> 430\u001b[0;31m             \u001b[0mself\u001b[0m\u001b[0;34m.\u001b[0m\u001b[0m_condition\u001b[0m\u001b[0;34m.\u001b[0m\u001b[0mwait\u001b[0m\u001b[0;34m(\u001b[0m\u001b[0mtimeout\u001b[0m\u001b[0;34m)\u001b[0m\u001b[0;34m\u001b[0m\u001b[0;34m\u001b[0m\u001b[0m\n\u001b[0m\u001b[1;32m    431\u001b[0m \u001b[0;34m\u001b[0m\u001b[0m\n\u001b[1;32m    432\u001b[0m             \u001b[0;32mif\u001b[0m \u001b[0mself\u001b[0m\u001b[0;34m.\u001b[0m\u001b[0m_state\u001b[0m \u001b[0;32min\u001b[0m \u001b[0;34m[\u001b[0m\u001b[0mCANCELLED\u001b[0m\u001b[0;34m,\u001b[0m \u001b[0mCANCELLED_AND_NOTIFIED\u001b[0m\u001b[0;34m]\u001b[0m\u001b[0;34m:\u001b[0m\u001b[0;34m\u001b[0m\u001b[0;34m\u001b[0m\u001b[0m\n",
            "\u001b[0;32m~/opt/anaconda3/lib/python3.7/threading.py\u001b[0m in \u001b[0;36mwait\u001b[0;34m(self, timeout)\u001b[0m\n\u001b[1;32m    294\u001b[0m         \u001b[0;32mtry\u001b[0m\u001b[0;34m:\u001b[0m    \u001b[0;31m# restore state no matter what (e.g., KeyboardInterrupt)\u001b[0m\u001b[0;34m\u001b[0m\u001b[0;34m\u001b[0m\u001b[0m\n\u001b[1;32m    295\u001b[0m             \u001b[0;32mif\u001b[0m \u001b[0mtimeout\u001b[0m \u001b[0;32mis\u001b[0m \u001b[0;32mNone\u001b[0m\u001b[0;34m:\u001b[0m\u001b[0;34m\u001b[0m\u001b[0;34m\u001b[0m\u001b[0m\n\u001b[0;32m--> 296\u001b[0;31m                 \u001b[0mwaiter\u001b[0m\u001b[0;34m.\u001b[0m\u001b[0macquire\u001b[0m\u001b[0;34m(\u001b[0m\u001b[0;34m)\u001b[0m\u001b[0;34m\u001b[0m\u001b[0;34m\u001b[0m\u001b[0m\n\u001b[0m\u001b[1;32m    297\u001b[0m                 \u001b[0mgotit\u001b[0m \u001b[0;34m=\u001b[0m \u001b[0;32mTrue\u001b[0m\u001b[0;34m\u001b[0m\u001b[0;34m\u001b[0m\u001b[0m\n\u001b[1;32m    298\u001b[0m             \u001b[0;32melse\u001b[0m\u001b[0;34m:\u001b[0m\u001b[0;34m\u001b[0m\u001b[0;34m\u001b[0m\u001b[0m\n",
            "\u001b[0;31mKeyboardInterrupt\u001b[0m: "
          ]
        }
      ]
    },
    {
      "cell_type": "markdown",
      "metadata": {
        "id": "JglaZsier1hu"
      },
      "source": [
        "### 4.8.7 Model Selection"
      ]
    },
    {
      "cell_type": "code",
      "metadata": {
        "id": "btppBC8BqzDJ"
      },
      "source": [
        "# Sort best_score_param_estimator_gs in descending order of the best_score_\n",
        "best_score_param_estimator_gs = sorted(best_score_param_estimator_gs, key=lambda x : x[0], reverse=True)\n",
        "\n",
        "# Print best_score_param_estimator_gs\n",
        "pd.DataFrame(best_score_param_estimator_gs, columns=['best_score', 'best_param', 'best_estimator'])"
      ],
      "execution_count": null,
      "outputs": []
    },
    {
      "cell_type": "markdown",
      "metadata": {
        "id": "ouwG8u4jr6RY"
      },
      "source": [
        "## 4.9 Plot the feature importance"
      ]
    },
    {
      "cell_type": "code",
      "metadata": {
        "id": "3B3kjwcrqzBF",
        "outputId": "abe28441-73f8-4bb6-94b9-5f75547d52aa",
        "colab": {
          "base_uri": "https://localhost:8080/",
          "height": 204
        }
      },
      "source": [
        "# Get the best_score, best_param and best_estimator of random forest obtained by GridSearchCV\n",
        "best_score_rfc, best_param_rfc, best_estimator_rfc = best_score_param_estimator_gs[1]\n",
        "\n",
        "# Get the dataframe of feature and importance\n",
        "df_fi_rfc = pd.DataFrame(np.hstack((features.reshape(-1, 1), best_estimator_rfc.named_steps['model'].feature_importances_.reshape(-1, 1))),\n",
        "                         columns=['Features', 'Importance'])\n",
        "\n",
        "# Sort df_fi_rfc in descending order of the importance\n",
        "df_fi_rfc = df_fi_rfc.sort_values(ascending=False, by='Importance').reset_index(drop=True)\n",
        "\n",
        "# Print the first 5 rows of df_fi_rfc\n",
        "df_fi_rfc.head()"
      ],
      "execution_count": null,
      "outputs": [
        {
          "output_type": "execute_result",
          "data": {
            "text/html": [
              "<div>\n",
              "<style scoped>\n",
              "    .dataframe tbody tr th:only-of-type {\n",
              "        vertical-align: middle;\n",
              "    }\n",
              "\n",
              "    .dataframe tbody tr th {\n",
              "        vertical-align: top;\n",
              "    }\n",
              "\n",
              "    .dataframe thead th {\n",
              "        text-align: right;\n",
              "    }\n",
              "</style>\n",
              "<table border=\"1\" class=\"dataframe\">\n",
              "  <thead>\n",
              "    <tr style=\"text-align: right;\">\n",
              "      <th></th>\n",
              "      <th>Features</th>\n",
              "      <th>Importance</th>\n",
              "    </tr>\n",
              "  </thead>\n",
              "  <tbody>\n",
              "    <tr>\n",
              "      <th>0</th>\n",
              "      <td>female_borrowers</td>\n",
              "      <td>0.497261</td>\n",
              "    </tr>\n",
              "    <tr>\n",
              "      <th>1</th>\n",
              "      <td>lender_count</td>\n",
              "      <td>0.374262</td>\n",
              "    </tr>\n",
              "    <tr>\n",
              "      <th>2</th>\n",
              "      <td>term_in_months</td>\n",
              "      <td>0.0461136</td>\n",
              "    </tr>\n",
              "    <tr>\n",
              "      <th>3</th>\n",
              "      <td>male_borrowers</td>\n",
              "      <td>0.0164814</td>\n",
              "    </tr>\n",
              "    <tr>\n",
              "      <th>4</th>\n",
              "      <td>activities_food_and_beverages</td>\n",
              "      <td>0.0100161</td>\n",
              "    </tr>\n",
              "  </tbody>\n",
              "</table>\n",
              "</div>"
            ],
            "text/plain": [
              "                        Features Importance\n",
              "0               female_borrowers   0.497261\n",
              "1                   lender_count   0.374262\n",
              "2                 term_in_months  0.0461136\n",
              "3                 male_borrowers  0.0164814\n",
              "4  activities_food_and_beverages  0.0100161"
            ]
          },
          "metadata": {
            "tags": []
          },
          "execution_count": 70
        }
      ]
    },
    {
      "cell_type": "code",
      "metadata": {
        "id": "rwZm5kyrBu9S"
      },
      "source": [
        "# Create the directory for figure_regression\n",
        "\n",
        "import os\n",
        "\n",
        "# Make directory\n",
        "directory = os.path.dirname('./figure_regression/')\n",
        "if not os.path.exists(directory):\n",
        "    os.makedirs(directory)"
      ],
      "execution_count": null,
      "outputs": []
    },
    {
      "cell_type": "code",
      "metadata": {
        "id": "l1dwCLrJsDA4",
        "outputId": "0f1e38f5-3097-4a63-ea25-97a00ad89791",
        "colab": {
          "base_uri": "https://localhost:8080/",
          "height": 513
        }
      },
      "source": [
        "# Create a figure\n",
        "fig = plt.figure(figsize=(10, 7))\n",
        "\n",
        "# The bar plot of feature importance\n",
        "plt.bar(df_fi_rfc['Features'], df_fi_rfc['Importance'], color='green')\n",
        "\n",
        "# Set x-axis\n",
        "plt.xlabel('Features')\n",
        "plt.xticks(rotation=90)\n",
        "\n",
        "# Set y-axis\n",
        "plt.ylabel('Importance')\n",
        "\n",
        "# Save and show the figure\n",
        "plt.tight_layout()\n",
        "plt.savefig('./figure_regression/feature_importance_rfc.pdf')\n",
        "plt.show()"
      ],
      "execution_count": null,
      "outputs": [
        {
          "output_type": "display_data",
          "data": {
            "image/png": "[encoded data removed]",
            "text/plain": [
              "<Figure size 720x504 with 1 Axes>"
            ]
          },
          "metadata": {
            "tags": [],
            "needs_background": "light"
          }
        }
      ]
    },
    {
      "cell_type": "markdown",
      "metadata": {
        "id": "MgPcQLrG1Qpg"
      },
      "source": [
        "## 4.10 Generating the submission file"
      ]
    },
    {
      "cell_type": "code",
      "metadata": {
        "id": "nrsHssbWDfHB"
      },
      "source": [
        "# Get the best_score, best_param and best_estimator obtained by GridSearchCV\n",
        "best_score_gs, best_param_gs, best_estimator_gs = best_score_param_estimator_gs[0]"
      ],
      "execution_count": null,
      "outputs": []
    },
    {
      "cell_type": "code",
      "metadata": {
        "id": "j2hhufdADk-x",
        "outputId": "202af44f-3aa2-4037-e564-4997d9e5d449",
        "colab": {
          "base_uri": "https://localhost:8080/",
          "height": 351
        }
      },
      "source": [
        "# Get the prediction on the testing data using best_model\n",
        "#y_test_pred = best_estimator_gs.predict(X_test)\n",
        "\n",
        "# Get the dataframe of y_test_pred, which has the same shape as df_train\n",
        "#df_y_test_pred = pd.DataFrame(np.tile(y_test_pred.reshape(-1, 1), df_train.shape[1]),columns=df_train.columns)\n",
        "\n",
        "# Transform df_y_test_pred back to the original scale\n",
        "#df_y_test_pred = pd.DataFrame(ss.inverse_transform(df_y_test_pred),columns=df_train.columns)\n",
        "\n",
        "# Get the submission dataframe\n",
        "#df_submit = pd.DataFrame(np.hstack((df_raw_test[['Id']], df_y_test_pred[[target]])),\n",
        "#                         columns=['Id', target]).astype({'Id':int, target:float})                                                                                       \n",
        "\n",
        "# Generate the submission file\n",
        "#df_submit.to_csv('submission_regression.csv', index=False)"
      ],
      "execution_count": null,
      "outputs": [
        {
          "output_type": "error",
          "ename": "ValueError",
          "evalue": "ignored",
          "traceback": [
            "\u001b[0;31m---------------------------------------------------------------------------\u001b[0m",
            "\u001b[0;31mValueError\u001b[0m                                Traceback (most recent call last)",
            "\u001b[0;32m<ipython-input-80-cdae5145932d>\u001b[0m in \u001b[0;36m<module>\u001b[0;34m()\u001b[0m\n\u001b[1;32m      5\u001b[0m \u001b[0;34m\u001b[0m\u001b[0m\n\u001b[1;32m      6\u001b[0m \u001b[0;31m# Transform df_y_test_pred back to the original scale\u001b[0m\u001b[0;34m\u001b[0m\u001b[0;34m\u001b[0m\u001b[0;34m\u001b[0m\u001b[0m\n\u001b[0;32m----> 7\u001b[0;31m \u001b[0mdf_y_test_pred\u001b[0m \u001b[0;34m=\u001b[0m \u001b[0mpd\u001b[0m\u001b[0;34m.\u001b[0m\u001b[0mDataFrame\u001b[0m\u001b[0;34m(\u001b[0m\u001b[0mss\u001b[0m\u001b[0;34m.\u001b[0m\u001b[0minverse_transform\u001b[0m\u001b[0;34m(\u001b[0m\u001b[0mdf_y_test_pred\u001b[0m\u001b[0;34m)\u001b[0m\u001b[0;34m,\u001b[0m\u001b[0mcolumns\u001b[0m\u001b[0;34m=\u001b[0m\u001b[0mdf_train\u001b[0m\u001b[0;34m.\u001b[0m\u001b[0mcolumns\u001b[0m\u001b[0;34m)\u001b[0m\u001b[0;34m\u001b[0m\u001b[0;34m\u001b[0m\u001b[0m\n\u001b[0m\u001b[1;32m      8\u001b[0m \u001b[0;34m\u001b[0m\u001b[0m\n\u001b[1;32m      9\u001b[0m \u001b[0;31m# Get the submission dataframe\u001b[0m\u001b[0;34m\u001b[0m\u001b[0;34m\u001b[0m\u001b[0;34m\u001b[0m\u001b[0m\n",
            "\u001b[0;32m/usr/local/lib/python3.6/dist-packages/sklearn/preprocessing/_data.py\u001b[0m in \u001b[0;36minverse_transform\u001b[0;34m(self, X, copy)\u001b[0m\n\u001b[1;32m    844\u001b[0m                 \u001b[0mX\u001b[0m \u001b[0;34m=\u001b[0m \u001b[0mX\u001b[0m\u001b[0;34m.\u001b[0m\u001b[0mcopy\u001b[0m\u001b[0;34m(\u001b[0m\u001b[0;34m)\u001b[0m\u001b[0;34m\u001b[0m\u001b[0;34m\u001b[0m\u001b[0m\n\u001b[1;32m    845\u001b[0m             \u001b[0;32mif\u001b[0m \u001b[0mself\u001b[0m\u001b[0;34m.\u001b[0m\u001b[0mwith_std\u001b[0m\u001b[0;34m:\u001b[0m\u001b[0;34m\u001b[0m\u001b[0;34m\u001b[0m\u001b[0m\n\u001b[0;32m--> 846\u001b[0;31m                 \u001b[0mX\u001b[0m \u001b[0;34m*=\u001b[0m \u001b[0mself\u001b[0m\u001b[0;34m.\u001b[0m\u001b[0mscale_\u001b[0m\u001b[0;34m\u001b[0m\u001b[0;34m\u001b[0m\u001b[0m\n\u001b[0m\u001b[1;32m    847\u001b[0m             \u001b[0;32mif\u001b[0m \u001b[0mself\u001b[0m\u001b[0;34m.\u001b[0m\u001b[0mwith_mean\u001b[0m\u001b[0;34m:\u001b[0m\u001b[0;34m\u001b[0m\u001b[0;34m\u001b[0m\u001b[0m\n\u001b[1;32m    848\u001b[0m                 \u001b[0mX\u001b[0m \u001b[0;34m+=\u001b[0m \u001b[0mself\u001b[0m\u001b[0;34m.\u001b[0m\u001b[0mmean_\u001b[0m\u001b[0;34m\u001b[0m\u001b[0;34m\u001b[0m\u001b[0m\n",
            "\u001b[0;31mValueError\u001b[0m: operands could not be broadcast together with shapes (26523,35) (34,) (26523,35) "
          ]
        }
      ]
    },
    {
      "cell_type": "code",
      "metadata": {
        "id": "qL2csHFRtxWW"
      },
      "source": [
        "y_test_pred = best_estimator_gs.predict(X_test)\n",
        "df_submit = pd.DataFrame(y_test_pred,columns=['loan_amount'])\n",
        "df_submit.to_csv('submission_regression.csv', index=False)"
      ],
      "execution_count": null,
      "outputs": []
    },
    {
      "cell_type": "markdown",
      "metadata": {
        "id": "FKbkDnNGlptR"
      },
      "source": [
        "# 5 Classification Analysis"
      ]
    },
    {
      "cell_type": "code",
      "metadata": {
        "id": "VNdZMcT6nMdH"
      },
      "source": [
        "# Create a copy of df_preprocessed \n",
        "df = df_preprocessed.copy(deep=True)"
      ],
      "execution_count": null,
      "outputs": []
    },
    {
      "cell_type": "code",
      "metadata": {
        "id": "qlUR8ugMtvJp",
        "outputId": "72fe2a27-d7aa-435b-94ed-55f0316b9d9e",
        "colab": {
          "base_uri": "https://localhost:8080/",
          "height": 85
        }
      },
      "source": [
        "df.columns"
      ],
      "execution_count": null,
      "outputs": [
        {
          "output_type": "execute_result",
          "data": {
            "text/plain": [
              "Index(['loan_amount', 'country', 'term_in_months', 'lender_count',\n",
              "       'repayment_interval', 'MPI', 'activities', 'male_borrowers',\n",
              "       'female_borrowers'],\n",
              "      dtype='object')"
            ]
          },
          "metadata": {
            "tags": []
          },
          "execution_count": 82
        }
      ]
    },
    {
      "cell_type": "markdown",
      "metadata": {
        "id": "A3O2kVM9lzE4"
      },
      "source": [
        "## 5.1 Define target"
      ]
    },
    {
      "cell_type": "code",
      "metadata": {
        "id": "JTakcal8lo62"
      },
      "source": [
        "target = 'repayment_interval'"
      ],
      "execution_count": null,
      "outputs": []
    },
    {
      "cell_type": "markdown",
      "metadata": {
        "id": "-uk6eyLtudL8"
      },
      "source": [
        "## 5.2 Encoding the features and target"
      ]
    },
    {
      "cell_type": "markdown",
      "metadata": {
        "id": "Iz8fgefiuAJt"
      },
      "source": [
        "###5.2.1  Encoding the categorical features"
      ]
    },
    {
      "cell_type": "code",
      "metadata": {
        "id": "-C1xR2GZl6d0",
        "outputId": "0de475a6-a707-48c4-bcf4-c4746d587a6a",
        "colab": {
          "base_uri": "https://localhost:8080/",
          "height": 241
        }
      },
      "source": [
        "# One-hot-encode the categorical features in the combined data\n",
        "df = pd.get_dummies(df, columns=np.setdiff1d(np.intersect1d(df.columns, df_cat['var']), [target]))\n",
        "\n",
        "# Print the first 5 rows of df\n",
        "df.head()"
      ],
      "execution_count": null,
      "outputs": [
        {
          "output_type": "execute_result",
          "data": {
            "text/html": [
              "<div>\n",
              "<style scoped>\n",
              "    .dataframe tbody tr th:only-of-type {\n",
              "        vertical-align: middle;\n",
              "    }\n",
              "\n",
              "    .dataframe tbody tr th {\n",
              "        vertical-align: top;\n",
              "    }\n",
              "\n",
              "    .dataframe thead th {\n",
              "        text-align: right;\n",
              "    }\n",
              "</style>\n",
              "<table border=\"1\" class=\"dataframe\">\n",
              "  <thead>\n",
              "    <tr style=\"text-align: right;\">\n",
              "      <th></th>\n",
              "      <th>loan_amount</th>\n",
              "      <th>term_in_months</th>\n",
              "      <th>lender_count</th>\n",
              "      <th>repayment_interval</th>\n",
              "      <th>MPI</th>\n",
              "      <th>male_borrowers</th>\n",
              "      <th>female_borrowers</th>\n",
              "      <th>activities_agriculture_and_livestock</th>\n",
              "      <th>activities_arts_and_crafts</th>\n",
              "      <th>activities_business</th>\n",
              "      <th>activities_construction_materials</th>\n",
              "      <th>activities_education</th>\n",
              "      <th>activities_energy</th>\n",
              "      <th>activities_entertainment</th>\n",
              "      <th>activities_food_and_beverages</th>\n",
              "      <th>activities_healthcare</th>\n",
              "      <th>activities_maintenance</th>\n",
              "      <th>activities_miscellaneous</th>\n",
              "      <th>activities_services</th>\n",
              "      <th>activities_supplies</th>\n",
              "      <th>activities_technology_and_IT</th>\n",
              "      <th>country_Belize</th>\n",
              "      <th>country_Brazil</th>\n",
              "      <th>country_Colombia</th>\n",
              "      <th>country_Dominican Republic</th>\n",
              "      <th>country_Ecuador</th>\n",
              "      <th>country_El Salvador</th>\n",
              "      <th>country_Haiti</th>\n",
              "      <th>country_Honduras</th>\n",
              "      <th>country_Nicaragua</th>\n",
              "      <th>country_Paraguay</th>\n",
              "      <th>country_Peru</th>\n",
              "      <th>country_Suriname</th>\n",
              "    </tr>\n",
              "  </thead>\n",
              "  <tbody>\n",
              "    <tr>\n",
              "      <th>48</th>\n",
              "      <td>600.0</td>\n",
              "      <td>14.0</td>\n",
              "      <td>16</td>\n",
              "      <td>monthly</td>\n",
              "      <td>0.074</td>\n",
              "      <td>0</td>\n",
              "      <td>1</td>\n",
              "      <td>0</td>\n",
              "      <td>0</td>\n",
              "      <td>1</td>\n",
              "      <td>0</td>\n",
              "      <td>0</td>\n",
              "      <td>0</td>\n",
              "      <td>0</td>\n",
              "      <td>0</td>\n",
              "      <td>0</td>\n",
              "      <td>0</td>\n",
              "      <td>0</td>\n",
              "      <td>0</td>\n",
              "      <td>0</td>\n",
              "      <td>0</td>\n",
              "      <td>0</td>\n",
              "      <td>0</td>\n",
              "      <td>0</td>\n",
              "      <td>0</td>\n",
              "      <td>0</td>\n",
              "      <td>0</td>\n",
              "      <td>0</td>\n",
              "      <td>0</td>\n",
              "      <td>1</td>\n",
              "      <td>0</td>\n",
              "      <td>0</td>\n",
              "      <td>0</td>\n",
              "    </tr>\n",
              "    <tr>\n",
              "      <th>49</th>\n",
              "      <td>450.0</td>\n",
              "      <td>14.0</td>\n",
              "      <td>18</td>\n",
              "      <td>monthly</td>\n",
              "      <td>0.032</td>\n",
              "      <td>1</td>\n",
              "      <td>0</td>\n",
              "      <td>0</td>\n",
              "      <td>0</td>\n",
              "      <td>1</td>\n",
              "      <td>0</td>\n",
              "      <td>0</td>\n",
              "      <td>0</td>\n",
              "      <td>0</td>\n",
              "      <td>0</td>\n",
              "      <td>0</td>\n",
              "      <td>0</td>\n",
              "      <td>0</td>\n",
              "      <td>0</td>\n",
              "      <td>0</td>\n",
              "      <td>0</td>\n",
              "      <td>0</td>\n",
              "      <td>0</td>\n",
              "      <td>0</td>\n",
              "      <td>0</td>\n",
              "      <td>0</td>\n",
              "      <td>1</td>\n",
              "      <td>0</td>\n",
              "      <td>0</td>\n",
              "      <td>0</td>\n",
              "      <td>0</td>\n",
              "      <td>0</td>\n",
              "      <td>0</td>\n",
              "    </tr>\n",
              "    <tr>\n",
              "      <th>53</th>\n",
              "      <td>550.0</td>\n",
              "      <td>14.0</td>\n",
              "      <td>20</td>\n",
              "      <td>monthly</td>\n",
              "      <td>0.053</td>\n",
              "      <td>1</td>\n",
              "      <td>0</td>\n",
              "      <td>0</td>\n",
              "      <td>0</td>\n",
              "      <td>0</td>\n",
              "      <td>0</td>\n",
              "      <td>0</td>\n",
              "      <td>0</td>\n",
              "      <td>0</td>\n",
              "      <td>0</td>\n",
              "      <td>0</td>\n",
              "      <td>0</td>\n",
              "      <td>1</td>\n",
              "      <td>0</td>\n",
              "      <td>0</td>\n",
              "      <td>0</td>\n",
              "      <td>0</td>\n",
              "      <td>0</td>\n",
              "      <td>0</td>\n",
              "      <td>0</td>\n",
              "      <td>0</td>\n",
              "      <td>0</td>\n",
              "      <td>0</td>\n",
              "      <td>0</td>\n",
              "      <td>0</td>\n",
              "      <td>0</td>\n",
              "      <td>1</td>\n",
              "      <td>0</td>\n",
              "    </tr>\n",
              "    <tr>\n",
              "      <th>69</th>\n",
              "      <td>1075.0</td>\n",
              "      <td>17.0</td>\n",
              "      <td>41</td>\n",
              "      <td>monthly</td>\n",
              "      <td>0.053</td>\n",
              "      <td>1</td>\n",
              "      <td>0</td>\n",
              "      <td>0</td>\n",
              "      <td>0</td>\n",
              "      <td>0</td>\n",
              "      <td>0</td>\n",
              "      <td>0</td>\n",
              "      <td>0</td>\n",
              "      <td>0</td>\n",
              "      <td>0</td>\n",
              "      <td>0</td>\n",
              "      <td>0</td>\n",
              "      <td>0</td>\n",
              "      <td>1</td>\n",
              "      <td>0</td>\n",
              "      <td>0</td>\n",
              "      <td>0</td>\n",
              "      <td>0</td>\n",
              "      <td>0</td>\n",
              "      <td>0</td>\n",
              "      <td>0</td>\n",
              "      <td>0</td>\n",
              "      <td>0</td>\n",
              "      <td>0</td>\n",
              "      <td>0</td>\n",
              "      <td>0</td>\n",
              "      <td>1</td>\n",
              "      <td>0</td>\n",
              "    </tr>\n",
              "    <tr>\n",
              "      <th>80</th>\n",
              "      <td>1000.0</td>\n",
              "      <td>20.0</td>\n",
              "      <td>34</td>\n",
              "      <td>monthly</td>\n",
              "      <td>0.090</td>\n",
              "      <td>0</td>\n",
              "      <td>1</td>\n",
              "      <td>0</td>\n",
              "      <td>0</td>\n",
              "      <td>1</td>\n",
              "      <td>0</td>\n",
              "      <td>0</td>\n",
              "      <td>0</td>\n",
              "      <td>0</td>\n",
              "      <td>0</td>\n",
              "      <td>0</td>\n",
              "      <td>0</td>\n",
              "      <td>0</td>\n",
              "      <td>0</td>\n",
              "      <td>0</td>\n",
              "      <td>0</td>\n",
              "      <td>0</td>\n",
              "      <td>0</td>\n",
              "      <td>0</td>\n",
              "      <td>0</td>\n",
              "      <td>0</td>\n",
              "      <td>0</td>\n",
              "      <td>0</td>\n",
              "      <td>1</td>\n",
              "      <td>0</td>\n",
              "      <td>0</td>\n",
              "      <td>0</td>\n",
              "      <td>0</td>\n",
              "    </tr>\n",
              "  </tbody>\n",
              "</table>\n",
              "</div>"
            ],
            "text/plain": [
              "    loan_amount  term_in_months  ...  country_Peru country_Suriname\n",
              "48        600.0            14.0  ...             0                0\n",
              "49        450.0            14.0  ...             0                0\n",
              "53        550.0            14.0  ...             1                0\n",
              "69       1075.0            17.0  ...             1                0\n",
              "80       1000.0            20.0  ...             0                0\n",
              "\n",
              "[5 rows x 33 columns]"
            ]
          },
          "metadata": {
            "tags": []
          },
          "execution_count": 84
        }
      ]
    },
    {
      "cell_type": "markdown",
      "metadata": {
        "id": "ty__KJIYuVHr"
      },
      "source": [
        "### 5.2.2 Encoding the categorical target"
      ]
    },
    {
      "cell_type": "code",
      "metadata": {
        "id": "rzrpuneDl6br",
        "outputId": "c235ff32-3dc9-42ad-d925-e4e1b3975a27",
        "colab": {
          "base_uri": "https://localhost:8080/",
          "height": 241
        }
      },
      "source": [
        "from sklearn.preprocessing import LabelEncoder\n",
        "\n",
        "# The LabelEncoder\n",
        "le = LabelEncoder()\n",
        "\n",
        "# Encode the categorical target in the combined data\n",
        "df[target] = le.fit_transform(df[target].astype(str))\n",
        "\n",
        "# Print the first 5 rows of df\n",
        "df.head()"
      ],
      "execution_count": null,
      "outputs": [
        {
          "output_type": "execute_result",
          "data": {
            "text/html": [
              "<div>\n",
              "<style scoped>\n",
              "    .dataframe tbody tr th:only-of-type {\n",
              "        vertical-align: middle;\n",
              "    }\n",
              "\n",
              "    .dataframe tbody tr th {\n",
              "        vertical-align: top;\n",
              "    }\n",
              "\n",
              "    .dataframe thead th {\n",
              "        text-align: right;\n",
              "    }\n",
              "</style>\n",
              "<table border=\"1\" class=\"dataframe\">\n",
              "  <thead>\n",
              "    <tr style=\"text-align: right;\">\n",
              "      <th></th>\n",
              "      <th>loan_amount</th>\n",
              "      <th>term_in_months</th>\n",
              "      <th>lender_count</th>\n",
              "      <th>repayment_interval</th>\n",
              "      <th>MPI</th>\n",
              "      <th>male_borrowers</th>\n",
              "      <th>female_borrowers</th>\n",
              "      <th>activities_agriculture_and_livestock</th>\n",
              "      <th>activities_arts_and_crafts</th>\n",
              "      <th>activities_business</th>\n",
              "      <th>activities_construction_materials</th>\n",
              "      <th>activities_education</th>\n",
              "      <th>activities_energy</th>\n",
              "      <th>activities_entertainment</th>\n",
              "      <th>activities_food_and_beverages</th>\n",
              "      <th>activities_healthcare</th>\n",
              "      <th>activities_maintenance</th>\n",
              "      <th>activities_miscellaneous</th>\n",
              "      <th>activities_services</th>\n",
              "      <th>activities_supplies</th>\n",
              "      <th>activities_technology_and_IT</th>\n",
              "      <th>country_Belize</th>\n",
              "      <th>country_Brazil</th>\n",
              "      <th>country_Colombia</th>\n",
              "      <th>country_Dominican Republic</th>\n",
              "      <th>country_Ecuador</th>\n",
              "      <th>country_El Salvador</th>\n",
              "      <th>country_Haiti</th>\n",
              "      <th>country_Honduras</th>\n",
              "      <th>country_Nicaragua</th>\n",
              "      <th>country_Paraguay</th>\n",
              "      <th>country_Peru</th>\n",
              "      <th>country_Suriname</th>\n",
              "    </tr>\n",
              "  </thead>\n",
              "  <tbody>\n",
              "    <tr>\n",
              "      <th>48</th>\n",
              "      <td>600.0</td>\n",
              "      <td>14.0</td>\n",
              "      <td>16</td>\n",
              "      <td>2</td>\n",
              "      <td>0.074</td>\n",
              "      <td>0</td>\n",
              "      <td>1</td>\n",
              "      <td>0</td>\n",
              "      <td>0</td>\n",
              "      <td>1</td>\n",
              "      <td>0</td>\n",
              "      <td>0</td>\n",
              "      <td>0</td>\n",
              "      <td>0</td>\n",
              "      <td>0</td>\n",
              "      <td>0</td>\n",
              "      <td>0</td>\n",
              "      <td>0</td>\n",
              "      <td>0</td>\n",
              "      <td>0</td>\n",
              "      <td>0</td>\n",
              "      <td>0</td>\n",
              "      <td>0</td>\n",
              "      <td>0</td>\n",
              "      <td>0</td>\n",
              "      <td>0</td>\n",
              "      <td>0</td>\n",
              "      <td>0</td>\n",
              "      <td>0</td>\n",
              "      <td>1</td>\n",
              "      <td>0</td>\n",
              "      <td>0</td>\n",
              "      <td>0</td>\n",
              "    </tr>\n",
              "    <tr>\n",
              "      <th>49</th>\n",
              "      <td>450.0</td>\n",
              "      <td>14.0</td>\n",
              "      <td>18</td>\n",
              "      <td>2</td>\n",
              "      <td>0.032</td>\n",
              "      <td>1</td>\n",
              "      <td>0</td>\n",
              "      <td>0</td>\n",
              "      <td>0</td>\n",
              "      <td>1</td>\n",
              "      <td>0</td>\n",
              "      <td>0</td>\n",
              "      <td>0</td>\n",
              "      <td>0</td>\n",
              "      <td>0</td>\n",
              "      <td>0</td>\n",
              "      <td>0</td>\n",
              "      <td>0</td>\n",
              "      <td>0</td>\n",
              "      <td>0</td>\n",
              "      <td>0</td>\n",
              "      <td>0</td>\n",
              "      <td>0</td>\n",
              "      <td>0</td>\n",
              "      <td>0</td>\n",
              "      <td>0</td>\n",
              "      <td>1</td>\n",
              "      <td>0</td>\n",
              "      <td>0</td>\n",
              "      <td>0</td>\n",
              "      <td>0</td>\n",
              "      <td>0</td>\n",
              "      <td>0</td>\n",
              "    </tr>\n",
              "    <tr>\n",
              "      <th>53</th>\n",
              "      <td>550.0</td>\n",
              "      <td>14.0</td>\n",
              "      <td>20</td>\n",
              "      <td>2</td>\n",
              "      <td>0.053</td>\n",
              "      <td>1</td>\n",
              "      <td>0</td>\n",
              "      <td>0</td>\n",
              "      <td>0</td>\n",
              "      <td>0</td>\n",
              "      <td>0</td>\n",
              "      <td>0</td>\n",
              "      <td>0</td>\n",
              "      <td>0</td>\n",
              "      <td>0</td>\n",
              "      <td>0</td>\n",
              "      <td>0</td>\n",
              "      <td>1</td>\n",
              "      <td>0</td>\n",
              "      <td>0</td>\n",
              "      <td>0</td>\n",
              "      <td>0</td>\n",
              "      <td>0</td>\n",
              "      <td>0</td>\n",
              "      <td>0</td>\n",
              "      <td>0</td>\n",
              "      <td>0</td>\n",
              "      <td>0</td>\n",
              "      <td>0</td>\n",
              "      <td>0</td>\n",
              "      <td>0</td>\n",
              "      <td>1</td>\n",
              "      <td>0</td>\n",
              "    </tr>\n",
              "    <tr>\n",
              "      <th>69</th>\n",
              "      <td>1075.0</td>\n",
              "      <td>17.0</td>\n",
              "      <td>41</td>\n",
              "      <td>2</td>\n",
              "      <td>0.053</td>\n",
              "      <td>1</td>\n",
              "      <td>0</td>\n",
              "      <td>0</td>\n",
              "      <td>0</td>\n",
              "      <td>0</td>\n",
              "      <td>0</td>\n",
              "      <td>0</td>\n",
              "      <td>0</td>\n",
              "      <td>0</td>\n",
              "      <td>0</td>\n",
              "      <td>0</td>\n",
              "      <td>0</td>\n",
              "      <td>0</td>\n",
              "      <td>1</td>\n",
              "      <td>0</td>\n",
              "      <td>0</td>\n",
              "      <td>0</td>\n",
              "      <td>0</td>\n",
              "      <td>0</td>\n",
              "      <td>0</td>\n",
              "      <td>0</td>\n",
              "      <td>0</td>\n",
              "      <td>0</td>\n",
              "      <td>0</td>\n",
              "      <td>0</td>\n",
              "      <td>0</td>\n",
              "      <td>1</td>\n",
              "      <td>0</td>\n",
              "    </tr>\n",
              "    <tr>\n",
              "      <th>80</th>\n",
              "      <td>1000.0</td>\n",
              "      <td>20.0</td>\n",
              "      <td>34</td>\n",
              "      <td>2</td>\n",
              "      <td>0.090</td>\n",
              "      <td>0</td>\n",
              "      <td>1</td>\n",
              "      <td>0</td>\n",
              "      <td>0</td>\n",
              "      <td>1</td>\n",
              "      <td>0</td>\n",
              "      <td>0</td>\n",
              "      <td>0</td>\n",
              "      <td>0</td>\n",
              "      <td>0</td>\n",
              "      <td>0</td>\n",
              "      <td>0</td>\n",
              "      <td>0</td>\n",
              "      <td>0</td>\n",
              "      <td>0</td>\n",
              "      <td>0</td>\n",
              "      <td>0</td>\n",
              "      <td>0</td>\n",
              "      <td>0</td>\n",
              "      <td>0</td>\n",
              "      <td>0</td>\n",
              "      <td>0</td>\n",
              "      <td>0</td>\n",
              "      <td>1</td>\n",
              "      <td>0</td>\n",
              "      <td>0</td>\n",
              "      <td>0</td>\n",
              "      <td>0</td>\n",
              "    </tr>\n",
              "  </tbody>\n",
              "</table>\n",
              "</div>"
            ],
            "text/plain": [
              "    loan_amount  term_in_months  ...  country_Peru  country_Suriname\n",
              "48        600.0            14.0  ...             0                 0\n",
              "49        450.0            14.0  ...             0                 0\n",
              "53        550.0            14.0  ...             1                 0\n",
              "69       1075.0            17.0  ...             1                 0\n",
              "80       1000.0            20.0  ...             0                 0\n",
              "\n",
              "[5 rows x 33 columns]"
            ]
          },
          "metadata": {
            "tags": []
          },
          "execution_count": 85
        }
      ]
    },
    {
      "cell_type": "markdown",
      "metadata": {
        "id": "eB9fYwsYunUO"
      },
      "source": [
        "## 5.3 Creating the train, test and validation dataset"
      ]
    },
    {
      "cell_type": "markdown",
      "metadata": {
        "id": "3N8Xr1cLutGq"
      },
      "source": [
        "### 5.3.1 Creating a test set"
      ]
    },
    {
      "cell_type": "code",
      "metadata": {
        "id": "vsahWJPtuTde"
      },
      "source": [
        "from sklearn.model_selection import train_test_split\n",
        "\n",
        "df_train, df_test = train_test_split(df, test_size=0.2, random_state=42)"
      ],
      "execution_count": null,
      "outputs": []
    },
    {
      "cell_type": "code",
      "metadata": {
        "id": "73X2b7rYuTht"
      },
      "source": [
        "#remove target in test set\n",
        "df_test.drop([target], axis=1, inplace=True)"
      ],
      "execution_count": null,
      "outputs": []
    },
    {
      "cell_type": "markdown",
      "metadata": {
        "id": "0zu6vmqqu0dp"
      },
      "source": [
        "### 5.3.2 Dividing the training data into training and validation"
      ]
    },
    {
      "cell_type": "code",
      "metadata": {
        "id": "_vxCUC79u4Uj"
      },
      "source": [
        "from sklearn.model_selection import train_test_split\n",
        "\n",
        "# Divide: 80% as training set and 20% as validation\n",
        "df_train, df_valid = train_test_split(df_train, train_size=.8, random_state=42, stratify=df_train[target])\n",
        "\n",
        "# Reset the index in training and validation sets\n",
        "df_train = df_train.reset_index(drop=True)\n",
        "df_valid = df_valid.reset_index(drop=True)"
      ],
      "execution_count": null,
      "outputs": []
    },
    {
      "cell_type": "code",
      "metadata": {
        "id": "97354NcIu4Rc",
        "outputId": "1a6c5950-b473-499b-afa8-8303365bc015",
        "colab": {
          "base_uri": "https://localhost:8080/",
          "height": 80
        }
      },
      "source": [
        "# Print the dimension of training set\n",
        "pd.DataFrame([[df_train.shape[0], df_train.shape[1]]], columns=['rows','columns'])"
      ],
      "execution_count": null,
      "outputs": [
        {
          "output_type": "execute_result",
          "data": {
            "text/html": [
              "<div>\n",
              "<style scoped>\n",
              "    .dataframe tbody tr th:only-of-type {\n",
              "        vertical-align: middle;\n",
              "    }\n",
              "\n",
              "    .dataframe tbody tr th {\n",
              "        vertical-align: top;\n",
              "    }\n",
              "\n",
              "    .dataframe thead th {\n",
              "        text-align: right;\n",
              "    }\n",
              "</style>\n",
              "<table border=\"1\" class=\"dataframe\">\n",
              "  <thead>\n",
              "    <tr style=\"text-align: right;\">\n",
              "      <th></th>\n",
              "      <th>rows</th>\n",
              "      <th>columns</th>\n",
              "    </tr>\n",
              "  </thead>\n",
              "  <tbody>\n",
              "    <tr>\n",
              "      <th>0</th>\n",
              "      <td>84870</td>\n",
              "      <td>33</td>\n",
              "    </tr>\n",
              "  </tbody>\n",
              "</table>\n",
              "</div>"
            ],
            "text/plain": [
              "    rows  columns\n",
              "0  84870       33"
            ]
          },
          "metadata": {
            "tags": []
          },
          "execution_count": 89
        }
      ]
    },
    {
      "cell_type": "code",
      "metadata": {
        "id": "IWw9xYaNu4PK",
        "outputId": "639ba9f5-8f1d-4782-e88d-84541f3a0b83",
        "colab": {
          "base_uri": "https://localhost:8080/",
          "height": 80
        }
      },
      "source": [
        "#Print the dimension of validation set\n",
        "pd.DataFrame([[df_valid.shape[0], df_valid.shape[1]]], columns=['rows','columns'])"
      ],
      "execution_count": null,
      "outputs": [
        {
          "output_type": "execute_result",
          "data": {
            "text/html": [
              "<div>\n",
              "<style scoped>\n",
              "    .dataframe tbody tr th:only-of-type {\n",
              "        vertical-align: middle;\n",
              "    }\n",
              "\n",
              "    .dataframe tbody tr th {\n",
              "        vertical-align: top;\n",
              "    }\n",
              "\n",
              "    .dataframe thead th {\n",
              "        text-align: right;\n",
              "    }\n",
              "</style>\n",
              "<table border=\"1\" class=\"dataframe\">\n",
              "  <thead>\n",
              "    <tr style=\"text-align: right;\">\n",
              "      <th></th>\n",
              "      <th>rows</th>\n",
              "      <th>columns</th>\n",
              "    </tr>\n",
              "  </thead>\n",
              "  <tbody>\n",
              "    <tr>\n",
              "      <th>0</th>\n",
              "      <td>21218</td>\n",
              "      <td>33</td>\n",
              "    </tr>\n",
              "  </tbody>\n",
              "</table>\n",
              "</div>"
            ],
            "text/plain": [
              "    rows  columns\n",
              "0  21218       33"
            ]
          },
          "metadata": {
            "tags": []
          },
          "execution_count": 90
        }
      ]
    },
    {
      "cell_type": "code",
      "metadata": {
        "id": "QbcE_Ztau4M2",
        "outputId": "562cdeba-3def-44e3-c73f-50a15e1cc984",
        "colab": {
          "base_uri": "https://localhost:8080/",
          "height": 80
        }
      },
      "source": [
        "# Print the dimension of test set\n",
        "pd.DataFrame([[df_test.shape[0], df_test.shape[1]]], columns=['rows','columns'])"
      ],
      "execution_count": null,
      "outputs": [
        {
          "output_type": "execute_result",
          "data": {
            "text/html": [
              "<div>\n",
              "<style scoped>\n",
              "    .dataframe tbody tr th:only-of-type {\n",
              "        vertical-align: middle;\n",
              "    }\n",
              "\n",
              "    .dataframe tbody tr th {\n",
              "        vertical-align: top;\n",
              "    }\n",
              "\n",
              "    .dataframe thead th {\n",
              "        text-align: right;\n",
              "    }\n",
              "</style>\n",
              "<table border=\"1\" class=\"dataframe\">\n",
              "  <thead>\n",
              "    <tr style=\"text-align: right;\">\n",
              "      <th></th>\n",
              "      <th>rows</th>\n",
              "      <th>columns</th>\n",
              "    </tr>\n",
              "  </thead>\n",
              "  <tbody>\n",
              "    <tr>\n",
              "      <th>0</th>\n",
              "      <td>26523</td>\n",
              "      <td>32</td>\n",
              "    </tr>\n",
              "  </tbody>\n",
              "</table>\n",
              "</div>"
            ],
            "text/plain": [
              "    rows  columns\n",
              "0  26523       32"
            ]
          },
          "metadata": {
            "tags": []
          },
          "execution_count": 91
        }
      ]
    },
    {
      "cell_type": "markdown",
      "metadata": {
        "id": "qlXSq1-dvD-h"
      },
      "source": [
        "## 5.4 Getting the name of the features"
      ]
    },
    {
      "cell_type": "code",
      "metadata": {
        "id": "2ILvUB1bvJlK"
      },
      "source": [
        "features = np.setdiff1d(df.columns, [target])"
      ],
      "execution_count": null,
      "outputs": []
    },
    {
      "cell_type": "code",
      "metadata": {
        "id": "D_QJLBsRvJxi",
        "outputId": "68907128-7e90-4355-ed91-1a2086b55c03",
        "colab": {
          "base_uri": "https://localhost:8080/",
          "height": 255
        }
      },
      "source": [
        "features"
      ],
      "execution_count": null,
      "outputs": [
        {
          "output_type": "execute_result",
          "data": {
            "text/plain": [
              "array(['MPI', 'activities_agriculture_and_livestock',\n",
              "       'activities_arts_and_crafts', 'activities_business',\n",
              "       'activities_construction_materials', 'activities_education',\n",
              "       'activities_energy', 'activities_entertainment',\n",
              "       'activities_food_and_beverages', 'activities_healthcare',\n",
              "       'activities_maintenance', 'activities_miscellaneous',\n",
              "       'activities_services', 'activities_supplies',\n",
              "       'activities_technology_and_IT', 'country_Belize', 'country_Brazil',\n",
              "       'country_Colombia', 'country_Dominican Republic',\n",
              "       'country_Ecuador', 'country_El Salvador', 'country_Haiti',\n",
              "       'country_Honduras', 'country_Nicaragua', 'country_Paraguay',\n",
              "       'country_Peru', 'country_Suriname', 'female_borrowers',\n",
              "       'lender_count', 'loan_amount', 'male_borrowers', 'term_in_months'],\n",
              "      dtype=object)"
            ]
          },
          "metadata": {
            "tags": []
          },
          "execution_count": 93
        }
      ]
    },
    {
      "cell_type": "markdown",
      "metadata": {
        "id": "_Zk4NBnvvQzs"
      },
      "source": [
        "## 5.5 Getting the feature matrix and target vector"
      ]
    },
    {
      "cell_type": "code",
      "metadata": {
        "id": "w5x9AEI6u4Kf"
      },
      "source": [
        "# Get the feature matrix\n",
        "X_train = df_train[features].to_numpy()\n",
        "X_valid = df_valid[features].to_numpy()\n",
        "X_test = df_test[features].to_numpy()\n",
        "\n",
        "# Get the target vector\n",
        "y_train = df_train[target].astype(int).to_numpy()\n",
        "y_valid = df_valid[target].astype(int).to_numpy()"
      ],
      "execution_count": null,
      "outputs": []
    },
    {
      "cell_type": "markdown",
      "metadata": {
        "id": "XRuGIuhZxvuZ"
      },
      "source": [
        "## 5.6 Scaling the data"
      ]
    },
    {
      "cell_type": "code",
      "metadata": {
        "id": "GFP0OC3yxvCE"
      },
      "source": [
        "from sklearn.preprocessing import StandardScaler\n",
        "\n",
        "# The StandardScaler\n",
        "ss = StandardScaler()\n",
        "\n",
        "# Standardize the training data\n",
        "X_train = ss.fit_transform(X_train)\n",
        "\n",
        "# Standardize the validation data\n",
        "X_valid = ss.transform(X_valid)\n",
        "\n",
        "# Standardize the testing data\n",
        "X_test = ss.transform(X_test)"
      ],
      "execution_count": null,
      "outputs": []
    },
    {
      "cell_type": "markdown",
      "metadata": {
        "id": "dbmc82lvx9rI"
      },
      "source": [
        "## 5.7 Correlation Matrix\n"
      ]
    },
    {
      "cell_type": "code",
      "metadata": {
        "id": "CvBFz4HKxu_C",
        "outputId": "ffb9549d-f4d1-42f9-adce-f03184f9ca90",
        "colab": {
          "base_uri": "https://localhost:8080/",
          "height": 743
        }
      },
      "source": [
        "from string import ascii_letters\n",
        "import numpy as np\n",
        "import pandas as pd\n",
        "import seaborn as sns\n",
        "import matplotlib.pyplot as plt\n",
        "\n",
        "sns.set(style=\"white\")\n",
        "\n",
        "# Compute the correlation matrix\n",
        "corr = df.corr()\n",
        "\n",
        "# Generate a mask for the upper triangle\n",
        "mask = np.triu(np.ones_like(corr, dtype=np.bool))\n",
        "\n",
        "# Set up the matplotlib figure\n",
        "f, ax = plt.subplots(figsize=(11, 9))\n",
        "\n",
        "# Generate a custom diverging colormap\n",
        "cmap = sns.diverging_palette(220, 10, as_cmap=True)\n",
        "\n",
        "# Draw the heatmap with the mask and correct aspect ratio\n",
        "sns.heatmap(corr, mask=mask, cmap=cmap, vmax=.3, center=0,\n",
        "            square=True, linewidths=.5, cbar_kws={\"shrink\": .5})"
      ],
      "execution_count": null,
      "outputs": [
        {
          "output_type": "execute_result",
          "data": {
            "text/plain": [
              "<matplotlib.axes._subplots.AxesSubplot at 0x7f664dc13128>"
            ]
          },
          "metadata": {
            "tags": []
          },
          "execution_count": 96
        },
        {
          "output_type": "display_data",
          "data": {
            "image/png": "[encoded data removed]",
            "text/plain": [
              "<Figure size 792x648 with 2 Axes>"
            ]
          },
          "metadata": {
            "tags": []
          }
        }
      ]
    },
    {
      "cell_type": "markdown",
      "metadata": {
        "id": "htTZ8vQ1AifZ"
      },
      "source": [
        "## 5.8 Hyperparameter tuning"
      ]
    },
    {
      "cell_type": "markdown",
      "metadata": {
        "id": "gXAkzugV0V_q"
      },
      "source": [
        "### 5.8.1 Creating the dictionary of the models"
      ]
    },
    {
      "cell_type": "code",
      "metadata": {
        "id": "08vCN2XBAifZ"
      },
      "source": [
        "from sklearn.linear_model import LogisticRegression\n",
        "from sklearn.tree import DecisionTreeClassifier\n",
        "from sklearn.ensemble import RandomForestClassifier\n",
        "from sklearn.experimental import enable_hist_gradient_boosting\n",
        "from sklearn.ensemble import HistGradientBoostingClassifier\n",
        "from xgboost.sklearn import XGBClassifier\n",
        "from sklearn.neural_network import MLPClassifier\n",
        "\n",
        "models = {'lr': LogisticRegression(class_weight='balanced', random_state=42),\n",
        "          'dtc': DecisionTreeClassifier(class_weight='balanced', random_state=42),\n",
        "          'rfc': RandomForestClassifier(class_weight='balanced', random_state=42),\n",
        "          'hgbc': HistGradientBoostingClassifier(random_state=42),\n",
        "          'xgbc': XGBClassifier(seed=42),\n",
        "          'mlpc': MLPClassifier(early_stopping=True, random_state=42)}"
      ],
      "execution_count": null,
      "outputs": []
    },
    {
      "cell_type": "markdown",
      "metadata": {
        "id": "ZSAbguOrAifa"
      },
      "source": [
        "### 5.8.2 Creating the dictionary of the pipelines"
      ]
    },
    {
      "cell_type": "code",
      "metadata": {
        "id": "tl6ay78YAifa"
      },
      "source": [
        "from sklearn.pipeline import Pipeline\n",
        "\n",
        "pipes = {}\n",
        "\n",
        "for acronym, model in models.items():\n",
        "    pipes[acronym] = Pipeline([('model', model)])"
      ],
      "execution_count": null,
      "outputs": []
    },
    {
      "cell_type": "markdown",
      "metadata": {
        "id": "KDvhKcImAifd"
      },
      "source": [
        "### 5.8.3 Getting the predefined split cross-validator"
      ]
    },
    {
      "cell_type": "code",
      "metadata": {
        "id": "Y9pJnt3zAifd"
      },
      "source": [
        "from sklearn.model_selection import PredefinedSplit\n",
        "\n",
        "# Combine the feature matrix in the training and validation data\n",
        "X_train_valid = np.vstack((X_train, X_valid))\n",
        "\n",
        "# Combine the target vector in the training and validation data\n",
        "y_train_valid = np.append(y_train, y_valid)\n",
        "\n",
        "# Get the indices of training and validation data\n",
        "train_valid_idxs = np.append(np.full(X_train.shape[0], -1), np.full(X_valid.shape[0], 0))\n",
        "\n",
        "# The PredefinedSplit\n",
        "ps = PredefinedSplit(train_valid_idxs)"
      ],
      "execution_count": null,
      "outputs": []
    },
    {
      "cell_type": "markdown",
      "metadata": {
        "id": "IOFeu1CHAife"
      },
      "source": [
        "### 5.8.4 Creating the dictionary of the parameter grids"
      ]
    },
    {
      "cell_type": "code",
      "metadata": {
        "id": "n3_4SfV2Aife"
      },
      "source": [
        "param_grids = {}"
      ],
      "execution_count": null,
      "outputs": []
    },
    {
      "cell_type": "markdown",
      "metadata": {
        "id": "dkDTlbsOAiff"
      },
      "source": [
        "#### 5.8.4.1 The parameter grid for logistic regression"
      ]
    },
    {
      "cell_type": "code",
      "metadata": {
        "id": "n0ppMJ1RAiff"
      },
      "source": [
        "# The grids for C\n",
        "C_grids = [10 ** i for i in range(-2, 3)]\n",
        "\n",
        "# The grids for tol\n",
        "tol_grids = [10 ** i for i in range(-6, -1)]\n",
        "\n",
        "# Update param_grids\n",
        "param_grids['lr'] = [{'model__C': C_grids,\n",
        "                      'model__tol': tol_grids}]"
      ],
      "execution_count": null,
      "outputs": []
    },
    {
      "cell_type": "markdown",
      "metadata": {
        "id": "QXmQLZd5Aifg"
      },
      "source": [
        "#### 5.8.4.2 The parameter grid for decision tree"
      ]
    },
    {
      "cell_type": "code",
      "metadata": {
        "id": "iv90FfF1Aifg"
      },
      "source": [
        "# The grids for min_samples_split\n",
        "min_samples_split_grids = [2, 30, 100]\n",
        "\n",
        "# The grids for min_samples_leaf\n",
        "min_samples_leaf_grids = [1, 30, 100]\n",
        "\n",
        "# The grids for max_depth\n",
        "max_depth_grids = range(1, 11)\n",
        "\n",
        "# Update param_grids\n",
        "param_grids['dtc'] = [{'model__min_samples_split': min_samples_split_grids,\n",
        "                       'model__min_samples_leaf': min_samples_leaf_grids,\n",
        "                       'model__max_depth': max_depth_grids}]"
      ],
      "execution_count": null,
      "outputs": []
    },
    {
      "cell_type": "markdown",
      "metadata": {
        "id": "rQxhY8tVAifi"
      },
      "source": [
        "#### 5.8.4.3 The parameter grid for random forest"
      ]
    },
    {
      "cell_type": "code",
      "metadata": {
        "id": "BElkQPRSAifi"
      },
      "source": [
        "# The grids for min_samples_split\n",
        "min_samples_split_grids = [2, 20, 100]\n",
        "\n",
        "# The grids for min_samples_leaf\n",
        "min_samples_leaf_grids = [1, 20, 100]\n",
        "\n",
        "# Implement me\n",
        "# Update param_grids\n",
        "param_grids['rfc'] = [{'model__min_samples_split': min_samples_split_grids,\n",
        "                       'model__min_samples_leaf': min_samples_leaf_grids}]"
      ],
      "execution_count": null,
      "outputs": []
    },
    {
      "cell_type": "markdown",
      "metadata": {
        "id": "PgXHrjfWAifj"
      },
      "source": [
        "#### 5.8.4.4 The parameter grid for histogram-based gradient boosting"
      ]
    },
    {
      "cell_type": "code",
      "metadata": {
        "id": "cerzg0obAifk"
      },
      "source": [
        "# The grids for learning_rate\n",
        "learning_rate_grids = [10 ** i for i in range(-3, 2)]\n",
        "\n",
        "# The grids for min_samples_leaf\n",
        "min_samples_leaf_grids = [1, 20, 100]\n",
        "\n",
        "# Implement me\n",
        "# Update param_grids\n",
        "param_grids['hgbc'] = [{'model__learning_rate': learning_rate_grids,\n",
        "                        'model__min_samples_leaf': min_samples_leaf_grids}]"
      ],
      "execution_count": null,
      "outputs": []
    },
    {
      "cell_type": "markdown",
      "metadata": {
        "id": "gaI-o3bEAifl"
      },
      "source": [
        "#### 5.8.4.5 The parameter grid for xgboost"
      ]
    },
    {
      "cell_type": "code",
      "metadata": {
        "id": "zWNjZo96Aifl"
      },
      "source": [
        "# The grids for eta\n",
        "eta_grids = [10 ** i for i in range(-4, 1)]\n",
        "\n",
        "# The grids for gamma\n",
        "gamma_grids = [0, 10, 100]\n",
        "\n",
        "# The grids for lambda\n",
        "lambda_grids = [10 ** i for i in range(-4, 5)]\n",
        "\n",
        "# Implement me\n",
        "# Update param_grids\n",
        "param_grids['xgbc'] = [{'model__eta': eta_grids,\n",
        "                        'model__gamma': gamma_grids,\n",
        "                        'model__lambda': lambda_grids}]"
      ],
      "execution_count": null,
      "outputs": []
    },
    {
      "cell_type": "markdown",
      "metadata": {
        "id": "o9ZdxxRr3I6R"
      },
      "source": [
        "#### 5.8.4.6 The parameter grid for multi-layer perceptron classifier"
      ]
    },
    {
      "cell_type": "code",
      "metadata": {
        "id": "Cgn4dhPj21YM"
      },
      "source": [
        "# The grids for alpha\n",
        "alpha_grids = [10 ** i for i in range(-4, -1)]\n",
        "\n",
        "# The grids for learning_rate_init\n",
        "learning_rate_init_grids = [10 ** i for i in range(-4, -1)]\n",
        "\n",
        "# Update param_grids\n",
        "param_grids['mlpc'] = [{'model__alpha': alpha_grids,\n",
        "                        'model__learning_rate_init': learning_rate_init_grids}]"
      ],
      "execution_count": null,
      "outputs": []
    },
    {
      "cell_type": "markdown",
      "metadata": {
        "id": "0c7FLxtbAifm"
      },
      "source": [
        "### 5.8.5 Creating the directory for the cv results."
      ]
    },
    {
      "cell_type": "code",
      "metadata": {
        "id": "suYF7irYAifm"
      },
      "source": [
        "import os\n",
        "\n",
        "# Make directory\n",
        "directory = os.path.dirname('./cv_classification_results/')\n",
        "if not os.path.exists(directory):\n",
        "    os.makedirs(directory)"
      ],
      "execution_count": null,
      "outputs": []
    },
    {
      "cell_type": "markdown",
      "metadata": {
        "id": "WZG8J79zAifn"
      },
      "source": [
        "### 5.8.6 Hyperparameter tuning "
      ]
    },
    {
      "cell_type": "code",
      "metadata": {
        "id": "bCW8EKSiAifn"
      },
      "source": [
        "from sklearn.model_selection import GridSearchCV\n",
        "\n",
        "# The list of [best_score_, best_params_, best_estimator_] obtained by GridSearchCV\n",
        "best_score_param_estimator_gs = []\n",
        "\n",
        "for acronym in pipes.keys():\n",
        "    # GridSearchCV\n",
        "    gs = GridSearchCV(estimator=pipes[acronym],\n",
        "                      param_grid=param_grids[acronym],\n",
        "                      scoring='f1_micro',\n",
        "                      n_jobs=2,\n",
        "                      cv=ps,\n",
        "                      return_train_score=True)\n",
        "        \n",
        "    # Fit the pipeline\n",
        "    gs = gs.fit(X_train_valid, y_train_valid)\n",
        "    \n",
        "    # Update best_score_param_estimator_gs\n",
        "    best_score_param_estimator_gs.append([gs.best_score_, gs.best_params_, gs.best_estimator_])\n",
        "    \n",
        "    # Sort cv_results in ascending order of 'rank_test_score' and 'std_test_score'\n",
        "    cv_results = pd.DataFrame.from_dict(gs.cv_results_).sort_values(by=['rank_test_score', 'std_test_score'])\n",
        "    \n",
        "    # Get the important columns in cv_results\n",
        "    important_columns = ['rank_test_score',\n",
        "                         'mean_test_score', \n",
        "                         'std_test_score', \n",
        "                         'mean_train_score', \n",
        "                         'std_train_score',\n",
        "                         'mean_fit_time', \n",
        "                         'std_fit_time',                        \n",
        "                         'mean_score_time', \n",
        "                         'std_score_time']\n",
        "    \n",
        "    # Move the important columns ahead\n",
        "    cv_results = cv_results[important_columns + sorted(list(set(cv_results.columns) - set(important_columns)))]\n",
        "\n",
        "    # Write cv_results file\n",
        "    cv_results.to_csv(path_or_buf='./cv_classification_results/' + acronym + '.csv', index=False)"
      ],
      "execution_count": null,
      "outputs": []
    },
    {
      "cell_type": "markdown",
      "metadata": {
        "id": "W8eHnYeOAifo"
      },
      "source": [
        "### 5.8.7 Model Selection"
      ]
    },
    {
      "cell_type": "code",
      "metadata": {
        "id": "bUXe4HpaAifp",
        "outputId": "7c4103ae-f260-4b54-dd17-317a1634586a",
        "colab": {
          "base_uri": "https://localhost:8080/",
          "height": 235
        }
      },
      "source": [
        "# Sort best_score_param_estimator_gs in descending order of the best_score_\n",
        "best_score_param_estimator_gs = sorted(best_score_param_estimator_gs, key=lambda x : x[0], reverse=True)\n",
        "\n",
        "# Print best_score_param_estimator_gs\n",
        "pd.DataFrame(best_score_param_estimator_gs, columns=['best_score', 'best_param', 'best_estimator'])"
      ],
      "execution_count": null,
      "outputs": [
        {
          "output_type": "execute_result",
          "data": {
            "text/html": [
              "<div>\n",
              "<style scoped>\n",
              "    .dataframe tbody tr th:only-of-type {\n",
              "        vertical-align: middle;\n",
              "    }\n",
              "\n",
              "    .dataframe tbody tr th {\n",
              "        vertical-align: top;\n",
              "    }\n",
              "\n",
              "    .dataframe thead th {\n",
              "        text-align: right;\n",
              "    }\n",
              "</style>\n",
              "<table border=\"1\" class=\"dataframe\">\n",
              "  <thead>\n",
              "    <tr style=\"text-align: right;\">\n",
              "      <th></th>\n",
              "      <th>best_score</th>\n",
              "      <th>best_param</th>\n",
              "      <th>best_estimator</th>\n",
              "    </tr>\n",
              "  </thead>\n",
              "  <tbody>\n",
              "    <tr>\n",
              "      <th>0</th>\n",
              "      <td>0.874163</td>\n",
              "      <td>{'model__learning_rate': 0.1, 'model__min_samp...</td>\n",
              "      <td>(HistGradientBoostingClassifier(l2_regularizat...</td>\n",
              "    </tr>\n",
              "    <tr>\n",
              "      <th>1</th>\n",
              "      <td>0.856396</td>\n",
              "      <td>{'model__min_samples_leaf': 1, 'model__min_sam...</td>\n",
              "      <td>((DecisionTreeClassifier(ccp_alpha=0.0, class_...</td>\n",
              "    </tr>\n",
              "    <tr>\n",
              "      <th>2</th>\n",
              "      <td>0.847252</td>\n",
              "      <td>{'model__alpha': 0.0001, 'model__learning_rate...</td>\n",
              "      <td>(MLPClassifier(activation='relu', alpha=0.0001...</td>\n",
              "    </tr>\n",
              "    <tr>\n",
              "      <th>3</th>\n",
              "      <td>0.844189</td>\n",
              "      <td>{'model__eta': 0.0001, 'model__gamma': 10, 'mo...</td>\n",
              "      <td>(XGBClassifier(base_score=0.5, booster='gbtree...</td>\n",
              "    </tr>\n",
              "    <tr>\n",
              "      <th>4</th>\n",
              "      <td>0.841361</td>\n",
              "      <td>{'model__max_depth': 10, 'model__min_samples_l...</td>\n",
              "      <td>(DecisionTreeClassifier(ccp_alpha=0.0, class_w...</td>\n",
              "    </tr>\n",
              "    <tr>\n",
              "      <th>5</th>\n",
              "      <td>0.692997</td>\n",
              "      <td>{'model__C': 1, 'model__tol': 1e-06}</td>\n",
              "      <td>(LogisticRegression(C=1, class_weight='balance...</td>\n",
              "    </tr>\n",
              "  </tbody>\n",
              "</table>\n",
              "</div>"
            ],
            "text/plain": [
              "   best_score  ...                                     best_estimator\n",
              "0    0.874163  ...  (HistGradientBoostingClassifier(l2_regularizat...\n",
              "1    0.856396  ...  ((DecisionTreeClassifier(ccp_alpha=0.0, class_...\n",
              "2    0.847252  ...  (MLPClassifier(activation='relu', alpha=0.0001...\n",
              "3    0.844189  ...  (XGBClassifier(base_score=0.5, booster='gbtree...\n",
              "4    0.841361  ...  (DecisionTreeClassifier(ccp_alpha=0.0, class_w...\n",
              "5    0.692997  ...  (LogisticRegression(C=1, class_weight='balance...\n",
              "\n",
              "[6 rows x 3 columns]"
            ]
          },
          "metadata": {
            "tags": []
          },
          "execution_count": 110
        }
      ]
    },
    {
      "cell_type": "code",
      "metadata": {
        "id": "s60texBwiWHq"
      },
      "source": [
        "best_score_gs, best_param_gs, best_estimator_gs = best_score_param_estimator_gs[0]"
      ],
      "execution_count": null,
      "outputs": []
    },
    {
      "cell_type": "markdown",
      "metadata": {
        "id": "RAqJ0EerjtDU"
      },
      "source": [
        "## 5.9 Confusion Matrix"
      ]
    },
    {
      "cell_type": "code",
      "metadata": {
        "id": "yT2SKsK4Wksi"
      },
      "source": [
        "# Create the directory for figure_classification\n",
        "import os\n",
        "\n",
        "# Make directory\n",
        "directory = os.path.dirname('./figure_classification/')\n",
        "if not os.path.exists(directory):\n",
        "    os.makedirs(directory)"
      ],
      "execution_count": null,
      "outputs": []
    },
    {
      "cell_type": "code",
      "metadata": {
        "id": "ZQUB3wY5ioiq"
      },
      "source": [
        "# Select the best model\n",
        "classifier = best_estimator_gs"
      ],
      "execution_count": null,
      "outputs": []
    },
    {
      "cell_type": "code",
      "metadata": {
        "id": "zjxW7WQ6iVPf",
        "outputId": "337a765c-04f0-4232-a625-7e6e29180e62",
        "colab": {
          "base_uri": "https://localhost:8080/",
          "height": 430
        }
      },
      "source": [
        "from sklearn.metrics import plot_confusion_matrix\n",
        "\n",
        "# Create a figure and axes\n",
        "fig, ax = plt.subplots(nrows=1, ncols=1, figsize=(6, 6))\n",
        "\n",
        "# Plot the confusion matrix\n",
        "plot_confusion_matrix(classifier,\n",
        "                      X_valid,\n",
        "                      y_valid,\n",
        "                      normalize='true',\n",
        "                      display_labels=np.unique(y_valid),\n",
        "                      values_format='.2f',\n",
        "                      cmap=plt.cm.Blues,\n",
        "                      ax=ax)\n",
        "\n",
        "# Save and show the figure\n",
        "plt.tight_layout()\n",
        "plt.savefig('./figure_classification/confusion_matrix.pdf')\n",
        "plt.show()"
      ],
      "execution_count": null,
      "outputs": [
        {
          "output_type": "display_data",
          "data": {
            "image/png": "[encoded data removed]",
            "text/plain": [
              "<Figure size 432x432 with 2 Axes>"
            ]
          },
          "metadata": {
            "tags": []
          }
        }
      ]
    },
    {
      "cell_type": "markdown",
      "metadata": {
        "id": "F3MweXxjAifp"
      },
      "source": [
        "## 5.10 Plot the feature importance"
      ]
    },
    {
      "cell_type": "code",
      "metadata": {
        "id": "3_7VAQNhAifs",
        "outputId": "7fad7680-35a2-46cf-f549-b9de78629c92",
        "colab": {
          "base_uri": "https://localhost:8080/",
          "height": 359
        }
      },
      "source": [
        "# Get the best_score, best_param and best_estimator of random forest obtained by GridSearchCV\n",
        "best_score_rfc, best_param_rfc, best_estimator_rfc = best_score_param_estimator_gs[1]\n",
        "\n",
        "# Get the dataframe of feature and importance\n",
        "df_fi_rfc = pd.DataFrame(np.hstack((features.reshape(-1, 1), best_estimator_rfc.named_steps['model'].feature_importances_.reshape(-1, 1))),\n",
        "                         columns=['Features', 'Importance'])\n",
        "\n",
        "# Sort df_fi_rfc in descending order of the importance\n",
        "df_fi_rfc = df_fi_rfc.sort_values(ascending=False, by='Importance').reset_index(drop=True)\n",
        "\n",
        "# Print df_fi_rfc\n",
        "df_fi_rfc[:10]"
      ],
      "execution_count": null,
      "outputs": [
        {
          "output_type": "execute_result",
          "data": {
            "text/html": [
              "<div>\n",
              "<style scoped>\n",
              "    .dataframe tbody tr th:only-of-type {\n",
              "        vertical-align: middle;\n",
              "    }\n",
              "\n",
              "    .dataframe tbody tr th {\n",
              "        vertical-align: top;\n",
              "    }\n",
              "\n",
              "    .dataframe thead th {\n",
              "        text-align: right;\n",
              "    }\n",
              "</style>\n",
              "<table border=\"1\" class=\"dataframe\">\n",
              "  <thead>\n",
              "    <tr style=\"text-align: right;\">\n",
              "      <th></th>\n",
              "      <th>Features</th>\n",
              "      <th>Importance</th>\n",
              "    </tr>\n",
              "  </thead>\n",
              "  <tbody>\n",
              "    <tr>\n",
              "      <th>0</th>\n",
              "      <td>term_in_months</td>\n",
              "      <td>0.317876</td>\n",
              "    </tr>\n",
              "    <tr>\n",
              "      <th>1</th>\n",
              "      <td>country_Colombia</td>\n",
              "      <td>0.0986365</td>\n",
              "    </tr>\n",
              "    <tr>\n",
              "      <th>2</th>\n",
              "      <td>loan_amount</td>\n",
              "      <td>0.0965385</td>\n",
              "    </tr>\n",
              "    <tr>\n",
              "      <th>3</th>\n",
              "      <td>activities_agriculture_and_livestock</td>\n",
              "      <td>0.0956306</td>\n",
              "    </tr>\n",
              "    <tr>\n",
              "      <th>4</th>\n",
              "      <td>MPI</td>\n",
              "      <td>0.0824386</td>\n",
              "    </tr>\n",
              "    <tr>\n",
              "      <th>5</th>\n",
              "      <td>female_borrowers</td>\n",
              "      <td>0.0578216</td>\n",
              "    </tr>\n",
              "    <tr>\n",
              "      <th>6</th>\n",
              "      <td>lender_count</td>\n",
              "      <td>0.0575645</td>\n",
              "    </tr>\n",
              "    <tr>\n",
              "      <th>7</th>\n",
              "      <td>country_El Salvador</td>\n",
              "      <td>0.0249598</td>\n",
              "    </tr>\n",
              "    <tr>\n",
              "      <th>8</th>\n",
              "      <td>country_Peru</td>\n",
              "      <td>0.0205669</td>\n",
              "    </tr>\n",
              "    <tr>\n",
              "      <th>9</th>\n",
              "      <td>activities_business</td>\n",
              "      <td>0.0186295</td>\n",
              "    </tr>\n",
              "  </tbody>\n",
              "</table>\n",
              "</div>"
            ],
            "text/plain": [
              "                               Features Importance\n",
              "0                        term_in_months   0.317876\n",
              "1                      country_Colombia  0.0986365\n",
              "2                           loan_amount  0.0965385\n",
              "3  activities_agriculture_and_livestock  0.0956306\n",
              "4                                   MPI  0.0824386\n",
              "5                      female_borrowers  0.0578216\n",
              "6                          lender_count  0.0575645\n",
              "7                   country_El Salvador  0.0249598\n",
              "8                          country_Peru  0.0205669\n",
              "9                   activities_business  0.0186295"
            ]
          },
          "metadata": {
            "tags": []
          },
          "execution_count": 111
        }
      ]
    },
    {
      "cell_type": "code",
      "metadata": {
        "id": "uYKpt2oLAift",
        "outputId": "da675b0b-1a98-4654-f390-e0cb08d20dea",
        "colab": {
          "base_uri": "https://localhost:8080/",
          "height": 509
        }
      },
      "source": [
        "# Create a figure\n",
        "fig = plt.figure(figsize=(10, 7))\n",
        "\n",
        "# The bar plot of feature importance\n",
        "plt.bar(df_fi_rfc['Features'], df_fi_rfc['Importance'], color='green')\n",
        "\n",
        "# Set x-axis\n",
        "plt.xlabel('Features')\n",
        "plt.xticks(rotation=90)\n",
        "\n",
        "# Set y-axis\n",
        "plt.ylabel('Importance')\n",
        "\n",
        "# Save and show the figure\n",
        "plt.tight_layout()\n",
        "plt.savefig('./figure_classification/feature_importance_rfc.pdf')\n",
        "plt.show()"
      ],
      "execution_count": null,
      "outputs": [
        {
          "output_type": "display_data",
          "data": {
            "image/png": "[encoded data removed]",
            "text/plain": [
              "<Figure size 720x504 with 1 Axes>"
            ]
          },
          "metadata": {
            "tags": []
          }
        }
      ]
    },
    {
      "cell_type": "markdown",
      "metadata": {
        "id": "7HryvnE3XfDg"
      },
      "source": [
        "## 5.11 Generating the submission file"
      ]
    },
    {
      "cell_type": "code",
      "metadata": {
        "id": "0U-q7gz9YAfL"
      },
      "source": [
        "best_score_gs, best_param_gs, best_estimator_gs = best_score_param_estimator_gs[0]"
      ],
      "execution_count": null,
      "outputs": []
    },
    {
      "cell_type": "code",
      "metadata": {
        "id": "pI2zFHX5X3fl"
      },
      "source": [
        "# Get the prediction on the testing data using best_model\n",
        "y_test_pred = best_estimator_gs.predict(X_test)\n",
        "\n",
        "# Transform y_test_pred back to the original class\n",
        "y_test_pred = le.inverse_transform(y_test_pred)\n",
        "\n",
        "# Get the submission dataframe\n",
        "df_submit = pd.DataFrame(np.hstack((np.arange(1, y_test_pred.shape[0] + 1).reshape(-1, 1), y_test_pred.reshape(-1, 1))),\n",
        "                         columns=['ImageId', 'Label'])                                                                                      \n",
        "\n",
        "# Generate the submission file\n",
        "df_submit.to_csv('submission_classification.csv', index=False)"
      ],
      "execution_count": null,
      "outputs": []
    },
    {
      "cell_type": "markdown",
      "metadata": {
        "id": "ErGrOvHygBn3"
      },
      "source": [
        "# 6. Discussion & Conclusion"
      ]
    },
    {
      "cell_type": "markdown",
      "metadata": {
        "id": "m-C06YrXhgaE"
      },
      "source": [
        "In predicting Kiva loan amount, our regression models were able to run, yet were not very powerful predictive models based on their accuracy. The negative mean squared error, which would ideally be closer to 0 is quite far off at a level of -160,000 for the MLP regressor. This regressor was the best amongst the other two (Decision Tree and Random Forest). Given that MSE is the summation of the squares of the difference in predicted and actual value divided by the total number of data points, we would like this to be minimized. However, our accuracy in this case was measured by negative MSE, therefore, it should then be maximized. There are likely many reasons why this is a poor model for predicting loan amount, but we speculate that nature of the features we chose are not great indicators of the Latin American Kiva loan amounts under the given parameters. \n",
        "\n",
        "Next, in our classification model predicting repayment interval type, our results reveal the best model to be Histogram Gradient Boosting with an F1 score of 0.874. “The F1 score can be interpreted as a weighted average of the precision and recall, where an F1 score reaches its best value at 1 and worst score at 0”. Thus, this is quite a good model based on the F1 score. Additionally, the next best models, Random Forest, and Multilayer Perception Classification both performed well with F1 scores above 0.80. According to our Random Forest Classifier, the top 5 features given in order of importance are: Loan Term (months), Country Colombia, Loan Amount, Agriculture and Livestock Activity, and MPI. Intuitively, due to the nature of money and loans, the Loan Term (0.317876 importance) and Loan Amount (0.0965385) are predictive of the Repayment Interval Type (monthly, bullet, irregular). Interestingly, Colombia has more predictive power than other Latin American countries (imporance of 0.0986365). If we recall some of our EDA plots, Colombia received the 3rd highest number of loans in Latin America and it was highly (negatively) correlated with repayment interval, our target. Agriculture and livestock is the second highest activity in Latin America and is also negatively correlated to repayment interval. MPI being the 5th most important at a value of 0.0824386, indicates that poverty level is playing an important role in Kiva loan activity. \n",
        "\n",
        "In all, we were able to achieve our goals of building regression and classification models. However, our regression models predicting loan amount were weak, thus we cannot make conclusions about the features with respect to loan amount. On the other hand, our classification models were quite accurate in predicting repayment interval type. While this may not be the most informative information for Kiva, the model may be useful in determining what a borrowers repayment interval should be, given all other factors. Many future projects could be done using this data, for example, the initial Kaggle competition prompted competitors to predict the level of poverty of each borrower using the original data along with other relevant public datasets. In conclusion, we have accomplished pre-processing and exploratory analysis of this data, and have built classification models to predict repayment interval type of Kiva loans in Latin American countries. "
      ]
    },
    {
      "cell_type": "markdown",
      "metadata": {
        "id": "R8eIxTKeYY2N"
      },
      "source": [
        "# 7. Annex: Multitarget classification and prediction"
      ]
    },
    {
      "cell_type": "markdown",
      "metadata": {
        "id": "uYnB3z2lhZs2"
      },
      "source": [
        "We wanted to try and classify two target variables at the same time, we selected repayment interval and activities as the target since they both contain multiple classes."
      ]
    },
    {
      "cell_type": "code",
      "metadata": {
        "id": "xCcpwkV0Aifw"
      },
      "source": [
        "# Create a copy of df_preprocessed \n",
        "df_wod = df_preprocessed.copy(deep=True)"
      ],
      "execution_count": null,
      "outputs": []
    },
    {
      "cell_type": "code",
      "metadata": {
        "id": "IAsJtY9gAifx",
        "outputId": "31a2bc1d-ef19-4117-8593-ebdc2de1194e",
        "colab": {
          "base_uri": "https://localhost:8080/",
          "height": 84
        }
      },
      "source": [
        "df_wod.columns"
      ],
      "execution_count": null,
      "outputs": [
        {
          "output_type": "execute_result",
          "data": {
            "text/plain": [
              "Index(['loan_amount', 'country', 'term_in_months', 'lender_count',\n",
              "       'repayment_interval', 'MPI', 'activities', 'male_borrowers',\n",
              "       'female_borrowers'],\n",
              "      dtype='object')"
            ]
          },
          "metadata": {
            "tags": []
          },
          "execution_count": 55
        }
      ]
    },
    {
      "cell_type": "markdown",
      "metadata": {
        "id": "BBAndR3neczA"
      },
      "source": [
        "## 7.1 Define target"
      ]
    },
    {
      "cell_type": "code",
      "metadata": {
        "id": "UYkk2nmOebug"
      },
      "source": [
        "target = ['repayment_interval','activities']"
      ],
      "execution_count": null,
      "outputs": []
    },
    {
      "cell_type": "markdown",
      "metadata": {
        "id": "KGX4sr2DesHc"
      },
      "source": [
        "## 7.2 Encoding the features and target"
      ]
    },
    {
      "cell_type": "code",
      "metadata": {
        "id": "-riCdNzheiWr",
        "outputId": "9311c83d-2989-4c7a-8173-db4a05340cb2",
        "colab": {
          "base_uri": "https://localhost:8080/",
          "height": 232
        }
      },
      "source": [
        "# Enconding the categorical features\n",
        "df = pd.get_dummies(df_wod, columns=np.setdiff1d(np.intersect1d(df_wod.columns, df_cat['var']), [target]))\n",
        "\n",
        "# Print the first 5 rows of df\n",
        "df.head()"
      ],
      "execution_count": null,
      "outputs": [
        {
          "output_type": "execute_result",
          "data": {
            "text/html": [
              "<div>\n",
              "<style scoped>\n",
              "    .dataframe tbody tr th:only-of-type {\n",
              "        vertical-align: middle;\n",
              "    }\n",
              "\n",
              "    .dataframe tbody tr th {\n",
              "        vertical-align: top;\n",
              "    }\n",
              "\n",
              "    .dataframe thead th {\n",
              "        text-align: right;\n",
              "    }\n",
              "</style>\n",
              "<table border=\"1\" class=\"dataframe\">\n",
              "  <thead>\n",
              "    <tr style=\"text-align: right;\">\n",
              "      <th></th>\n",
              "      <th>loan_amount</th>\n",
              "      <th>term_in_months</th>\n",
              "      <th>lender_count</th>\n",
              "      <th>repayment_interval</th>\n",
              "      <th>MPI</th>\n",
              "      <th>activities</th>\n",
              "      <th>male_borrowers</th>\n",
              "      <th>female_borrowers</th>\n",
              "      <th>country_Belize</th>\n",
              "      <th>country_Brazil</th>\n",
              "      <th>country_Colombia</th>\n",
              "      <th>country_Dominican Republic</th>\n",
              "      <th>country_Ecuador</th>\n",
              "      <th>country_El Salvador</th>\n",
              "      <th>country_Haiti</th>\n",
              "      <th>country_Honduras</th>\n",
              "      <th>country_Nicaragua</th>\n",
              "      <th>country_Paraguay</th>\n",
              "      <th>country_Peru</th>\n",
              "      <th>country_Suriname</th>\n",
              "    </tr>\n",
              "  </thead>\n",
              "  <tbody>\n",
              "    <tr>\n",
              "      <th>48</th>\n",
              "      <td>600.0</td>\n",
              "      <td>14.0</td>\n",
              "      <td>16</td>\n",
              "      <td>monthly</td>\n",
              "      <td>0.074</td>\n",
              "      <td>business</td>\n",
              "      <td>0</td>\n",
              "      <td>1</td>\n",
              "      <td>0</td>\n",
              "      <td>0</td>\n",
              "      <td>0</td>\n",
              "      <td>0</td>\n",
              "      <td>0</td>\n",
              "      <td>0</td>\n",
              "      <td>0</td>\n",
              "      <td>0</td>\n",
              "      <td>1</td>\n",
              "      <td>0</td>\n",
              "      <td>0</td>\n",
              "      <td>0</td>\n",
              "    </tr>\n",
              "    <tr>\n",
              "      <th>49</th>\n",
              "      <td>450.0</td>\n",
              "      <td>14.0</td>\n",
              "      <td>18</td>\n",
              "      <td>monthly</td>\n",
              "      <td>0.032</td>\n",
              "      <td>business</td>\n",
              "      <td>1</td>\n",
              "      <td>0</td>\n",
              "      <td>0</td>\n",
              "      <td>0</td>\n",
              "      <td>0</td>\n",
              "      <td>0</td>\n",
              "      <td>0</td>\n",
              "      <td>1</td>\n",
              "      <td>0</td>\n",
              "      <td>0</td>\n",
              "      <td>0</td>\n",
              "      <td>0</td>\n",
              "      <td>0</td>\n",
              "      <td>0</td>\n",
              "    </tr>\n",
              "    <tr>\n",
              "      <th>53</th>\n",
              "      <td>550.0</td>\n",
              "      <td>14.0</td>\n",
              "      <td>20</td>\n",
              "      <td>monthly</td>\n",
              "      <td>0.053</td>\n",
              "      <td>miscellaneous</td>\n",
              "      <td>1</td>\n",
              "      <td>0</td>\n",
              "      <td>0</td>\n",
              "      <td>0</td>\n",
              "      <td>0</td>\n",
              "      <td>0</td>\n",
              "      <td>0</td>\n",
              "      <td>0</td>\n",
              "      <td>0</td>\n",
              "      <td>0</td>\n",
              "      <td>0</td>\n",
              "      <td>0</td>\n",
              "      <td>1</td>\n",
              "      <td>0</td>\n",
              "    </tr>\n",
              "    <tr>\n",
              "      <th>69</th>\n",
              "      <td>1075.0</td>\n",
              "      <td>17.0</td>\n",
              "      <td>41</td>\n",
              "      <td>monthly</td>\n",
              "      <td>0.053</td>\n",
              "      <td>services</td>\n",
              "      <td>1</td>\n",
              "      <td>0</td>\n",
              "      <td>0</td>\n",
              "      <td>0</td>\n",
              "      <td>0</td>\n",
              "      <td>0</td>\n",
              "      <td>0</td>\n",
              "      <td>0</td>\n",
              "      <td>0</td>\n",
              "      <td>0</td>\n",
              "      <td>0</td>\n",
              "      <td>0</td>\n",
              "      <td>1</td>\n",
              "      <td>0</td>\n",
              "    </tr>\n",
              "    <tr>\n",
              "      <th>80</th>\n",
              "      <td>1000.0</td>\n",
              "      <td>20.0</td>\n",
              "      <td>34</td>\n",
              "      <td>monthly</td>\n",
              "      <td>0.090</td>\n",
              "      <td>business</td>\n",
              "      <td>0</td>\n",
              "      <td>1</td>\n",
              "      <td>0</td>\n",
              "      <td>0</td>\n",
              "      <td>0</td>\n",
              "      <td>0</td>\n",
              "      <td>0</td>\n",
              "      <td>0</td>\n",
              "      <td>0</td>\n",
              "      <td>1</td>\n",
              "      <td>0</td>\n",
              "      <td>0</td>\n",
              "      <td>0</td>\n",
              "      <td>0</td>\n",
              "    </tr>\n",
              "  </tbody>\n",
              "</table>\n",
              "</div>"
            ],
            "text/plain": [
              "    loan_amount  term_in_months  ...  country_Peru country_Suriname\n",
              "48        600.0            14.0  ...             0                0\n",
              "49        450.0            14.0  ...             0                0\n",
              "53        550.0            14.0  ...             1                0\n",
              "69       1075.0            17.0  ...             1                0\n",
              "80       1000.0            20.0  ...             0                0\n",
              "\n",
              "[5 rows x 20 columns]"
            ]
          },
          "metadata": {
            "tags": []
          },
          "execution_count": 57
        }
      ]
    },
    {
      "cell_type": "markdown",
      "metadata": {
        "id": "cNzKNc2luy_t"
      },
      "source": [
        "#### We custom encoded the target variables:"
      ]
    },
    {
      "cell_type": "code",
      "metadata": {
        "id": "epyIlmIoeiUc"
      },
      "source": [
        "# Setting mutliple targets and label encoding for targets\n",
        "tt=df[target]\n",
        "\n",
        "map_rep_interval = {'monthly':0, \n",
        "                  'irregular':1, \n",
        "                  'bullet':2 }\n",
        "\n",
        "map_activities = {'business': 0,\n",
        "                 'miscellaneous': 1 ,\n",
        "                 'services': 2 ,\n",
        "                   'education': 3 ,\n",
        "                   'construction_materials': 4 ,\n",
        "                   'arts_and_crafts': 5 ,\n",
        "                    'energy': 6 ,\n",
        "                   'food_and_beverages': 7 ,\n",
        "                   'agriculture_and_livestock': 8 ,\n",
        "                    None: 9 ,\n",
        "                   'maintenance': 10 ,\n",
        "                   'entertainment': 11 ,\n",
        "                   'supplies': 12 ,\n",
        "                   'healthcare':13 ,\n",
        "                   'technology_and_IT': 14 }"
      ],
      "execution_count": null,
      "outputs": []
    },
    {
      "cell_type": "code",
      "metadata": {
        "id": "8bRcSiSteiMS"
      },
      "source": [
        "## setting encoded values for repayment interval\n",
        "encoded_interval=[]\n",
        "for rep in tt['repayment_interval']:\n",
        "    for key, value in map_rep_interval.items():\n",
        "        if key ==rep:\n",
        "            encoded_interval.append(value)"
      ],
      "execution_count": null,
      "outputs": []
    },
    {
      "cell_type": "code",
      "metadata": {
        "id": "tX8p4H-NfKwo"
      },
      "source": [
        "# setting encoded values for activities\n",
        "encoded=[]\n",
        "for act in tt['activities']:\n",
        "    for key, value in map_activities.items():\n",
        "        if key ==act:\n",
        "            encoded.append(value)"
      ],
      "execution_count": null,
      "outputs": []
    },
    {
      "cell_type": "code",
      "metadata": {
        "id": "XG2FMdC4fKuZ"
      },
      "source": [
        "tt['repayment_interval']=encoded_interval"
      ],
      "execution_count": null,
      "outputs": []
    },
    {
      "cell_type": "code",
      "metadata": {
        "id": "lF0vGtj0fKrw"
      },
      "source": [
        "tt['activities']=encoded"
      ],
      "execution_count": null,
      "outputs": []
    },
    {
      "cell_type": "code",
      "metadata": {
        "id": "nUDUg8gufKpD"
      },
      "source": [
        "# Dropping values for dataset\n",
        "d1=df.drop('repayment_interval',axis=1)\n",
        "final_data=d1.drop('activities',axis=1)"
      ],
      "execution_count": null,
      "outputs": []
    },
    {
      "cell_type": "markdown",
      "metadata": {
        "id": "Qtnl8-ATgjCr"
      },
      "source": [
        "## 7.3 Fitting data for multi target predictions"
      ]
    },
    {
      "cell_type": "code",
      "metadata": {
        "id": "_zgR_u6of3AL",
        "outputId": "054d4f47-6b3d-47b5-d00c-c1f170b9face",
        "colab": {
          "base_uri": "https://localhost:8080/",
          "height": 67
        }
      },
      "source": [
        "from sklearn.neighbors import KNeighborsClassifier\n",
        "neigh = KNeighborsClassifier(n_neighbors=3)\n",
        "neigh.fit(final_data, tt)"
      ],
      "execution_count": null,
      "outputs": [
        {
          "output_type": "execute_result",
          "data": {
            "text/plain": [
              "KNeighborsClassifier(algorithm='auto', leaf_size=30, metric='minkowski',\n",
              "                     metric_params=None, n_jobs=None, n_neighbors=3, p=2,\n",
              "                     weights='uniform')"
            ]
          },
          "metadata": {
            "tags": []
          },
          "execution_count": 64
        }
      ]
    },
    {
      "cell_type": "code",
      "metadata": {
        "id": "JrcGsgtFf29Q",
        "outputId": "210aa6d2-c135-48c7-c71e-0c7cd3e45944",
        "colab": {
          "base_uri": "https://localhost:8080/",
          "height": 151
        }
      },
      "source": [
        "from sklearn.ensemble import RandomForestClassifier\n",
        "from sklearn.datasets import make_classification\n",
        "rf = RandomForestClassifier(max_depth=2, random_state=0)\n",
        "rf.fit(final_data, tt)"
      ],
      "execution_count": null,
      "outputs": [
        {
          "output_type": "execute_result",
          "data": {
            "text/plain": [
              "RandomForestClassifier(bootstrap=True, ccp_alpha=0.0, class_weight=None,\n",
              "                       criterion='gini', max_depth=2, max_features='auto',\n",
              "                       max_leaf_nodes=None, max_samples=None,\n",
              "                       min_impurity_decrease=0.0, min_impurity_split=None,\n",
              "                       min_samples_leaf=1, min_samples_split=2,\n",
              "                       min_weight_fraction_leaf=0.0, n_estimators=100,\n",
              "                       n_jobs=None, oob_score=False, random_state=0, verbose=0,\n",
              "                       warm_start=False)"
            ]
          },
          "metadata": {
            "tags": []
          },
          "execution_count": 65
        }
      ]
    },
    {
      "cell_type": "markdown",
      "metadata": {
        "id": "YUy3PkfagrP7"
      },
      "source": [
        "## 7.4 Prediction with user input"
      ]
    },
    {
      "cell_type": "code",
      "metadata": {
        "id": "3UVvp29SfKmZ",
        "outputId": "124e1369-778b-4f88-b63f-42c3f64b164b",
        "colab": {
          "base_uri": "https://localhost:8080/",
          "height": 118
        }
      },
      "source": [
        "loan_amount=input(\"Enter the loan amount: \")\n",
        "term_in_months=input(\"Enter term in months: \")\n",
        "lender_count=input(\"Enter the number of lenders: \")\n",
        "male_borrowers=input(\"Enter the number of male borrowers: \")\n",
        "female_borrowers=input(\"Enter the number of female borrowers: \")\n",
        "country=input(\"Enter the the name of the country: \")"
      ],
      "execution_count": null,
      "outputs": [
        {
          "output_type": "stream",
          "text": [
            "Enter the loan amount: 100\n",
            "Enter term in months: 15\n",
            "Enter the number of lenders: 7\n",
            "Enter the number of male borrowers: 5\n",
            "Enter the number of female borrowers: 0\n",
            "Enter the the name of the country: Belize\n"
          ],
          "name": "stdout"
        }
      ]
    },
    {
      "cell_type": "code",
      "metadata": {
        "id": "mST_e_09fKjz"
      },
      "source": [
        "#mapping the user input of country to the appropriate MPI\n",
        "user_in=['country','MPI']\n",
        "user_input=df_wod[user_in]\n",
        "mpi_c_list=[]\n",
        "mpi_mp_list=[]\n",
        "for c,mp in zip(user_input['country'],user_input['MPI']):\n",
        "    if c not in mpi_c_list:\n",
        "        mpi_c_list.append(c)\n",
        "        mpi_mp_list.append(mp) "
      ],
      "execution_count": null,
      "outputs": []
    },
    {
      "cell_type": "code",
      "metadata": {
        "id": "loUJag2igzV9"
      },
      "source": [
        "mpi = pd.DataFrame()\n",
        "mpi['mpi_c_list']=mpi_c_list\n",
        "mpi['mpi_mp_list']=mpi_mp_list"
      ],
      "execution_count": null,
      "outputs": []
    },
    {
      "cell_type": "code",
      "metadata": {
        "id": "cwgv0aAvgzTE"
      },
      "source": [
        "# since the country variable has been one hot encoded, we generate a vector based on the country to append to the input of the predict function\n",
        "def checkcountry(country):    \n",
        "    if country==\"Nicaragua\":\n",
        "        v1=0,0,0,0,0,0,0,0,1,0,0,0\n",
        "    elif country==\"El Salvador\":\n",
        "        v1=0,0,0,0,0,1,0,0,0,0,0,0\n",
        "    elif country==\"Peru\":\n",
        "        v1=0,0,0,0,0,0,0,0,0,0,1,0\n",
        "    elif country==\"Honduras\":\n",
        "        v1=0,0,0,0,0,0,0,1,0,0,0,0\n",
        "    elif country==\"Colombia\":\n",
        "        v1=0,0,1,0,0,0,0,0,0,0,0,0\n",
        "    elif country==\"Ecuador\":\n",
        "        v1=0,0,0,0,1,0,0,0,0,0,0,0\n",
        "    elif country==\"Haiti\":\n",
        "        v1=0,0,0,0,0,0,1,0,0,0,0,0\n",
        "    elif country==\"Dominican Republic\":\n",
        "        v1=0,0,0,1,0,0,0,0,0,0,0,0\n",
        "    elif country==\"Dominican Republic\":\n",
        "        v1=0,0,0,1,0,0,0,0,0,0,0,0\n",
        "    elif country==\"Brazil\":\n",
        "        v1=0,1,0,0,0,0,0,0,0,0,0,0\n",
        "    elif country==\"Paraguay\":\n",
        "        v1=0,0,0,0,0,0,0,0,0,1,0,0\n",
        "    elif country==\"Belize\":\n",
        "        v1=1,0,0,0,0,0,0,0,0,0,0,0\n",
        "    elif country==\"Suriname\":\n",
        "        v1=0,0,0,0,0,0,0,0,0,0,0,1\n",
        "    return list(v1)"
      ],
      "execution_count": null,
      "outputs": []
    },
    {
      "cell_type": "code",
      "metadata": {
        "id": "cUH8O0KogzQL"
      },
      "source": [
        "val=checkcountry(country)\n",
        "co=mpi['mpi_c_list']\n",
        "mp=mpi['mpi_mp_list']\n",
        "for i in range (0,len(co)):\n",
        "    if country==co[i]:\n",
        "        mpi_val=mp[i]"
      ],
      "execution_count": null,
      "outputs": []
    },
    {
      "cell_type": "code",
      "metadata": {
        "id": "ksKsimC4g4r0"
      },
      "source": [
        "#preparing the input array\n",
        "input_test_1=[]\n",
        "input_test_1.append(int(loan_amount))\n",
        "input_test_1.append(int(term_in_months))\n",
        "input_test_1.append(int(lender_count))\n",
        "input_test_1.append(int(male_borrowers))\n",
        "input_test_1.append(int(female_borrowers))\n",
        "input_test_1.append(mpi_val)\n",
        "for v in val:\n",
        "    input_test_1.append(v)"
      ],
      "execution_count": null,
      "outputs": []
    },
    {
      "cell_type": "markdown",
      "metadata": {
        "id": "gLCp8Wj1g8ZT"
      },
      "source": [
        "## 7.5 Output"
      ]
    },
    {
      "cell_type": "code",
      "metadata": {
        "id": "K5ixLypBg4o_",
        "outputId": "e02734fc-14dd-4037-e0c0-5f7e1c8643bb",
        "colab": {
          "base_uri": "https://localhost:8080/",
          "height": 50
        }
      },
      "source": [
        "#KNN-prediction function\n",
        "val1=(neigh.predict([input_test_1]))\n",
        "\n",
        "output=[]\n",
        "for v in val1:\n",
        "    for vv in v:\n",
        "        output.append(vv)\n",
        "\n",
        "for k,v in map_rep_interval.items():\n",
        "    if v==output[0]:\n",
        "        print(\"Repayment Interval Prediction:\",k)\n",
        "\n",
        "for k,v in map_activities.items():\n",
        "    if v==output[1]:\n",
        "        print(\"Activities Prediction:\",k)"
      ],
      "execution_count": null,
      "outputs": [
        {
          "output_type": "stream",
          "text": [
            "Repayment Interval Prediction: monthly\n",
            "Activities Prediction: agriculture_and_livestock\n"
          ],
          "name": "stdout"
        }
      ]
    },
    {
      "cell_type": "code",
      "metadata": {
        "id": "EwMS1XHShFEL",
        "outputId": "8e07b416-1af6-4885-a6fa-0f856b442993",
        "colab": {
          "base_uri": "https://localhost:8080/",
          "height": 50
        }
      },
      "source": [
        "#random-forest-prediction function\n",
        "val2=rf.predict([input_test_1])\n",
        "\n",
        "output_rf=[]\n",
        "for v in val1:\n",
        "    for vv in v:\n",
        "        output_rf.append(vv)\n",
        "\n",
        "for k,v in map_rep_interval.items():\n",
        "    if v==output[0]:\n",
        "        print(\"Repayment Interval Prediction:\",k)\n",
        "\n",
        "for k,v in map_activities.items():\n",
        "    if v==output[1]:\n",
        "        print(\"Activities Prediction:\",k)"
      ],
      "execution_count": null,
      "outputs": [
        {
          "output_type": "stream",
          "text": [
            "Repayment Interval Prediction: monthly\n",
            "Activities Prediction: agriculture_and_livestock\n"
          ],
          "name": "stdout"
        }
      ]
    },
    {
      "cell_type": "markdown",
      "metadata": {
        "id": "eINkc58qeuQv"
      },
      "source": [
        "## 7.6 Discussion"
      ]
    },
    {
      "cell_type": "markdown",
      "metadata": {
        "id": "BEv4oX0Ge1eh"
      },
      "source": [
        "In this section, we have built models to predict both repayment interval and loan activity as multi-targets. First, we encoded both target variables. Next, we fit the data for KNN and RF classifiers. This allowed us to use user input for each of the other variables and predict the repayment interval and activity of that loan. This was an experimental section, and we do not have accuracy measures to make conclusions, however, it is quite interesting to play around with. This could be a useful tool to Kiva borrowers and lenders in determining the repayment interval or activity of missing data or future loans."
      ]
    }
  ]
}